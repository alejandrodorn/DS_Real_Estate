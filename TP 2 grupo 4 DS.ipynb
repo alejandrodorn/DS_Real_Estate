{
 "cells": [
  {
   "cell_type": "code",
   "execution_count": 1,
   "metadata": {},
   "outputs": [],
   "source": [
    "import pandas as pd\n",
    "import numpy as np\n",
    "import re\n",
    "import seaborn as sns\n",
    "import matplotlib as mpl\n",
    "import matplotlib.pyplot as plt"
   ]
  },
  {
   "cell_type": "code",
   "execution_count": 2,
   "metadata": {},
   "outputs": [
    {
     "name": "stdout",
     "output_type": "stream",
     "text": [
      "(121220, 26)\n",
      "Index(['Unnamed: 0', 'operation', 'property_type', 'place_name',\n",
      "       'place_with_parent_names', 'country_name', 'state_name', 'geonames_id',\n",
      "       'lat-lon', 'lat', 'lon', 'price', 'currency',\n",
      "       'price_aprox_local_currency', 'price_aprox_usd', 'surface_total_in_m2',\n",
      "       'surface_covered_in_m2', 'price_usd_per_m2', 'price_per_m2', 'floor',\n",
      "       'rooms', 'expenses', 'properati_url', 'description', 'title',\n",
      "       'image_thumbnail'],\n",
      "      dtype='object')\n"
     ]
    },
    {
     "data": {
      "text/html": [
       "<div>\n",
       "<style scoped>\n",
       "    .dataframe tbody tr th:only-of-type {\n",
       "        vertical-align: middle;\n",
       "    }\n",
       "\n",
       "    .dataframe tbody tr th {\n",
       "        vertical-align: top;\n",
       "    }\n",
       "\n",
       "    .dataframe thead th {\n",
       "        text-align: right;\n",
       "    }\n",
       "</style>\n",
       "<table border=\"1\" class=\"dataframe\">\n",
       "  <thead>\n",
       "    <tr style=\"text-align: right;\">\n",
       "      <th></th>\n",
       "      <th>Unnamed: 0</th>\n",
       "      <th>operation</th>\n",
       "      <th>property_type</th>\n",
       "      <th>place_name</th>\n",
       "      <th>place_with_parent_names</th>\n",
       "      <th>country_name</th>\n",
       "      <th>state_name</th>\n",
       "      <th>geonames_id</th>\n",
       "      <th>lat-lon</th>\n",
       "      <th>lat</th>\n",
       "      <th>...</th>\n",
       "      <th>surface_covered_in_m2</th>\n",
       "      <th>price_usd_per_m2</th>\n",
       "      <th>price_per_m2</th>\n",
       "      <th>floor</th>\n",
       "      <th>rooms</th>\n",
       "      <th>expenses</th>\n",
       "      <th>properati_url</th>\n",
       "      <th>description</th>\n",
       "      <th>title</th>\n",
       "      <th>image_thumbnail</th>\n",
       "    </tr>\n",
       "  </thead>\n",
       "  <tbody>\n",
       "    <tr>\n",
       "      <th>0</th>\n",
       "      <td>0</td>\n",
       "      <td>sell</td>\n",
       "      <td>PH</td>\n",
       "      <td>Mataderos</td>\n",
       "      <td>|Argentina|Capital Federal|Mataderos|</td>\n",
       "      <td>Argentina</td>\n",
       "      <td>Capital Federal</td>\n",
       "      <td>3430787.0</td>\n",
       "      <td>-34.6618237,-58.5088387</td>\n",
       "      <td>-34.661824</td>\n",
       "      <td>...</td>\n",
       "      <td>40.0</td>\n",
       "      <td>1127.272727</td>\n",
       "      <td>1550.000000</td>\n",
       "      <td>NaN</td>\n",
       "      <td>NaN</td>\n",
       "      <td>NaN</td>\n",
       "      <td>http://www.properati.com.ar/15bo8_venta_ph_mat...</td>\n",
       "      <td>2 AMBIENTES TIPO CASA PLANTA BAJA POR PASILLO,...</td>\n",
       "      <td>2 AMB TIPO CASA SIN EXPENSAS EN PB</td>\n",
       "      <td>https://thumbs4.properati.com/8/BluUYiHJLhgIIK...</td>\n",
       "    </tr>\n",
       "    <tr>\n",
       "      <th>1</th>\n",
       "      <td>1</td>\n",
       "      <td>sell</td>\n",
       "      <td>apartment</td>\n",
       "      <td>La Plata</td>\n",
       "      <td>|Argentina|Bs.As. G.B.A. Zona Sur|La Plata|</td>\n",
       "      <td>Argentina</td>\n",
       "      <td>Bs.As. G.B.A. Zona Sur</td>\n",
       "      <td>3432039.0</td>\n",
       "      <td>-34.9038831,-57.9643295</td>\n",
       "      <td>-34.903883</td>\n",
       "      <td>...</td>\n",
       "      <td>NaN</td>\n",
       "      <td>NaN</td>\n",
       "      <td>NaN</td>\n",
       "      <td>NaN</td>\n",
       "      <td>NaN</td>\n",
       "      <td>NaN</td>\n",
       "      <td>http://www.properati.com.ar/15bob_venta_depart...</td>\n",
       "      <td>Venta de departamento en décimo piso al frente...</td>\n",
       "      <td>VENTA Depto 2 dorm. a estrenar 7 e/ 36 y 37   ...</td>\n",
       "      <td>https://thumbs4.properati.com/7/ikpVBu2ztHA7jv...</td>\n",
       "    </tr>\n",
       "    <tr>\n",
       "      <th>2</th>\n",
       "      <td>2</td>\n",
       "      <td>sell</td>\n",
       "      <td>apartment</td>\n",
       "      <td>Mataderos</td>\n",
       "      <td>|Argentina|Capital Federal|Mataderos|</td>\n",
       "      <td>Argentina</td>\n",
       "      <td>Capital Federal</td>\n",
       "      <td>3430787.0</td>\n",
       "      <td>-34.6522615,-58.5229825</td>\n",
       "      <td>-34.652262</td>\n",
       "      <td>...</td>\n",
       "      <td>55.0</td>\n",
       "      <td>1309.090909</td>\n",
       "      <td>1309.090909</td>\n",
       "      <td>NaN</td>\n",
       "      <td>NaN</td>\n",
       "      <td>NaN</td>\n",
       "      <td>http://www.properati.com.ar/15bod_venta_depart...</td>\n",
       "      <td>2 AMBIENTES 3ER PISO LATERAL LIVING COMEDOR AM...</td>\n",
       "      <td>2 AMB 3ER PISO CON ASCENSOR APTO CREDITO</td>\n",
       "      <td>https://thumbs4.properati.com/5/SXKr34F_IwG3W_...</td>\n",
       "    </tr>\n",
       "  </tbody>\n",
       "</table>\n",
       "<p>3 rows × 26 columns</p>\n",
       "</div>"
      ],
      "text/plain": [
       "   Unnamed: 0 operation property_type place_name  \\\n",
       "0           0      sell            PH  Mataderos   \n",
       "1           1      sell     apartment   La Plata   \n",
       "2           2      sell     apartment  Mataderos   \n",
       "\n",
       "                       place_with_parent_names country_name  \\\n",
       "0        |Argentina|Capital Federal|Mataderos|    Argentina   \n",
       "1  |Argentina|Bs.As. G.B.A. Zona Sur|La Plata|    Argentina   \n",
       "2        |Argentina|Capital Federal|Mataderos|    Argentina   \n",
       "\n",
       "               state_name  geonames_id                  lat-lon        lat  \\\n",
       "0         Capital Federal    3430787.0  -34.6618237,-58.5088387 -34.661824   \n",
       "1  Bs.As. G.B.A. Zona Sur    3432039.0  -34.9038831,-57.9643295 -34.903883   \n",
       "2         Capital Federal    3430787.0  -34.6522615,-58.5229825 -34.652262   \n",
       "\n",
       "   ...  surface_covered_in_m2  price_usd_per_m2 price_per_m2  floor  rooms  \\\n",
       "0  ...                   40.0       1127.272727  1550.000000    NaN    NaN   \n",
       "1  ...                    NaN               NaN          NaN    NaN    NaN   \n",
       "2  ...                   55.0       1309.090909  1309.090909    NaN    NaN   \n",
       "\n",
       "   expenses                                      properati_url  \\\n",
       "0       NaN  http://www.properati.com.ar/15bo8_venta_ph_mat...   \n",
       "1       NaN  http://www.properati.com.ar/15bob_venta_depart...   \n",
       "2       NaN  http://www.properati.com.ar/15bod_venta_depart...   \n",
       "\n",
       "                                         description  \\\n",
       "0  2 AMBIENTES TIPO CASA PLANTA BAJA POR PASILLO,...   \n",
       "1  Venta de departamento en décimo piso al frente...   \n",
       "2  2 AMBIENTES 3ER PISO LATERAL LIVING COMEDOR AM...   \n",
       "\n",
       "                                               title  \\\n",
       "0                 2 AMB TIPO CASA SIN EXPENSAS EN PB   \n",
       "1  VENTA Depto 2 dorm. a estrenar 7 e/ 36 y 37   ...   \n",
       "2           2 AMB 3ER PISO CON ASCENSOR APTO CREDITO   \n",
       "\n",
       "                                     image_thumbnail  \n",
       "0  https://thumbs4.properati.com/8/BluUYiHJLhgIIK...  \n",
       "1  https://thumbs4.properati.com/7/ikpVBu2ztHA7jv...  \n",
       "2  https://thumbs4.properati.com/5/SXKr34F_IwG3W_...  \n",
       "\n",
       "[3 rows x 26 columns]"
      ]
     },
     "execution_count": 2,
     "metadata": {},
     "output_type": "execute_result"
    }
   ],
   "source": [
    "direccion= \"../Data/properati5.csv\"\n",
    "data_original=pd.read_csv(direccion, sep=',')\n",
    "print(data_original.shape)\n",
    "print(data_original.columns)\n",
    "data_original.head(3)"
   ]
  },
  {
   "cell_type": "markdown",
   "metadata": {},
   "source": [
    "#### Análisis general \n",
    "Se crean funciones para haer un análisis general del dataset:"
   ]
  },
  {
   "cell_type": "code",
   "execution_count": 3,
   "metadata": {},
   "outputs": [],
   "source": [
    "def data_creacion(data_original):\n",
    "    #nulls por fila original\n",
    "    data_original[\"null_fila\"]=data_original.isnull().sum(axis=1)\n",
    "    \n",
    "    #nulls por fila\n",
    "    campos_ignorar= [\"floor\",\"rooms\",\"expenses\",\"geonames_id\",\"lat-lon\",\"lat\",\"lon\"]\n",
    "    data_pocos_campos_nulos=data_original.drop(campos_ignorar,axis=1)\n",
    "    data_pocos_campos_nulos[\"null_fila\"]=data_pocos_campos_nulos.isnull().sum(axis=1)\n",
    "\n",
    "    #categoricas - numericas\n",
    "    columnas_categorica=data_original.select_dtypes(include=\"object\").columns\n",
    "    data_categorica=data_original.loc[:,columnas_categorica]\n",
    "    data_numerica=data_original.drop(columnas_categorica,axis=1)\n",
    "    \n",
    "    return data_categorica,data_numerica,data_pocos_campos_nulos\n"
   ]
  },
  {
   "cell_type": "code",
   "execution_count": 4,
   "metadata": {},
   "outputs": [],
   "source": [
    "data_categorica,data_numerica,data_pocos_campos_nulos=data_creacion(data_original)\n"
   ]
  },
  {
   "cell_type": "markdown",
   "metadata": {},
   "source": [
    "Se observan los nulos en las *columnas* para tratar de analizar que datos es posible imputar y que columnas se deberán eliminar."
   ]
  },
  {
   "cell_type": "code",
   "execution_count": 5,
   "metadata": {},
   "outputs": [
    {
     "data": {
      "text/plain": [
       "Unnamed: 0                     0.000000\n",
       "operation                      0.000000\n",
       "property_type                  0.000000\n",
       "place_name                     0.018974\n",
       "place_with_parent_names        0.000000\n",
       "country_name                   0.000000\n",
       "state_name                     0.000000\n",
       "geonames_id                   15.440521\n",
       "lat-lon                       42.525986\n",
       "lat                           42.525986\n",
       "lon                           42.525986\n",
       "price                         16.837156\n",
       "currency                      16.837981\n",
       "price_aprox_local_currency    16.837156\n",
       "price_aprox_usd               16.837156\n",
       "surface_total_in_m2           32.443491\n",
       "surface_covered_in_m2         16.422208\n",
       "price_usd_per_m2              43.394654\n",
       "price_per_m2                  27.686850\n",
       "floor                         93.483749\n",
       "rooms                         60.905791\n",
       "expenses                      88.234615\n",
       "properati_url                  0.000000\n",
       "description                    0.001650\n",
       "title                          0.000000\n",
       "image_thumbnail                2.567233\n",
       "null_fila                      0.000000\n",
       "dtype: float64"
      ]
     },
     "execution_count": 5,
     "metadata": {},
     "output_type": "execute_result"
    }
   ],
   "source": [
    "# Nulls Columnas\n",
    "data_original.isnull().sum()*100/data_original.shape[0]\n"
   ]
  },
  {
   "cell_type": "markdown",
   "metadata": {},
   "source": [
    "#### Duplicados\n",
    "\n",
    "En primer lugar se analiza si hay registros *duplicados*. Se examinan los registros que comparten los valores en las columnas **state_name**, **place_name**, **title**, **surface_total_in_m2**, **description**, **price_usd_per_m2** e **image_thumbnail**. Dado que es posible que en un mismo edificio haya publicaciones similares en los casos de desarrollos inmobiliarios (pozo), se define analizar por un lado los registros donde la columna **propery_type** no sea \"aparment\" y por el otro, en el caso de los registros de \"apartment\", se observará si corresponden o no a la misma propiedad a traves de la revisión de **descripcion** y **título**. "
   ]
  },
  {
   "cell_type": "code",
   "execution_count": 6,
   "metadata": {},
   "outputs": [
    {
     "data": {
      "text/plain": [
       "(172, 27)"
      ]
     },
     "execution_count": 6,
     "metadata": {},
     "output_type": "execute_result"
    }
   ],
   "source": [
    "contador_busqueda_mask= data_original.duplicated([\"state_name\",\"place_name\",\"title\",\"surface_total_in_m2\",\"description\",\"price_usd_per_m2\",\"image_thumbnail\"],keep=\"first\")\n",
    "contador_busqueda=data_original.loc[contador_busqueda_mask]\n",
    "no_apartament=contador_busqueda.property_type!=\"apartment\"\n",
    "no_apartamentm=contador_busqueda[no_apartament]\n",
    "no_apartamentm.shape"
   ]
  },
  {
   "cell_type": "code",
   "execution_count": 7,
   "metadata": {},
   "outputs": [
    {
     "data": {
      "text/plain": [
       "(1551, 27)"
      ]
     },
     "execution_count": 7,
     "metadata": {},
     "output_type": "execute_result"
    }
   ],
   "source": [
    "contador_busqueda_mask= data_original.duplicated([\"state_name\",\"place_name\",\"title\",\"surface_total_in_m2\",\"description\",\"price_usd_per_m2\",\"image_thumbnail\"],keep=\"first\")\n",
    "contador_busqueda=data_original.loc[contador_busqueda_mask]\n",
    "apartmentmask=contador_busqueda.property_type==\"apartment\"\n",
    "apartment=contador_busqueda[apartmentmask]\n",
    "apartment.shape"
   ]
  },
  {
   "cell_type": "code",
   "execution_count": 8,
   "metadata": {},
   "outputs": [
    {
     "data": {
      "text/plain": [
       "245    Departamentos monoambiente, zona parque Indepe...\n",
       "247    Departamentos monoambiente, zona parque Indepe...\n",
       "248    Departamentos monoambiente, zona parque Indepe...\n",
       "249    Departamentos monoambiente, zona parque Indepe...\n",
       "250    Departamentos monoambiente, zona parque Indepe...\n",
       "959           Departamento en Venta ubicado en Chacarita\n",
       "960           Departamento en Venta ubicado en Chacarita\n",
       "970           Departamento en Venta ubicado en Chacarita\n",
       "971           Departamento en Venta ubicado en Chacarita\n",
       "972           Departamento en Venta ubicado en Chacarita\n",
       "Name: title, dtype: object"
      ]
     },
     "execution_count": 8,
     "metadata": {},
     "output_type": "execute_result"
    }
   ],
   "source": [
    "apartment[\"title\"].head(10)"
   ]
  },
  {
   "cell_type": "code",
   "execution_count": 9,
   "metadata": {},
   "outputs": [
    {
     "data": {
      "text/plain": [
       "245    Departamento de un ambiente al contrafrente co...\n",
       "247    Departamento de un ambiente al contrafrente co...\n",
       "248    Departamento de un ambiente al contrafrente co...\n",
       "249    Departamento de un ambiente al contrafrente co...\n",
       "250    Departamento de un ambiente al contrafrente co...\n",
       "959    Venta - Departamento - Argentina, Buenos Aires...\n",
       "960    Venta - Departamento - Argentina, Buenos Aires...\n",
       "970    Venta - Departamento - Argentina, Buenos Aires...\n",
       "971    Venta - Departamento - Argentina, Buenos Aires...\n",
       "972    Venta - Departamento - Argentina, Buenos Aires...\n",
       "Name: description, dtype: object"
      ]
     },
     "execution_count": 9,
     "metadata": {},
     "output_type": "execute_result"
    }
   ],
   "source": [
    "apartment[\"description\"].head(10)"
   ]
  },
  {
   "cell_type": "markdown",
   "metadata": {},
   "source": [
    "Conlcuimos que no se podía determinar si corresponden a desarrollos inmobiliarios, por lo cual se define eliminar los duplicados considerando como tales a los registros que tengan los mismos valores en las columnas **state_name**, **place_name**, **title**, **surface_total_in_m2**, **description**, **price_usd_per_m2** e **image_thumbnail**."
   ]
  },
  {
   "cell_type": "code",
   "execution_count": 10,
   "metadata": {},
   "outputs": [],
   "source": [
    "data_original= data_original.drop_duplicates([\"state_name\",\"place_name\",\"title\",\"surface_total_in_m2\",\"description\",\"price_usd_per_m2\",\"image_thumbnail\"],keep=\"first\")"
   ]
  },
  {
   "cell_type": "markdown",
   "metadata": {},
   "source": [
    "#### Columas \"floor\" y \"expenses\"\n",
    "\n",
    "Las columnas **\"floor\"** y **\"expenses\"** tienen un porcentaje muy importante de nulos. Se analiza si los nulos corresponden a los registros que no son apartment, en cuyo caso sería correcto que estén vacíos.&nbsp;\n",
    "\n",
    "\n",
    "Se observa que en \"apartment\" también es muy alto el porcentaje de nulos por lo que se define eliminar la columna (será realizado al finalizar la limpieza de datos).\n",
    "\n"
   ]
  },
  {
   "cell_type": "code",
   "execution_count": 11,
   "metadata": {},
   "outputs": [
    {
     "data": {
      "text/plain": [
       "Unnamed: 0                     0.000000\n",
       "operation                      0.000000\n",
       "property_type                  0.000000\n",
       "place_name                     0.001439\n",
       "place_with_parent_names        0.000000\n",
       "country_name                   0.000000\n",
       "state_name                     0.000000\n",
       "geonames_id                   12.361539\n",
       "lat-lon                       40.896798\n",
       "lat                           40.896798\n",
       "lon                           40.896798\n",
       "price                         15.327848\n",
       "currency                      15.327848\n",
       "price_aprox_local_currency    15.327848\n",
       "price_aprox_usd               15.327848\n",
       "surface_total_in_m2           27.749806\n",
       "surface_covered_in_m2         15.619875\n",
       "price_usd_per_m2              38.661277\n",
       "price_per_m2                  25.898380\n",
       "floor                         90.637857\n",
       "rooms                         55.535576\n",
       "expenses                      84.019047\n",
       "properati_url                  0.000000\n",
       "description                    0.002877\n",
       "title                          0.000000\n",
       "image_thumbnail                2.228328\n",
       "null_fila                      0.000000\n",
       "dtype: float64"
      ]
     },
     "execution_count": 11,
     "metadata": {},
     "output_type": "execute_result"
    }
   ],
   "source": [
    "mask_apart = data_original[\"property_type\"] ==\"apartment\"\n",
    "data_apart = data_original.loc[mask_apart, :]\n",
    "data_apart.isnull().sum()*100/data_apart.shape[0]"
   ]
  },
  {
   "cell_type": "markdown",
   "metadata": {},
   "source": [
    "#### Columna \"rooms\"\n",
    "\n",
    "Se observan muchos nulos en la columna **\"rooms\"**, se intentará recuperar esta infomación a través de la búsqueda con expresiones regulares en **description** de \"Ambientes\" y \"Habitaciones (sabiendo que no son sinonimos con el fin de conocer con qué información se cuenta). Se generan nuevas columnas con estos valores y se evalúa la cantidad de nulos. "
   ]
  },
  {
   "cell_type": "code",
   "execution_count": 12,
   "metadata": {},
   "outputs": [],
   "source": [
    "def patron_ambientes(data, patron):\n",
    "    patron_ambientes = patron\n",
    "    regex = re.compile(patron_ambientes, flags= re.IGNORECASE)\n",
    "    ambientes_descripcion = data[\"description\"].apply(lambda x:None if x is np.NaN else regex.search(x))\n",
    "    return ambientes_descripcion"
   ]
  },
  {
   "cell_type": "code",
   "execution_count": 13,
   "metadata": {},
   "outputs": [
    {
     "name": "stdout",
     "output_type": "stream",
     "text": [
      "37742\n"
     ]
    }
   ],
   "source": [
    "ambientes_descripcion = patron_ambientes(data_original, \"(?P<cantidad_ambientes>\\d+)\\s*amb\\D*\")\n",
    "\n",
    "print(ambientes_descripcion.notnull().sum())"
   ]
  },
  {
   "cell_type": "code",
   "execution_count": 14,
   "metadata": {},
   "outputs": [],
   "source": [
    "cantidad_ambientes_descripcion = ambientes_descripcion.apply(lambda x: x if x is None else x.group(\"cantidad_ambientes\"))\n",
    "rooms=data_original[\"rooms\"]"
   ]
  },
  {
   "cell_type": "code",
   "execution_count": 15,
   "metadata": {},
   "outputs": [
    {
     "name": "stdout",
     "output_type": "stream",
     "text": [
      "porcentaje de nulos:  [44.74338268]\n"
     ]
    }
   ],
   "source": [
    "#Agregamos la cantidad de ambientes definida en la descrpición a la columna rooms y analizamos la cantidad de nulos\n",
    "\n",
    "ambientes = rooms.combine_first(cantidad_ambientes_descripcion)\n",
    "print(\"porcentaje de nulos: \", ambientes.isnull().sum()*100/ambientes.shape)"
   ]
  },
  {
   "cell_type": "code",
   "execution_count": 16,
   "metadata": {},
   "outputs": [
    {
     "name": "stdout",
     "output_type": "stream",
     "text": [
      "2749\n"
     ]
    }
   ],
   "source": [
    "#Agregamos la cantidad de habitaciones definida en la descrpición a la columna rooms y analizamos la cantidad de nulos:\n",
    "\n",
    "habitaciones_descripcion = patron_ambientes(data_original, \"(?P<habitaciones>\\d+)\\s*habitacion\\D*\")\n",
    "print(habitaciones_descripcion.notnull().sum())"
   ]
  },
  {
   "cell_type": "code",
   "execution_count": 17,
   "metadata": {},
   "outputs": [
    {
     "name": "stdout",
     "output_type": "stream",
     "text": [
      "porcentaje de nulos:  [43.74252073]\n"
     ]
    }
   ],
   "source": [
    "cantidad_habitacioness_descripcion = habitaciones_descripcion.apply(lambda x: x if x is None else x.group(\"habitaciones\"))\n",
    "ambientes_hab = ambientes.combine_first(cantidad_habitacioness_descripcion)\n",
    "print(\"porcentaje de nulos: \", ambientes_hab.isnull().sum()*100/ambientes.shape)"
   ]
  },
  {
   "cell_type": "markdown",
   "metadata": {},
   "source": [
    "Dado que el procentaje de información nula es muy alta, se define eliminar la columna **rooms** (será realizado al finalizar la limpieza de datos)."
   ]
  },
  {
   "cell_type": "markdown",
   "metadata": {},
   "source": [
    "#### Ubicación\n",
    "\n",
    "Se define qué variables utilizar para la ubicación de la propiedad.&nbsp;\n",
    "\n",
    "Hay 4 columnas en el dataset:&nbsp;\n",
    "\n",
    "**country_name**: Corresponde al país, en todos los casos el valor es \"Argentina\".&nbsp;\n",
    "\n",
    "**state_name**: Corresponde a las provincias y se encuentra completa.&nbsp;\n",
    "\n",
    "**place_with_parent_names**: Está formada por distintos valores separados por \"|\", país, provincia, localidad (o barrio en Capital Federal) y barrio.&nbsp;\n",
    "\n",
    "**place_name**: Corresponde al último registro de \"place_with_parents_names\", dependiendo el caso se refiere a la provincia, la localidad o el barrio.&nbsp;\n",
    "\n",
    "Se realizará un análisis de cada una.\n"
   ]
  },
  {
   "cell_type": "markdown",
   "metadata": {},
   "source": [
    "La columna **country_name** tiene en todos los registros el mismo valor: \"Argentina\", por lo que se define eliminar esta columna (será realizado al finalizar la limpieza de datos)"
   ]
  },
  {
   "cell_type": "code",
   "execution_count": 18,
   "metadata": {},
   "outputs": [
    {
     "data": {
      "text/plain": [
       "Argentina    119497\n",
       "Name: country_name, dtype: int64"
      ]
     },
     "execution_count": 18,
     "metadata": {},
     "output_type": "execute_result"
    }
   ],
   "source": [
    "data_original[\"country_name\"].value_counts()"
   ]
  },
  {
   "cell_type": "markdown",
   "metadata": {},
   "source": [
    "En la columna **state_name** se observa que \"Bs.As. G.B.A. Zona Norte\", \"Bs.As. G.B.A. Zona Oeste\", \"Bs.As. G.B.A. Zona Sur\", \"Buenos Aires Costa Atlántica\", \"Buenos Aires Interior\", \"Capital Federal\", \"Córdoba\" y \"Santa Fe\" representan el 94.06% del dataset.\n",
    "Respecto de las otras provincias se observan poca cantidad de datos.\n"
   ]
  },
  {
   "cell_type": "code",
   "execution_count": 19,
   "metadata": {},
   "outputs": [
    {
     "name": "stdout",
     "output_type": "stream",
     "text": [
      "state_name\n",
      "Bs.As. G.B.A. Zona Norte        25293\n",
      "Bs.As. G.B.A. Zona Oeste         9304\n",
      "Bs.As. G.B.A. Zona Sur          13863\n",
      "Buenos Aires Costa Atlántica     9955\n",
      "Buenos Aires Interior            2278\n",
      "Capital Federal                 31661\n",
      "Catamarca                          27\n",
      "Chaco                              57\n",
      "Chubut                            259\n",
      "Corrientes                        582\n",
      "Córdoba                         11796\n",
      "Entre Ríos                        369\n",
      "Formosa                            65\n",
      "Jujuy                              26\n",
      "La Pampa                          155\n",
      "La Rioja                            4\n",
      "Mendoza                           677\n",
      "Misiones                          457\n",
      "Neuquén                           713\n",
      "Río Negro                         804\n",
      "Salta                             276\n",
      "San Juan                           40\n",
      "San Luis                          246\n",
      "Santa Cruz                         20\n",
      "Santa Fe                         9866\n",
      "Santiago Del Estero                 4\n",
      "Tierra Del Fuego                   31\n",
      "Tucumán                           669\n",
      "dtype: int64\n",
      "state_name\n",
      "Bs.As. G.B.A. Zona Norte        20.865369\n",
      "Bs.As. G.B.A. Zona Oeste         7.675301\n",
      "Bs.As. G.B.A. Zona Sur          11.436232\n",
      "Buenos Aires Costa Atlántica     8.212341\n",
      "Buenos Aires Interior            1.879228\n",
      "Capital Federal                 26.118627\n",
      "Catamarca                        0.022274\n",
      "Chaco                            0.047022\n",
      "Chubut                           0.213661\n",
      "Corrientes                       0.480119\n",
      "Córdoba                          9.731067\n",
      "Entre Ríos                       0.304405\n",
      "Formosa                          0.053622\n",
      "Jujuy                            0.021449\n",
      "La Pampa                         0.127867\n",
      "La Rioja                         0.003300\n",
      "Mendoza                          0.558489\n",
      "Misiones                         0.377000\n",
      "Neuquén                          0.588187\n",
      "Río Negro                        0.663257\n",
      "Salta                            0.227685\n",
      "San Juan                         0.032998\n",
      "San Luis                         0.202937\n",
      "Santa Cruz                       0.016499\n",
      "Santa Fe                         8.138921\n",
      "Santiago Del Estero              0.003300\n",
      "Tierra Del Fuego                 0.025573\n",
      "Tucumán                          0.551889\n",
      "dtype: float64\n"
     ]
    }
   ],
   "source": [
    "data_prov = data_original.groupby(\"state_name\")\n",
    "print(data_prov.size())\n",
    "print(data_prov.size()*100/121220)\n"
   ]
  },
  {
   "cell_type": "markdown",
   "metadata": {},
   "source": [
    "Respecto de la columna **place_name** se observan 23 datos nulos. Se puede observar a través de los valores de la columna **place_with_parent_names** que corresponden a Tigre. Por lo que se define imputar esos valores"
   ]
  },
  {
   "cell_type": "code",
   "execution_count": 20,
   "metadata": {},
   "outputs": [
    {
     "name": "stdout",
     "output_type": "stream",
     "text": [
      "23\n"
     ]
    },
    {
     "data": {
      "text/html": [
       "<div>\n",
       "<style scoped>\n",
       "    .dataframe tbody tr th:only-of-type {\n",
       "        vertical-align: middle;\n",
       "    }\n",
       "\n",
       "    .dataframe tbody tr th {\n",
       "        vertical-align: top;\n",
       "    }\n",
       "\n",
       "    .dataframe thead th {\n",
       "        text-align: right;\n",
       "    }\n",
       "</style>\n",
       "<table border=\"1\" class=\"dataframe\">\n",
       "  <thead>\n",
       "    <tr style=\"text-align: right;\">\n",
       "      <th></th>\n",
       "      <th>Unnamed: 0</th>\n",
       "      <th>operation</th>\n",
       "      <th>property_type</th>\n",
       "      <th>place_name</th>\n",
       "      <th>place_with_parent_names</th>\n",
       "      <th>country_name</th>\n",
       "      <th>state_name</th>\n",
       "      <th>geonames_id</th>\n",
       "      <th>lat-lon</th>\n",
       "      <th>lat</th>\n",
       "      <th>...</th>\n",
       "      <th>price_usd_per_m2</th>\n",
       "      <th>price_per_m2</th>\n",
       "      <th>floor</th>\n",
       "      <th>rooms</th>\n",
       "      <th>expenses</th>\n",
       "      <th>properati_url</th>\n",
       "      <th>description</th>\n",
       "      <th>title</th>\n",
       "      <th>image_thumbnail</th>\n",
       "      <th>null_fila</th>\n",
       "    </tr>\n",
       "  </thead>\n",
       "  <tbody>\n",
       "    <tr>\n",
       "      <th>6489</th>\n",
       "      <td>6489</td>\n",
       "      <td>sell</td>\n",
       "      <td>house</td>\n",
       "      <td>NaN</td>\n",
       "      <td>|Argentina|Bs.As. G.B.A. Zona Norte|Tigre||</td>\n",
       "      <td>Argentina</td>\n",
       "      <td>Bs.As. G.B.A. Zona Norte</td>\n",
       "      <td>NaN</td>\n",
       "      <td>-34.4008968545,-58.63809847</td>\n",
       "      <td>-34.400897</td>\n",
       "      <td>...</td>\n",
       "      <td>2708.333333</td>\n",
       "      <td>2708.333333</td>\n",
       "      <td>NaN</td>\n",
       "      <td>NaN</td>\n",
       "      <td>NaN</td>\n",
       "      <td>http://www.properati.com.ar/15ui7_venta_casa_t...</td>\n",
       "      <td>Espectacular casa moderna de una planta, con a...</td>\n",
       "      <td>Venta de casa en Santa María de Tigre</td>\n",
       "      <td>https://thumbs4.properati.com/7/vQjgbHSz1fKXxy...</td>\n",
       "      <td>5</td>\n",
       "    </tr>\n",
       "    <tr>\n",
       "      <th>10201</th>\n",
       "      <td>10201</td>\n",
       "      <td>sell</td>\n",
       "      <td>house</td>\n",
       "      <td>NaN</td>\n",
       "      <td>|Argentina|Bs.As. G.B.A. Zona Norte|Tigre||</td>\n",
       "      <td>Argentina</td>\n",
       "      <td>Bs.As. G.B.A. Zona Norte</td>\n",
       "      <td>NaN</td>\n",
       "      <td>-34.400704,-58.638067</td>\n",
       "      <td>-34.400704</td>\n",
       "      <td>...</td>\n",
       "      <td>NaN</td>\n",
       "      <td>1783.333333</td>\n",
       "      <td>NaN</td>\n",
       "      <td>5.0</td>\n",
       "      <td>NaN</td>\n",
       "      <td>http://www.properati.com.ar/166p5_venta_casa_t...</td>\n",
       "      <td>Corredor Responsable: SABRINA COCCONI - CSI 62...</td>\n",
       "      <td>VENTA CASA SANTA MARÍA DE TIGRE COUNTRY BARRIO...</td>\n",
       "      <td>https://thumbs4.properati.com/1/FABpKIJMaoAO3t...</td>\n",
       "      <td>6</td>\n",
       "    </tr>\n",
       "    <tr>\n",
       "      <th>11451</th>\n",
       "      <td>11451</td>\n",
       "      <td>sell</td>\n",
       "      <td>house</td>\n",
       "      <td>NaN</td>\n",
       "      <td>|Argentina|Bs.As. G.B.A. Zona Norte|Tigre||</td>\n",
       "      <td>Argentina</td>\n",
       "      <td>Bs.As. G.B.A. Zona Norte</td>\n",
       "      <td>NaN</td>\n",
       "      <td>-34.4026880384,-58.6262613379</td>\n",
       "      <td>-34.402688</td>\n",
       "      <td>...</td>\n",
       "      <td>253.456221</td>\n",
       "      <td>2037.037037</td>\n",
       "      <td>NaN</td>\n",
       "      <td>NaN</td>\n",
       "      <td>NaN</td>\n",
       "      <td>http://www.properati.com.ar/16bpd_venta_casa_t...</td>\n",
       "      <td>MUY LINDA CASA EN EXCELENTE UBICACION!! Superf...</td>\n",
       "      <td>SANTA MARIA DE TIGRE IMPECABLE</td>\n",
       "      <td>https://thumbs4.properati.com/5/fwH9L71hW2rW7V...</td>\n",
       "      <td>5</td>\n",
       "    </tr>\n",
       "    <tr>\n",
       "      <th>14839</th>\n",
       "      <td>14839</td>\n",
       "      <td>sell</td>\n",
       "      <td>house</td>\n",
       "      <td>NaN</td>\n",
       "      <td>|Argentina|Bs.As. G.B.A. Zona Norte|Tigre||</td>\n",
       "      <td>Argentina</td>\n",
       "      <td>Bs.As. G.B.A. Zona Norte</td>\n",
       "      <td>NaN</td>\n",
       "      <td>-34.4007994779,-58.6381735719</td>\n",
       "      <td>-34.400799</td>\n",
       "      <td>...</td>\n",
       "      <td>2000.000000</td>\n",
       "      <td>2400.000000</td>\n",
       "      <td>NaN</td>\n",
       "      <td>NaN</td>\n",
       "      <td>NaN</td>\n",
       "      <td>http://www.properati.com.ar/16tal_venta_casa_b...</td>\n",
       "      <td>Muy linda casa de estilo clásico.-Planta baja;...</td>\n",
       "      <td>Venta de casa en Santa María de Tigre</td>\n",
       "      <td>https://thumbs4.properati.com/1/3ZbPSffTY38y7v...</td>\n",
       "      <td>5</td>\n",
       "    </tr>\n",
       "    <tr>\n",
       "      <th>18622</th>\n",
       "      <td>18622</td>\n",
       "      <td>sell</td>\n",
       "      <td>house</td>\n",
       "      <td>NaN</td>\n",
       "      <td>|Argentina|Bs.As. G.B.A. Zona Norte|Tigre||</td>\n",
       "      <td>Argentina</td>\n",
       "      <td>Bs.As. G.B.A. Zona Norte</td>\n",
       "      <td>NaN</td>\n",
       "      <td>-34.4032781195,-58.6263503945</td>\n",
       "      <td>-34.403278</td>\n",
       "      <td>...</td>\n",
       "      <td>3814.705882</td>\n",
       "      <td>3814.705882</td>\n",
       "      <td>NaN</td>\n",
       "      <td>NaN</td>\n",
       "      <td>NaN</td>\n",
       "      <td>http://www.properati.com.ar/177ee_venta_casa_t...</td>\n",
       "      <td>Casa con increible vista al lago con playa de...</td>\n",
       "      <td>Casa con increible vista al lago con playa y m...</td>\n",
       "      <td>https://thumbs4.properati.com/0/52JCH1PKYCOMe6...</td>\n",
       "      <td>5</td>\n",
       "    </tr>\n",
       "    <tr>\n",
       "      <th>21922</th>\n",
       "      <td>21922</td>\n",
       "      <td>sell</td>\n",
       "      <td>house</td>\n",
       "      <td>NaN</td>\n",
       "      <td>|Argentina|Bs.As. G.B.A. Zona Norte|Tigre||</td>\n",
       "      <td>Argentina</td>\n",
       "      <td>Bs.As. G.B.A. Zona Norte</td>\n",
       "      <td>NaN</td>\n",
       "      <td>-34.399704,-58.638405</td>\n",
       "      <td>-34.399704</td>\n",
       "      <td>...</td>\n",
       "      <td>NaN</td>\n",
       "      <td>2000.000000</td>\n",
       "      <td>NaN</td>\n",
       "      <td>5.0</td>\n",
       "      <td>NaN</td>\n",
       "      <td>http://www.properati.com.ar/17gy5_venta_casa_s...</td>\n",
       "      <td>Corredor Responsable: Matias Castelli - CUCICB...</td>\n",
       "      <td>Venta Casa - Barrio Santa Maria de Tigre</td>\n",
       "      <td>https://thumbs4.properati.com/8/oO7kmFPYNm8DYr...</td>\n",
       "      <td>6</td>\n",
       "    </tr>\n",
       "    <tr>\n",
       "      <th>23664</th>\n",
       "      <td>23664</td>\n",
       "      <td>sell</td>\n",
       "      <td>house</td>\n",
       "      <td>NaN</td>\n",
       "      <td>|Argentina|Bs.As. G.B.A. Zona Norte|Tigre||</td>\n",
       "      <td>Argentina</td>\n",
       "      <td>Bs.As. G.B.A. Zona Norte</td>\n",
       "      <td>NaN</td>\n",
       "      <td>-34.4005161998,-58.6417999185</td>\n",
       "      <td>-34.400516</td>\n",
       "      <td>...</td>\n",
       "      <td>1632.653061</td>\n",
       "      <td>1632.653061</td>\n",
       "      <td>NaN</td>\n",
       "      <td>NaN</td>\n",
       "      <td>NaN</td>\n",
       "      <td>http://www.properati.com.ar/17mb5_venta_casa_t...</td>\n",
       "      <td>EXCELENTE CASA CLASICA con grandes ventanas y ...</td>\n",
       "      <td>CASA EN VENTA EN SANTA MARIA DE TIGRE CON RENTA</td>\n",
       "      <td>https://thumbs4.properati.com/2/LQCwH6txpFqetn...</td>\n",
       "      <td>5</td>\n",
       "    </tr>\n",
       "    <tr>\n",
       "      <th>24722</th>\n",
       "      <td>24722</td>\n",
       "      <td>sell</td>\n",
       "      <td>house</td>\n",
       "      <td>NaN</td>\n",
       "      <td>|Argentina|Bs.As. G.B.A. Zona Norte|Tigre||</td>\n",
       "      <td>Argentina</td>\n",
       "      <td>Bs.As. G.B.A. Zona Norte</td>\n",
       "      <td>NaN</td>\n",
       "      <td>-34.4007292,-58.6377783</td>\n",
       "      <td>-34.400729</td>\n",
       "      <td>...</td>\n",
       "      <td>1677.215190</td>\n",
       "      <td>1962.962963</td>\n",
       "      <td>NaN</td>\n",
       "      <td>NaN</td>\n",
       "      <td>NaN</td>\n",
       "      <td>http://www.properati.com.ar/17oz1_venta_casa_t...</td>\n",
       "      <td>EN EXCLUSIVIDAD!!!!!!Lindísima casa, muy lumin...</td>\n",
       "      <td>Venta de casa en Santa María de Tigre</td>\n",
       "      <td>https://thumbs4.properati.com/0/Nhx4NejZaQACap...</td>\n",
       "      <td>5</td>\n",
       "    </tr>\n",
       "    <tr>\n",
       "      <th>38856</th>\n",
       "      <td>38856</td>\n",
       "      <td>sell</td>\n",
       "      <td>house</td>\n",
       "      <td>NaN</td>\n",
       "      <td>|Argentina|Bs.As. G.B.A. Zona Norte|Tigre||</td>\n",
       "      <td>Argentina</td>\n",
       "      <td>Bs.As. G.B.A. Zona Norte</td>\n",
       "      <td>NaN</td>\n",
       "      <td>-34.425087,-58.5796585</td>\n",
       "      <td>-34.425087</td>\n",
       "      <td>...</td>\n",
       "      <td>NaN</td>\n",
       "      <td>2454.545455</td>\n",
       "      <td>NaN</td>\n",
       "      <td>NaN</td>\n",
       "      <td>NaN</td>\n",
       "      <td>http://www.properati.com.ar/18mcb_venta_casa_t...</td>\n",
       "      <td>SANTA MARIA DE TIGRE- AL RIO - ESPECTACULAR CA...</td>\n",
       "      <td>Casa (barrio cerrado), Venta</td>\n",
       "      <td>https://thumbs4.properati.com/2/Izq8d5o8ti3kJy...</td>\n",
       "      <td>7</td>\n",
       "    </tr>\n",
       "    <tr>\n",
       "      <th>45970</th>\n",
       "      <td>45970</td>\n",
       "      <td>sell</td>\n",
       "      <td>apartment</td>\n",
       "      <td>NaN</td>\n",
       "      <td>|Argentina|Bs.As. G.B.A. Zona Norte|Tigre||</td>\n",
       "      <td>Argentina</td>\n",
       "      <td>Bs.As. G.B.A. Zona Norte</td>\n",
       "      <td>NaN</td>\n",
       "      <td>-34.396074,-58.63738</td>\n",
       "      <td>-34.396074</td>\n",
       "      <td>...</td>\n",
       "      <td>1727.272727</td>\n",
       "      <td>3518.518519</td>\n",
       "      <td>NaN</td>\n",
       "      <td>1.0</td>\n",
       "      <td>NaN</td>\n",
       "      <td>http://www.properati.com.ar/1958f_venta_depart...</td>\n",
       "      <td>EDIFICIO ZERENA – EL PALMAR, NORDELTA. Torre 2...</td>\n",
       "      <td>Excelente monoambiente. Barrio El Palmar.  Con...</td>\n",
       "      <td>https://thumbs4.properati.com/2/5yvU5E9wOAAzBa...</td>\n",
       "      <td>4</td>\n",
       "    </tr>\n",
       "    <tr>\n",
       "      <th>46642</th>\n",
       "      <td>46642</td>\n",
       "      <td>sell</td>\n",
       "      <td>house</td>\n",
       "      <td>NaN</td>\n",
       "      <td>|Argentina|Bs.As. G.B.A. Zona Norte|Tigre||</td>\n",
       "      <td>Argentina</td>\n",
       "      <td>Bs.As. G.B.A. Zona Norte</td>\n",
       "      <td>NaN</td>\n",
       "      <td>-34.400749,-58.638754</td>\n",
       "      <td>-34.400749</td>\n",
       "      <td>...</td>\n",
       "      <td>NaN</td>\n",
       "      <td>73500.000000</td>\n",
       "      <td>NaN</td>\n",
       "      <td>6.0</td>\n",
       "      <td>NaN</td>\n",
       "      <td>http://www.properati.com.ar/196mk_venta_casa_t...</td>\n",
       "      <td>Corredor Responsable: Matias Castelli - CUCICB...</td>\n",
       "      <td>Venta de Casa al rio</td>\n",
       "      <td>https://thumbs4.properati.com/9/ACeODr7N9CYr9T...</td>\n",
       "      <td>6</td>\n",
       "    </tr>\n",
       "    <tr>\n",
       "      <th>53130</th>\n",
       "      <td>53130</td>\n",
       "      <td>sell</td>\n",
       "      <td>house</td>\n",
       "      <td>NaN</td>\n",
       "      <td>|Argentina|Bs.As. G.B.A. Zona Norte|Tigre||</td>\n",
       "      <td>Argentina</td>\n",
       "      <td>Bs.As. G.B.A. Zona Norte</td>\n",
       "      <td>NaN</td>\n",
       "      <td>-34.400978,-58.637809</td>\n",
       "      <td>-34.400978</td>\n",
       "      <td>...</td>\n",
       "      <td>630.000000</td>\n",
       "      <td>1702.702703</td>\n",
       "      <td>NaN</td>\n",
       "      <td>NaN</td>\n",
       "      <td>NaN</td>\n",
       "      <td>http://www.properati.com.ar/19kkw_venta_casa_t...</td>\n",
       "      <td>Excelente casa en Venta en B° Santa Maria de T...</td>\n",
       "      <td>Casa en Venta</td>\n",
       "      <td>https://thumbs4.properati.com/0/3G0TgAjQbNN385...</td>\n",
       "      <td>5</td>\n",
       "    </tr>\n",
       "    <tr>\n",
       "      <th>55306</th>\n",
       "      <td>55306</td>\n",
       "      <td>sell</td>\n",
       "      <td>house</td>\n",
       "      <td>NaN</td>\n",
       "      <td>|Argentina|Bs.As. G.B.A. Zona Norte|Tigre||</td>\n",
       "      <td>Argentina</td>\n",
       "      <td>Bs.As. G.B.A. Zona Norte</td>\n",
       "      <td>NaN</td>\n",
       "      <td>-34.3996311,-58.6433121</td>\n",
       "      <td>-34.399631</td>\n",
       "      <td>...</td>\n",
       "      <td>1850.393701</td>\n",
       "      <td>2303.921569</td>\n",
       "      <td>NaN</td>\n",
       "      <td>NaN</td>\n",
       "      <td>NaN</td>\n",
       "      <td>http://www.properati.com.ar/19ouh_venta_casa_t...</td>\n",
       "      <td>Muy linda casa de dos plantas en lote interno ...</td>\n",
       "      <td>Santa María de Tigre. Casa con amarra.</td>\n",
       "      <td>https://thumbs4.properati.com/7/6CoXZSzRyyYJBA...</td>\n",
       "      <td>5</td>\n",
       "    </tr>\n",
       "    <tr>\n",
       "      <th>57703</th>\n",
       "      <td>57703</td>\n",
       "      <td>sell</td>\n",
       "      <td>house</td>\n",
       "      <td>NaN</td>\n",
       "      <td>|Argentina|Bs.As. G.B.A. Zona Norte|Tigre||</td>\n",
       "      <td>Argentina</td>\n",
       "      <td>Bs.As. G.B.A. Zona Norte</td>\n",
       "      <td>NaN</td>\n",
       "      <td>-34.39033749,-58.63368988</td>\n",
       "      <td>-34.390337</td>\n",
       "      <td>...</td>\n",
       "      <td>2826.086957</td>\n",
       "      <td>2826.086957</td>\n",
       "      <td>NaN</td>\n",
       "      <td>NaN</td>\n",
       "      <td>NaN</td>\n",
       "      <td>http://www.properati.com.ar/19ty5_venta_casa_s...</td>\n",
       "      <td>Espectacular casas moderna con amplio jardín s...</td>\n",
       "      <td>SANTA MARIA DE TIGRE 100</td>\n",
       "      <td>https://thumbs4.properati.com/3/3ax5piHfCls0gT...</td>\n",
       "      <td>5</td>\n",
       "    </tr>\n",
       "    <tr>\n",
       "      <th>57759</th>\n",
       "      <td>57759</td>\n",
       "      <td>sell</td>\n",
       "      <td>house</td>\n",
       "      <td>NaN</td>\n",
       "      <td>|Argentina|Bs.As. G.B.A. Zona Norte|Tigre||</td>\n",
       "      <td>Argentina</td>\n",
       "      <td>Bs.As. G.B.A. Zona Norte</td>\n",
       "      <td>NaN</td>\n",
       "      <td>-34.39596815,-58.63077164</td>\n",
       "      <td>-34.395968</td>\n",
       "      <td>...</td>\n",
       "      <td>1611.111111</td>\n",
       "      <td>1611.111111</td>\n",
       "      <td>NaN</td>\n",
       "      <td>NaN</td>\n",
       "      <td>NaN</td>\n",
       "      <td>http://www.properati.com.ar/19u2a_venta_casa_b...</td>\n",
       "      <td>Incluye una amarra de U$S 30.000 con elevador ...</td>\n",
       "      <td>SANTA MARIA DE TIGRE 100</td>\n",
       "      <td>https://thumbs4.properati.com/8/H6gVgcPkk1wcQu...</td>\n",
       "      <td>5</td>\n",
       "    </tr>\n",
       "    <tr>\n",
       "      <th>57764</th>\n",
       "      <td>57764</td>\n",
       "      <td>sell</td>\n",
       "      <td>house</td>\n",
       "      <td>NaN</td>\n",
       "      <td>|Argentina|Bs.As. G.B.A. Zona Norte|Tigre||</td>\n",
       "      <td>Argentina</td>\n",
       "      <td>Bs.As. G.B.A. Zona Norte</td>\n",
       "      <td>NaN</td>\n",
       "      <td>-34.39635767,-58.62613678</td>\n",
       "      <td>-34.396358</td>\n",
       "      <td>...</td>\n",
       "      <td>2282.352941</td>\n",
       "      <td>2480.818414</td>\n",
       "      <td>NaN</td>\n",
       "      <td>NaN</td>\n",
       "      <td>NaN</td>\n",
       "      <td>http://www.properati.com.ar/19u2n_venta_casa_s...</td>\n",
       "      <td>IMPECABLE ! Sobre la laguna con excelente orie...</td>\n",
       "      <td>SANTA MARIA DE TIGRE 100</td>\n",
       "      <td>https://thumbs4.properati.com/1/7lkC4GRTKV-2DS...</td>\n",
       "      <td>5</td>\n",
       "    </tr>\n",
       "    <tr>\n",
       "      <th>57793</th>\n",
       "      <td>57793</td>\n",
       "      <td>sell</td>\n",
       "      <td>house</td>\n",
       "      <td>NaN</td>\n",
       "      <td>|Argentina|Bs.As. G.B.A. Zona Norte|Tigre||</td>\n",
       "      <td>Argentina</td>\n",
       "      <td>Bs.As. G.B.A. Zona Norte</td>\n",
       "      <td>NaN</td>\n",
       "      <td>-34.39628685,-58.62922668</td>\n",
       "      <td>-34.396287</td>\n",
       "      <td>...</td>\n",
       "      <td>3040.000000</td>\n",
       "      <td>3040.000000</td>\n",
       "      <td>NaN</td>\n",
       "      <td>NaN</td>\n",
       "      <td>NaN</td>\n",
       "      <td>http://www.properati.com.ar/19u4u_venta_casa_j...</td>\n",
       "      <td>Súper cálida y agradable. Ubicada en uno de lo...</td>\n",
       "      <td>SANTA MARIA DE TIGRE 100</td>\n",
       "      <td>https://thumbs4.properati.com/7/GbromikV5vgSHJ...</td>\n",
       "      <td>5</td>\n",
       "    </tr>\n",
       "    <tr>\n",
       "      <th>58004</th>\n",
       "      <td>58004</td>\n",
       "      <td>sell</td>\n",
       "      <td>house</td>\n",
       "      <td>NaN</td>\n",
       "      <td>|Argentina|Bs.As. G.B.A. Zona Norte|Tigre||</td>\n",
       "      <td>Argentina</td>\n",
       "      <td>Bs.As. G.B.A. Zona Norte</td>\n",
       "      <td>NaN</td>\n",
       "      <td>-34.39104577,-58.63617897</td>\n",
       "      <td>-34.391046</td>\n",
       "      <td>...</td>\n",
       "      <td>2067.669173</td>\n",
       "      <td>2391.304348</td>\n",
       "      <td>NaN</td>\n",
       "      <td>NaN</td>\n",
       "      <td>NaN</td>\n",
       "      <td>http://www.properati.com.ar/19uld_venta_casa_s...</td>\n",
       "      <td>Casa clásica muy cómoda.PLANTA BAJA: Hall de e...</td>\n",
       "      <td>SANTA MARIA DE TIGRE 100</td>\n",
       "      <td>https://thumbs4.properati.com/7/1XfLGuboQb9HPW...</td>\n",
       "      <td>5</td>\n",
       "    </tr>\n",
       "    <tr>\n",
       "      <th>58037</th>\n",
       "      <td>58037</td>\n",
       "      <td>sell</td>\n",
       "      <td>house</td>\n",
       "      <td>NaN</td>\n",
       "      <td>|Argentina|Bs.As. G.B.A. Zona Norte|Tigre||</td>\n",
       "      <td>Argentina</td>\n",
       "      <td>Bs.As. G.B.A. Zona Norte</td>\n",
       "      <td>NaN</td>\n",
       "      <td>-34.39315287,-58.63197327</td>\n",
       "      <td>-34.393153</td>\n",
       "      <td>...</td>\n",
       "      <td>1843.750000</td>\n",
       "      <td>1843.750000</td>\n",
       "      <td>NaN</td>\n",
       "      <td>NaN</td>\n",
       "      <td>NaN</td>\n",
       "      <td>http://www.properati.com.ar/19unl_venta_casa_s...</td>\n",
       "      <td>Excelente casa ubicada en uno de la a pocos ba...</td>\n",
       "      <td>SANTA MARIA DE TIGRE 100</td>\n",
       "      <td>https://thumbs4.properati.com/1/gnnv0Ek1OhlEIc...</td>\n",
       "      <td>5</td>\n",
       "    </tr>\n",
       "    <tr>\n",
       "      <th>59069</th>\n",
       "      <td>59069</td>\n",
       "      <td>sell</td>\n",
       "      <td>house</td>\n",
       "      <td>NaN</td>\n",
       "      <td>|Argentina|Bs.As. G.B.A. Zona Norte|Tigre||</td>\n",
       "      <td>Argentina</td>\n",
       "      <td>Bs.As. G.B.A. Zona Norte</td>\n",
       "      <td>NaN</td>\n",
       "      <td>-34.400849,-58.638179</td>\n",
       "      <td>-34.400849</td>\n",
       "      <td>...</td>\n",
       "      <td>NaN</td>\n",
       "      <td>2580.645161</td>\n",
       "      <td>NaN</td>\n",
       "      <td>5.0</td>\n",
       "      <td>NaN</td>\n",
       "      <td>http://www.properati.com.ar/19wuj_venta_casa_b...</td>\n",
       "      <td>Corredor Responsable: Matias Castelli - CUCICB...</td>\n",
       "      <td>CASA EN VENTA AL AGUA EN SANTA MARIA DE TIGRE</td>\n",
       "      <td>https://thumbs4.properati.com/0/yQCPCJupzxW52v...</td>\n",
       "      <td>6</td>\n",
       "    </tr>\n",
       "    <tr>\n",
       "      <th>62411</th>\n",
       "      <td>62411</td>\n",
       "      <td>sell</td>\n",
       "      <td>house</td>\n",
       "      <td>NaN</td>\n",
       "      <td>|Argentina|Bs.As. G.B.A. Zona Norte|Tigre||</td>\n",
       "      <td>Argentina</td>\n",
       "      <td>Bs.As. G.B.A. Zona Norte</td>\n",
       "      <td>NaN</td>\n",
       "      <td>-34.396485,-58.635878</td>\n",
       "      <td>-34.396485</td>\n",
       "      <td>...</td>\n",
       "      <td>2000.000000</td>\n",
       "      <td>2000.000000</td>\n",
       "      <td>NaN</td>\n",
       "      <td>4.0</td>\n",
       "      <td>NaN</td>\n",
       "      <td>http://www.properati.com.ar/1a71u_venta_casa_b...</td>\n",
       "      <td>Hermosa casa en lote perimetral, Excelente cal...</td>\n",
       "      <td>VENTA CASA A ESTRENAR EN LAS TIPAS NORDELTA</td>\n",
       "      <td>https://thumbs4.properati.com/8/6zjSdUPIdlsKSz...</td>\n",
       "      <td>4</td>\n",
       "    </tr>\n",
       "    <tr>\n",
       "      <th>62413</th>\n",
       "      <td>62413</td>\n",
       "      <td>sell</td>\n",
       "      <td>house</td>\n",
       "      <td>NaN</td>\n",
       "      <td>|Argentina|Bs.As. G.B.A. Zona Norte|Tigre||</td>\n",
       "      <td>Argentina</td>\n",
       "      <td>Bs.As. G.B.A. Zona Norte</td>\n",
       "      <td>NaN</td>\n",
       "      <td>-34.396485,-58.635878</td>\n",
       "      <td>-34.396485</td>\n",
       "      <td>...</td>\n",
       "      <td>1676.000000</td>\n",
       "      <td>2095.000000</td>\n",
       "      <td>NaN</td>\n",
       "      <td>5.0</td>\n",
       "      <td>NaN</td>\n",
       "      <td>http://www.properati.com.ar/1a71w_venta_casa_s...</td>\n",
       "      <td>Muy linda casa a estrenar sobre lote perimetra...</td>\n",
       "      <td>Muy linda casa a estrenar en Las Tipas</td>\n",
       "      <td>https://thumbs4.properati.com/4/lp2Smi4s4ttX4a...</td>\n",
       "      <td>4</td>\n",
       "    </tr>\n",
       "    <tr>\n",
       "      <th>63849</th>\n",
       "      <td>63849</td>\n",
       "      <td>sell</td>\n",
       "      <td>house</td>\n",
       "      <td>NaN</td>\n",
       "      <td>|Argentina|Bs.As. G.B.A. Zona Norte|Tigre||</td>\n",
       "      <td>Argentina</td>\n",
       "      <td>Bs.As. G.B.A. Zona Norte</td>\n",
       "      <td>NaN</td>\n",
       "      <td>-34.39452,-58.632501</td>\n",
       "      <td>-34.394520</td>\n",
       "      <td>...</td>\n",
       "      <td>2857.142857</td>\n",
       "      <td>2857.142857</td>\n",
       "      <td>NaN</td>\n",
       "      <td>5.0</td>\n",
       "      <td>NaN</td>\n",
       "      <td>http://www.properati.com.ar/1a9l0_venta_casa_s...</td>\n",
       "      <td>Casa estilo colonial de una planta sobre lote ...</td>\n",
       "      <td>Oportunidad! Casa en La Alameda</td>\n",
       "      <td>https://thumbs4.properati.com/3/0IZAiDfAhxDRhX...</td>\n",
       "      <td>4</td>\n",
       "    </tr>\n",
       "  </tbody>\n",
       "</table>\n",
       "<p>23 rows × 27 columns</p>\n",
       "</div>"
      ],
      "text/plain": [
       "       Unnamed: 0 operation property_type place_name  \\\n",
       "6489         6489      sell         house        NaN   \n",
       "10201       10201      sell         house        NaN   \n",
       "11451       11451      sell         house        NaN   \n",
       "14839       14839      sell         house        NaN   \n",
       "18622       18622      sell         house        NaN   \n",
       "21922       21922      sell         house        NaN   \n",
       "23664       23664      sell         house        NaN   \n",
       "24722       24722      sell         house        NaN   \n",
       "38856       38856      sell         house        NaN   \n",
       "45970       45970      sell     apartment        NaN   \n",
       "46642       46642      sell         house        NaN   \n",
       "53130       53130      sell         house        NaN   \n",
       "55306       55306      sell         house        NaN   \n",
       "57703       57703      sell         house        NaN   \n",
       "57759       57759      sell         house        NaN   \n",
       "57764       57764      sell         house        NaN   \n",
       "57793       57793      sell         house        NaN   \n",
       "58004       58004      sell         house        NaN   \n",
       "58037       58037      sell         house        NaN   \n",
       "59069       59069      sell         house        NaN   \n",
       "62411       62411      sell         house        NaN   \n",
       "62413       62413      sell         house        NaN   \n",
       "63849       63849      sell         house        NaN   \n",
       "\n",
       "                           place_with_parent_names country_name  \\\n",
       "6489   |Argentina|Bs.As. G.B.A. Zona Norte|Tigre||    Argentina   \n",
       "10201  |Argentina|Bs.As. G.B.A. Zona Norte|Tigre||    Argentina   \n",
       "11451  |Argentina|Bs.As. G.B.A. Zona Norte|Tigre||    Argentina   \n",
       "14839  |Argentina|Bs.As. G.B.A. Zona Norte|Tigre||    Argentina   \n",
       "18622  |Argentina|Bs.As. G.B.A. Zona Norte|Tigre||    Argentina   \n",
       "21922  |Argentina|Bs.As. G.B.A. Zona Norte|Tigre||    Argentina   \n",
       "23664  |Argentina|Bs.As. G.B.A. Zona Norte|Tigre||    Argentina   \n",
       "24722  |Argentina|Bs.As. G.B.A. Zona Norte|Tigre||    Argentina   \n",
       "38856  |Argentina|Bs.As. G.B.A. Zona Norte|Tigre||    Argentina   \n",
       "45970  |Argentina|Bs.As. G.B.A. Zona Norte|Tigre||    Argentina   \n",
       "46642  |Argentina|Bs.As. G.B.A. Zona Norte|Tigre||    Argentina   \n",
       "53130  |Argentina|Bs.As. G.B.A. Zona Norte|Tigre||    Argentina   \n",
       "55306  |Argentina|Bs.As. G.B.A. Zona Norte|Tigre||    Argentina   \n",
       "57703  |Argentina|Bs.As. G.B.A. Zona Norte|Tigre||    Argentina   \n",
       "57759  |Argentina|Bs.As. G.B.A. Zona Norte|Tigre||    Argentina   \n",
       "57764  |Argentina|Bs.As. G.B.A. Zona Norte|Tigre||    Argentina   \n",
       "57793  |Argentina|Bs.As. G.B.A. Zona Norte|Tigre||    Argentina   \n",
       "58004  |Argentina|Bs.As. G.B.A. Zona Norte|Tigre||    Argentina   \n",
       "58037  |Argentina|Bs.As. G.B.A. Zona Norte|Tigre||    Argentina   \n",
       "59069  |Argentina|Bs.As. G.B.A. Zona Norte|Tigre||    Argentina   \n",
       "62411  |Argentina|Bs.As. G.B.A. Zona Norte|Tigre||    Argentina   \n",
       "62413  |Argentina|Bs.As. G.B.A. Zona Norte|Tigre||    Argentina   \n",
       "63849  |Argentina|Bs.As. G.B.A. Zona Norte|Tigre||    Argentina   \n",
       "\n",
       "                     state_name  geonames_id                        lat-lon  \\\n",
       "6489   Bs.As. G.B.A. Zona Norte          NaN    -34.4008968545,-58.63809847   \n",
       "10201  Bs.As. G.B.A. Zona Norte          NaN          -34.400704,-58.638067   \n",
       "11451  Bs.As. G.B.A. Zona Norte          NaN  -34.4026880384,-58.6262613379   \n",
       "14839  Bs.As. G.B.A. Zona Norte          NaN  -34.4007994779,-58.6381735719   \n",
       "18622  Bs.As. G.B.A. Zona Norte          NaN  -34.4032781195,-58.6263503945   \n",
       "21922  Bs.As. G.B.A. Zona Norte          NaN          -34.399704,-58.638405   \n",
       "23664  Bs.As. G.B.A. Zona Norte          NaN  -34.4005161998,-58.6417999185   \n",
       "24722  Bs.As. G.B.A. Zona Norte          NaN        -34.4007292,-58.6377783   \n",
       "38856  Bs.As. G.B.A. Zona Norte          NaN         -34.425087,-58.5796585   \n",
       "45970  Bs.As. G.B.A. Zona Norte          NaN           -34.396074,-58.63738   \n",
       "46642  Bs.As. G.B.A. Zona Norte          NaN          -34.400749,-58.638754   \n",
       "53130  Bs.As. G.B.A. Zona Norte          NaN          -34.400978,-58.637809   \n",
       "55306  Bs.As. G.B.A. Zona Norte          NaN        -34.3996311,-58.6433121   \n",
       "57703  Bs.As. G.B.A. Zona Norte          NaN      -34.39033749,-58.63368988   \n",
       "57759  Bs.As. G.B.A. Zona Norte          NaN      -34.39596815,-58.63077164   \n",
       "57764  Bs.As. G.B.A. Zona Norte          NaN      -34.39635767,-58.62613678   \n",
       "57793  Bs.As. G.B.A. Zona Norte          NaN      -34.39628685,-58.62922668   \n",
       "58004  Bs.As. G.B.A. Zona Norte          NaN      -34.39104577,-58.63617897   \n",
       "58037  Bs.As. G.B.A. Zona Norte          NaN      -34.39315287,-58.63197327   \n",
       "59069  Bs.As. G.B.A. Zona Norte          NaN          -34.400849,-58.638179   \n",
       "62411  Bs.As. G.B.A. Zona Norte          NaN          -34.396485,-58.635878   \n",
       "62413  Bs.As. G.B.A. Zona Norte          NaN          -34.396485,-58.635878   \n",
       "63849  Bs.As. G.B.A. Zona Norte          NaN           -34.39452,-58.632501   \n",
       "\n",
       "             lat  ...  price_usd_per_m2  price_per_m2 floor  rooms  expenses  \\\n",
       "6489  -34.400897  ...       2708.333333   2708.333333   NaN    NaN       NaN   \n",
       "10201 -34.400704  ...               NaN   1783.333333   NaN    5.0       NaN   \n",
       "11451 -34.402688  ...        253.456221   2037.037037   NaN    NaN       NaN   \n",
       "14839 -34.400799  ...       2000.000000   2400.000000   NaN    NaN       NaN   \n",
       "18622 -34.403278  ...       3814.705882   3814.705882   NaN    NaN       NaN   \n",
       "21922 -34.399704  ...               NaN   2000.000000   NaN    5.0       NaN   \n",
       "23664 -34.400516  ...       1632.653061   1632.653061   NaN    NaN       NaN   \n",
       "24722 -34.400729  ...       1677.215190   1962.962963   NaN    NaN       NaN   \n",
       "38856 -34.425087  ...               NaN   2454.545455   NaN    NaN       NaN   \n",
       "45970 -34.396074  ...       1727.272727   3518.518519   NaN    1.0       NaN   \n",
       "46642 -34.400749  ...               NaN  73500.000000   NaN    6.0       NaN   \n",
       "53130 -34.400978  ...        630.000000   1702.702703   NaN    NaN       NaN   \n",
       "55306 -34.399631  ...       1850.393701   2303.921569   NaN    NaN       NaN   \n",
       "57703 -34.390337  ...       2826.086957   2826.086957   NaN    NaN       NaN   \n",
       "57759 -34.395968  ...       1611.111111   1611.111111   NaN    NaN       NaN   \n",
       "57764 -34.396358  ...       2282.352941   2480.818414   NaN    NaN       NaN   \n",
       "57793 -34.396287  ...       3040.000000   3040.000000   NaN    NaN       NaN   \n",
       "58004 -34.391046  ...       2067.669173   2391.304348   NaN    NaN       NaN   \n",
       "58037 -34.393153  ...       1843.750000   1843.750000   NaN    NaN       NaN   \n",
       "59069 -34.400849  ...               NaN   2580.645161   NaN    5.0       NaN   \n",
       "62411 -34.396485  ...       2000.000000   2000.000000   NaN    4.0       NaN   \n",
       "62413 -34.396485  ...       1676.000000   2095.000000   NaN    5.0       NaN   \n",
       "63849 -34.394520  ...       2857.142857   2857.142857   NaN    5.0       NaN   \n",
       "\n",
       "                                           properati_url  \\\n",
       "6489   http://www.properati.com.ar/15ui7_venta_casa_t...   \n",
       "10201  http://www.properati.com.ar/166p5_venta_casa_t...   \n",
       "11451  http://www.properati.com.ar/16bpd_venta_casa_t...   \n",
       "14839  http://www.properati.com.ar/16tal_venta_casa_b...   \n",
       "18622  http://www.properati.com.ar/177ee_venta_casa_t...   \n",
       "21922  http://www.properati.com.ar/17gy5_venta_casa_s...   \n",
       "23664  http://www.properati.com.ar/17mb5_venta_casa_t...   \n",
       "24722  http://www.properati.com.ar/17oz1_venta_casa_t...   \n",
       "38856  http://www.properati.com.ar/18mcb_venta_casa_t...   \n",
       "45970  http://www.properati.com.ar/1958f_venta_depart...   \n",
       "46642  http://www.properati.com.ar/196mk_venta_casa_t...   \n",
       "53130  http://www.properati.com.ar/19kkw_venta_casa_t...   \n",
       "55306  http://www.properati.com.ar/19ouh_venta_casa_t...   \n",
       "57703  http://www.properati.com.ar/19ty5_venta_casa_s...   \n",
       "57759  http://www.properati.com.ar/19u2a_venta_casa_b...   \n",
       "57764  http://www.properati.com.ar/19u2n_venta_casa_s...   \n",
       "57793  http://www.properati.com.ar/19u4u_venta_casa_j...   \n",
       "58004  http://www.properati.com.ar/19uld_venta_casa_s...   \n",
       "58037  http://www.properati.com.ar/19unl_venta_casa_s...   \n",
       "59069  http://www.properati.com.ar/19wuj_venta_casa_b...   \n",
       "62411  http://www.properati.com.ar/1a71u_venta_casa_b...   \n",
       "62413  http://www.properati.com.ar/1a71w_venta_casa_s...   \n",
       "63849  http://www.properati.com.ar/1a9l0_venta_casa_s...   \n",
       "\n",
       "                                             description  \\\n",
       "6489   Espectacular casa moderna de una planta, con a...   \n",
       "10201  Corredor Responsable: SABRINA COCCONI - CSI 62...   \n",
       "11451  MUY LINDA CASA EN EXCELENTE UBICACION!! Superf...   \n",
       "14839  Muy linda casa de estilo clásico.-Planta baja;...   \n",
       "18622   Casa con increible vista al lago con playa de...   \n",
       "21922  Corredor Responsable: Matias Castelli - CUCICB...   \n",
       "23664  EXCELENTE CASA CLASICA con grandes ventanas y ...   \n",
       "24722  EN EXCLUSIVIDAD!!!!!!Lindísima casa, muy lumin...   \n",
       "38856  SANTA MARIA DE TIGRE- AL RIO - ESPECTACULAR CA...   \n",
       "45970  EDIFICIO ZERENA – EL PALMAR, NORDELTA. Torre 2...   \n",
       "46642  Corredor Responsable: Matias Castelli - CUCICB...   \n",
       "53130  Excelente casa en Venta en B° Santa Maria de T...   \n",
       "55306  Muy linda casa de dos plantas en lote interno ...   \n",
       "57703  Espectacular casas moderna con amplio jardín s...   \n",
       "57759  Incluye una amarra de U$S 30.000 con elevador ...   \n",
       "57764  IMPECABLE ! Sobre la laguna con excelente orie...   \n",
       "57793  Súper cálida y agradable. Ubicada en uno de lo...   \n",
       "58004  Casa clásica muy cómoda.PLANTA BAJA: Hall de e...   \n",
       "58037  Excelente casa ubicada en uno de la a pocos ba...   \n",
       "59069  Corredor Responsable: Matias Castelli - CUCICB...   \n",
       "62411  Hermosa casa en lote perimetral, Excelente cal...   \n",
       "62413  Muy linda casa a estrenar sobre lote perimetra...   \n",
       "63849  Casa estilo colonial de una planta sobre lote ...   \n",
       "\n",
       "                                                   title  \\\n",
       "6489               Venta de casa en Santa María de Tigre   \n",
       "10201  VENTA CASA SANTA MARÍA DE TIGRE COUNTRY BARRIO...   \n",
       "11451                     SANTA MARIA DE TIGRE IMPECABLE   \n",
       "14839              Venta de casa en Santa María de Tigre   \n",
       "18622  Casa con increible vista al lago con playa y m...   \n",
       "21922           Venta Casa - Barrio Santa Maria de Tigre   \n",
       "23664    CASA EN VENTA EN SANTA MARIA DE TIGRE CON RENTA   \n",
       "24722              Venta de casa en Santa María de Tigre   \n",
       "38856                       Casa (barrio cerrado), Venta   \n",
       "45970  Excelente monoambiente. Barrio El Palmar.  Con...   \n",
       "46642                               Venta de Casa al rio   \n",
       "53130                                      Casa en Venta   \n",
       "55306             Santa María de Tigre. Casa con amarra.   \n",
       "57703                           SANTA MARIA DE TIGRE 100   \n",
       "57759                           SANTA MARIA DE TIGRE 100   \n",
       "57764                           SANTA MARIA DE TIGRE 100   \n",
       "57793                           SANTA MARIA DE TIGRE 100   \n",
       "58004                           SANTA MARIA DE TIGRE 100   \n",
       "58037                           SANTA MARIA DE TIGRE 100   \n",
       "59069      CASA EN VENTA AL AGUA EN SANTA MARIA DE TIGRE   \n",
       "62411       VENTA CASA A ESTRENAR EN LAS TIPAS NORDELTA    \n",
       "62413             Muy linda casa a estrenar en Las Tipas   \n",
       "63849                    Oportunidad! Casa en La Alameda   \n",
       "\n",
       "                                         image_thumbnail  null_fila  \n",
       "6489   https://thumbs4.properati.com/7/vQjgbHSz1fKXxy...          5  \n",
       "10201  https://thumbs4.properati.com/1/FABpKIJMaoAO3t...          6  \n",
       "11451  https://thumbs4.properati.com/5/fwH9L71hW2rW7V...          5  \n",
       "14839  https://thumbs4.properati.com/1/3ZbPSffTY38y7v...          5  \n",
       "18622  https://thumbs4.properati.com/0/52JCH1PKYCOMe6...          5  \n",
       "21922  https://thumbs4.properati.com/8/oO7kmFPYNm8DYr...          6  \n",
       "23664  https://thumbs4.properati.com/2/LQCwH6txpFqetn...          5  \n",
       "24722  https://thumbs4.properati.com/0/Nhx4NejZaQACap...          5  \n",
       "38856  https://thumbs4.properati.com/2/Izq8d5o8ti3kJy...          7  \n",
       "45970  https://thumbs4.properati.com/2/5yvU5E9wOAAzBa...          4  \n",
       "46642  https://thumbs4.properati.com/9/ACeODr7N9CYr9T...          6  \n",
       "53130  https://thumbs4.properati.com/0/3G0TgAjQbNN385...          5  \n",
       "55306  https://thumbs4.properati.com/7/6CoXZSzRyyYJBA...          5  \n",
       "57703  https://thumbs4.properati.com/3/3ax5piHfCls0gT...          5  \n",
       "57759  https://thumbs4.properati.com/8/H6gVgcPkk1wcQu...          5  \n",
       "57764  https://thumbs4.properati.com/1/7lkC4GRTKV-2DS...          5  \n",
       "57793  https://thumbs4.properati.com/7/GbromikV5vgSHJ...          5  \n",
       "58004  https://thumbs4.properati.com/7/1XfLGuboQb9HPW...          5  \n",
       "58037  https://thumbs4.properati.com/1/gnnv0Ek1OhlEIc...          5  \n",
       "59069  https://thumbs4.properati.com/0/yQCPCJupzxW52v...          6  \n",
       "62411  https://thumbs4.properati.com/8/6zjSdUPIdlsKSz...          4  \n",
       "62413  https://thumbs4.properati.com/4/lp2Smi4s4ttX4a...          4  \n",
       "63849  https://thumbs4.properati.com/3/0IZAiDfAhxDRhX...          4  \n",
       "\n",
       "[23 rows x 27 columns]"
      ]
     },
     "execution_count": 20,
     "metadata": {},
     "output_type": "execute_result"
    }
   ],
   "source": [
    "print(data_original[\"place_name\"].isnull().sum())\n",
    "data_original.loc[(data_original[\"place_name\"].isnull()), :]"
   ]
  },
  {
   "cell_type": "markdown",
   "metadata": {},
   "source": [
    "Se completa la columna reemplazando los valores nulos en una Series (para que no reemplace los nulos en todo el dataset) y se realiza un join de la nueva columna llamada: **place_name_completo**. Se elimina la columna **place name**."
   ]
  },
  {
   "cell_type": "code",
   "execution_count": 21,
   "metadata": {},
   "outputs": [],
   "source": [
    "place_name = data_original[\"place_name\"]\n",
    "ubicacion = place_name.replace(np.NaN, \"Tigre\")\n",
    "data_ubicacion = data_original.join(ubicacion, rsuffix='_completo')"
   ]
  },
  {
   "cell_type": "code",
   "execution_count": 22,
   "metadata": {},
   "outputs": [],
   "source": [
    "data_ubicacion=data_ubicacion.drop(columns = \"place_name\",axis=1)"
   ]
  },
  {
   "cell_type": "code",
   "execution_count": 23,
   "metadata": {},
   "outputs": [
    {
     "data": {
      "text/html": [
       "<div>\n",
       "<style scoped>\n",
       "    .dataframe tbody tr th:only-of-type {\n",
       "        vertical-align: middle;\n",
       "    }\n",
       "\n",
       "    .dataframe tbody tr th {\n",
       "        vertical-align: top;\n",
       "    }\n",
       "\n",
       "    .dataframe thead th {\n",
       "        text-align: right;\n",
       "    }\n",
       "</style>\n",
       "<table border=\"1\" class=\"dataframe\">\n",
       "  <thead>\n",
       "    <tr style=\"text-align: right;\">\n",
       "      <th></th>\n",
       "      <th>Unnamed: 0</th>\n",
       "      <th>operation</th>\n",
       "      <th>property_type</th>\n",
       "      <th>place_with_parent_names</th>\n",
       "      <th>country_name</th>\n",
       "      <th>state_name</th>\n",
       "      <th>geonames_id</th>\n",
       "      <th>lat-lon</th>\n",
       "      <th>lat</th>\n",
       "      <th>lon</th>\n",
       "      <th>...</th>\n",
       "      <th>price_per_m2</th>\n",
       "      <th>floor</th>\n",
       "      <th>rooms</th>\n",
       "      <th>expenses</th>\n",
       "      <th>properati_url</th>\n",
       "      <th>description</th>\n",
       "      <th>title</th>\n",
       "      <th>image_thumbnail</th>\n",
       "      <th>null_fila</th>\n",
       "      <th>place_name_completo</th>\n",
       "    </tr>\n",
       "  </thead>\n",
       "  <tbody>\n",
       "    <tr>\n",
       "      <th>0</th>\n",
       "      <td>0</td>\n",
       "      <td>sell</td>\n",
       "      <td>PH</td>\n",
       "      <td>|Argentina|Capital Federal|Mataderos|</td>\n",
       "      <td>Argentina</td>\n",
       "      <td>Capital Federal</td>\n",
       "      <td>3430787.0</td>\n",
       "      <td>-34.6618237,-58.5088387</td>\n",
       "      <td>-34.661824</td>\n",
       "      <td>-58.508839</td>\n",
       "      <td>...</td>\n",
       "      <td>1550.000000</td>\n",
       "      <td>NaN</td>\n",
       "      <td>NaN</td>\n",
       "      <td>NaN</td>\n",
       "      <td>http://www.properati.com.ar/15bo8_venta_ph_mat...</td>\n",
       "      <td>2 AMBIENTES TIPO CASA PLANTA BAJA POR PASILLO,...</td>\n",
       "      <td>2 AMB TIPO CASA SIN EXPENSAS EN PB</td>\n",
       "      <td>https://thumbs4.properati.com/8/BluUYiHJLhgIIK...</td>\n",
       "      <td>3</td>\n",
       "      <td>Mataderos</td>\n",
       "    </tr>\n",
       "    <tr>\n",
       "      <th>1</th>\n",
       "      <td>1</td>\n",
       "      <td>sell</td>\n",
       "      <td>apartment</td>\n",
       "      <td>|Argentina|Bs.As. G.B.A. Zona Sur|La Plata|</td>\n",
       "      <td>Argentina</td>\n",
       "      <td>Bs.As. G.B.A. Zona Sur</td>\n",
       "      <td>3432039.0</td>\n",
       "      <td>-34.9038831,-57.9643295</td>\n",
       "      <td>-34.903883</td>\n",
       "      <td>-57.964330</td>\n",
       "      <td>...</td>\n",
       "      <td>NaN</td>\n",
       "      <td>NaN</td>\n",
       "      <td>NaN</td>\n",
       "      <td>NaN</td>\n",
       "      <td>http://www.properati.com.ar/15bob_venta_depart...</td>\n",
       "      <td>Venta de departamento en décimo piso al frente...</td>\n",
       "      <td>VENTA Depto 2 dorm. a estrenar 7 e/ 36 y 37   ...</td>\n",
       "      <td>https://thumbs4.properati.com/7/ikpVBu2ztHA7jv...</td>\n",
       "      <td>7</td>\n",
       "      <td>La Plata</td>\n",
       "    </tr>\n",
       "    <tr>\n",
       "      <th>2</th>\n",
       "      <td>2</td>\n",
       "      <td>sell</td>\n",
       "      <td>apartment</td>\n",
       "      <td>|Argentina|Capital Federal|Mataderos|</td>\n",
       "      <td>Argentina</td>\n",
       "      <td>Capital Federal</td>\n",
       "      <td>3430787.0</td>\n",
       "      <td>-34.6522615,-58.5229825</td>\n",
       "      <td>-34.652262</td>\n",
       "      <td>-58.522982</td>\n",
       "      <td>...</td>\n",
       "      <td>1309.090909</td>\n",
       "      <td>NaN</td>\n",
       "      <td>NaN</td>\n",
       "      <td>NaN</td>\n",
       "      <td>http://www.properati.com.ar/15bod_venta_depart...</td>\n",
       "      <td>2 AMBIENTES 3ER PISO LATERAL LIVING COMEDOR AM...</td>\n",
       "      <td>2 AMB 3ER PISO CON ASCENSOR APTO CREDITO</td>\n",
       "      <td>https://thumbs4.properati.com/5/SXKr34F_IwG3W_...</td>\n",
       "      <td>3</td>\n",
       "      <td>Mataderos</td>\n",
       "    </tr>\n",
       "  </tbody>\n",
       "</table>\n",
       "<p>3 rows × 27 columns</p>\n",
       "</div>"
      ],
      "text/plain": [
       "   Unnamed: 0 operation property_type  \\\n",
       "0           0      sell            PH   \n",
       "1           1      sell     apartment   \n",
       "2           2      sell     apartment   \n",
       "\n",
       "                       place_with_parent_names country_name  \\\n",
       "0        |Argentina|Capital Federal|Mataderos|    Argentina   \n",
       "1  |Argentina|Bs.As. G.B.A. Zona Sur|La Plata|    Argentina   \n",
       "2        |Argentina|Capital Federal|Mataderos|    Argentina   \n",
       "\n",
       "               state_name  geonames_id                  lat-lon        lat  \\\n",
       "0         Capital Federal    3430787.0  -34.6618237,-58.5088387 -34.661824   \n",
       "1  Bs.As. G.B.A. Zona Sur    3432039.0  -34.9038831,-57.9643295 -34.903883   \n",
       "2         Capital Federal    3430787.0  -34.6522615,-58.5229825 -34.652262   \n",
       "\n",
       "         lon  ...  price_per_m2 floor  rooms  expenses  \\\n",
       "0 -58.508839  ...   1550.000000   NaN    NaN       NaN   \n",
       "1 -57.964330  ...           NaN   NaN    NaN       NaN   \n",
       "2 -58.522982  ...   1309.090909   NaN    NaN       NaN   \n",
       "\n",
       "                                       properati_url  \\\n",
       "0  http://www.properati.com.ar/15bo8_venta_ph_mat...   \n",
       "1  http://www.properati.com.ar/15bob_venta_depart...   \n",
       "2  http://www.properati.com.ar/15bod_venta_depart...   \n",
       "\n",
       "                                         description  \\\n",
       "0  2 AMBIENTES TIPO CASA PLANTA BAJA POR PASILLO,...   \n",
       "1  Venta de departamento en décimo piso al frente...   \n",
       "2  2 AMBIENTES 3ER PISO LATERAL LIVING COMEDOR AM...   \n",
       "\n",
       "                                               title  \\\n",
       "0                 2 AMB TIPO CASA SIN EXPENSAS EN PB   \n",
       "1  VENTA Depto 2 dorm. a estrenar 7 e/ 36 y 37   ...   \n",
       "2           2 AMB 3ER PISO CON ASCENSOR APTO CREDITO   \n",
       "\n",
       "                                     image_thumbnail  null_fila  \\\n",
       "0  https://thumbs4.properati.com/8/BluUYiHJLhgIIK...          3   \n",
       "1  https://thumbs4.properati.com/7/ikpVBu2ztHA7jv...          7   \n",
       "2  https://thumbs4.properati.com/5/SXKr34F_IwG3W_...          3   \n",
       "\n",
       "   place_name_completo  \n",
       "0            Mataderos  \n",
       "1             La Plata  \n",
       "2            Mataderos  \n",
       "\n",
       "[3 rows x 27 columns]"
      ]
     },
     "execution_count": 23,
     "metadata": {},
     "output_type": "execute_result"
    }
   ],
   "source": [
    "data_ubicacion.head(3)"
   ]
  },
  {
   "cell_type": "markdown",
   "metadata": {},
   "source": [
    "La columna **place_with_parents_names** está compuesta por distintos valores, se crea una función para identificar cada uno con expresiones regulares. Se recupera la 3er columna que corresponde a la localidad (el barrio en el caso de Capital Federal). Este valor en algunos casos coincidirá con **place_name** (cuando no haya exista el 4to valor correspondiente al barrio). &nbsp;\n",
    "\n",
    "Se utilizará para los análisis la localidad debido a que **place_name** tiene distintos grados de agregación, y en algunos casos es demasiado espefíca."
   ]
  },
  {
   "cell_type": "code",
   "execution_count": 24,
   "metadata": {},
   "outputs": [],
   "source": [
    "def dividir_columna(data):\n",
    "    patron_columna =patron_columna =\"^(\\|)(?P<pais>Argentina)(\\|)(?P<provincia>[\\w\\s\\.]+)(\\|)(?P<localidad>[\\w\\s\\./-]+)(\\|)(?P<barrio>[\\w\\s\\./-]*)(\\|?)\"\n",
    "    regex_place = re.compile(patron_columna)\n",
    "    columnas = data[\"place_with_parent_names\"].apply(lambda x: regex_place.search(x))\n",
    "    localidad = columnas.apply(lambda x: x if x is None else x.group(\"localidad\"))\n",
    "    return localidad\n"
   ]
  },
  {
   "cell_type": "code",
   "execution_count": 25,
   "metadata": {},
   "outputs": [],
   "source": [
    "localidad = dividir_columna(data_ubicacion)"
   ]
  },
  {
   "cell_type": "markdown",
   "metadata": {},
   "source": [
    "Se realiza un join y se incorpora **place_wiht_parents_name_localidad** con el 3er valor de la columna **place_with_parent_names** y se elimina **place_with_parent_names** "
   ]
  },
  {
   "cell_type": "code",
   "execution_count": 26,
   "metadata": {},
   "outputs": [],
   "source": [
    "data_localidad = data_ubicacion.join(localidad, rsuffix='_localidad')"
   ]
  },
  {
   "cell_type": "code",
   "execution_count": 27,
   "metadata": {},
   "outputs": [
    {
     "data": {
      "text/html": [
       "<div>\n",
       "<style scoped>\n",
       "    .dataframe tbody tr th:only-of-type {\n",
       "        vertical-align: middle;\n",
       "    }\n",
       "\n",
       "    .dataframe tbody tr th {\n",
       "        vertical-align: top;\n",
       "    }\n",
       "\n",
       "    .dataframe thead th {\n",
       "        text-align: right;\n",
       "    }\n",
       "</style>\n",
       "<table border=\"1\" class=\"dataframe\">\n",
       "  <thead>\n",
       "    <tr style=\"text-align: right;\">\n",
       "      <th></th>\n",
       "      <th>Unnamed: 0</th>\n",
       "      <th>operation</th>\n",
       "      <th>property_type</th>\n",
       "      <th>country_name</th>\n",
       "      <th>state_name</th>\n",
       "      <th>geonames_id</th>\n",
       "      <th>lat-lon</th>\n",
       "      <th>lat</th>\n",
       "      <th>lon</th>\n",
       "      <th>price</th>\n",
       "      <th>...</th>\n",
       "      <th>floor</th>\n",
       "      <th>rooms</th>\n",
       "      <th>expenses</th>\n",
       "      <th>properati_url</th>\n",
       "      <th>description</th>\n",
       "      <th>title</th>\n",
       "      <th>image_thumbnail</th>\n",
       "      <th>null_fila</th>\n",
       "      <th>place_name_completo</th>\n",
       "      <th>place_with_parent_names_localidad</th>\n",
       "    </tr>\n",
       "  </thead>\n",
       "  <tbody>\n",
       "    <tr>\n",
       "      <th>0</th>\n",
       "      <td>0</td>\n",
       "      <td>sell</td>\n",
       "      <td>PH</td>\n",
       "      <td>Argentina</td>\n",
       "      <td>Capital Federal</td>\n",
       "      <td>3430787.0</td>\n",
       "      <td>-34.6618237,-58.5088387</td>\n",
       "      <td>-34.661824</td>\n",
       "      <td>-58.508839</td>\n",
       "      <td>62000.0</td>\n",
       "      <td>...</td>\n",
       "      <td>NaN</td>\n",
       "      <td>NaN</td>\n",
       "      <td>NaN</td>\n",
       "      <td>http://www.properati.com.ar/15bo8_venta_ph_mat...</td>\n",
       "      <td>2 AMBIENTES TIPO CASA PLANTA BAJA POR PASILLO,...</td>\n",
       "      <td>2 AMB TIPO CASA SIN EXPENSAS EN PB</td>\n",
       "      <td>https://thumbs4.properati.com/8/BluUYiHJLhgIIK...</td>\n",
       "      <td>3</td>\n",
       "      <td>Mataderos</td>\n",
       "      <td>Mataderos</td>\n",
       "    </tr>\n",
       "    <tr>\n",
       "      <th>1</th>\n",
       "      <td>1</td>\n",
       "      <td>sell</td>\n",
       "      <td>apartment</td>\n",
       "      <td>Argentina</td>\n",
       "      <td>Bs.As. G.B.A. Zona Sur</td>\n",
       "      <td>3432039.0</td>\n",
       "      <td>-34.9038831,-57.9643295</td>\n",
       "      <td>-34.903883</td>\n",
       "      <td>-57.964330</td>\n",
       "      <td>150000.0</td>\n",
       "      <td>...</td>\n",
       "      <td>NaN</td>\n",
       "      <td>NaN</td>\n",
       "      <td>NaN</td>\n",
       "      <td>http://www.properati.com.ar/15bob_venta_depart...</td>\n",
       "      <td>Venta de departamento en décimo piso al frente...</td>\n",
       "      <td>VENTA Depto 2 dorm. a estrenar 7 e/ 36 y 37   ...</td>\n",
       "      <td>https://thumbs4.properati.com/7/ikpVBu2ztHA7jv...</td>\n",
       "      <td>7</td>\n",
       "      <td>La Plata</td>\n",
       "      <td>La Plata</td>\n",
       "    </tr>\n",
       "    <tr>\n",
       "      <th>2</th>\n",
       "      <td>2</td>\n",
       "      <td>sell</td>\n",
       "      <td>apartment</td>\n",
       "      <td>Argentina</td>\n",
       "      <td>Capital Federal</td>\n",
       "      <td>3430787.0</td>\n",
       "      <td>-34.6522615,-58.5229825</td>\n",
       "      <td>-34.652262</td>\n",
       "      <td>-58.522982</td>\n",
       "      <td>72000.0</td>\n",
       "      <td>...</td>\n",
       "      <td>NaN</td>\n",
       "      <td>NaN</td>\n",
       "      <td>NaN</td>\n",
       "      <td>http://www.properati.com.ar/15bod_venta_depart...</td>\n",
       "      <td>2 AMBIENTES 3ER PISO LATERAL LIVING COMEDOR AM...</td>\n",
       "      <td>2 AMB 3ER PISO CON ASCENSOR APTO CREDITO</td>\n",
       "      <td>https://thumbs4.properati.com/5/SXKr34F_IwG3W_...</td>\n",
       "      <td>3</td>\n",
       "      <td>Mataderos</td>\n",
       "      <td>Mataderos</td>\n",
       "    </tr>\n",
       "  </tbody>\n",
       "</table>\n",
       "<p>3 rows × 27 columns</p>\n",
       "</div>"
      ],
      "text/plain": [
       "   Unnamed: 0 operation property_type country_name              state_name  \\\n",
       "0           0      sell            PH    Argentina         Capital Federal   \n",
       "1           1      sell     apartment    Argentina  Bs.As. G.B.A. Zona Sur   \n",
       "2           2      sell     apartment    Argentina         Capital Federal   \n",
       "\n",
       "   geonames_id                  lat-lon        lat        lon     price  ...  \\\n",
       "0    3430787.0  -34.6618237,-58.5088387 -34.661824 -58.508839   62000.0  ...   \n",
       "1    3432039.0  -34.9038831,-57.9643295 -34.903883 -57.964330  150000.0  ...   \n",
       "2    3430787.0  -34.6522615,-58.5229825 -34.652262 -58.522982   72000.0  ...   \n",
       "\n",
       "  floor  rooms  expenses                                      properati_url  \\\n",
       "0   NaN    NaN       NaN  http://www.properati.com.ar/15bo8_venta_ph_mat...   \n",
       "1   NaN    NaN       NaN  http://www.properati.com.ar/15bob_venta_depart...   \n",
       "2   NaN    NaN       NaN  http://www.properati.com.ar/15bod_venta_depart...   \n",
       "\n",
       "                                         description  \\\n",
       "0  2 AMBIENTES TIPO CASA PLANTA BAJA POR PASILLO,...   \n",
       "1  Venta de departamento en décimo piso al frente...   \n",
       "2  2 AMBIENTES 3ER PISO LATERAL LIVING COMEDOR AM...   \n",
       "\n",
       "                                               title  \\\n",
       "0                 2 AMB TIPO CASA SIN EXPENSAS EN PB   \n",
       "1  VENTA Depto 2 dorm. a estrenar 7 e/ 36 y 37   ...   \n",
       "2           2 AMB 3ER PISO CON ASCENSOR APTO CREDITO   \n",
       "\n",
       "                                     image_thumbnail  null_fila  \\\n",
       "0  https://thumbs4.properati.com/8/BluUYiHJLhgIIK...          3   \n",
       "1  https://thumbs4.properati.com/7/ikpVBu2ztHA7jv...          7   \n",
       "2  https://thumbs4.properati.com/5/SXKr34F_IwG3W_...          3   \n",
       "\n",
       "   place_name_completo  place_with_parent_names_localidad  \n",
       "0            Mataderos                          Mataderos  \n",
       "1             La Plata                           La Plata  \n",
       "2            Mataderos                          Mataderos  \n",
       "\n",
       "[3 rows x 27 columns]"
      ]
     },
     "execution_count": 27,
     "metadata": {},
     "output_type": "execute_result"
    }
   ],
   "source": [
    "data_localidad=data_localidad.drop(columns = \"place_with_parent_names\",axis=1)\n",
    "\n",
    "data_localidad.head(3)"
   ]
  },
  {
   "cell_type": "markdown",
   "metadata": {},
   "source": [
    "Se observa que hay 4476 valores nulos en **place_with_parents_name_localidad** que corresponden a los registros que solo tenían dos datos en **place_with_parents_names** (país y provincia), debido a esto en la columna **place_name** se encuentra el dato de provincia. Se analiza si es posible imputar la localidad en base a **description** o **title**."
   ]
  },
  {
   "cell_type": "code",
   "execution_count": 28,
   "metadata": {},
   "outputs": [
    {
     "name": "stdout",
     "output_type": "stream",
     "text": [
      "4476\n"
     ]
    },
    {
     "data": {
      "text/plain": [
       "Córdoba                         2557\n",
       "Capital Federal                 1095\n",
       "Bs.As. G.B.A. Zona Norte         222\n",
       "Mendoza                          128\n",
       "Buenos Aires Interior            106\n",
       "Tucumán                           76\n",
       "Bs.As. G.B.A. Zona Oeste          65\n",
       "Misiones                          42\n",
       "Santa Fe                          32\n",
       "Buenos Aires Costa Atlántica      27\n",
       "Bs.As. G.B.A. Zona Sur            24\n",
       "Salta                             21\n",
       "San Luis                          19\n",
       "Chubut                            17\n",
       "Neuquén                           10\n",
       "Río Negro                          8\n",
       "San Juan                           7\n",
       "Tierra Del Fuego                   6\n",
       "Catamarca                          3\n",
       "Santiago Del Estero                3\n",
       "La Pampa                           3\n",
       "Corrientes                         2\n",
       "La Rioja                           1\n",
       "Jujuy                              1\n",
       "Chaco                              1\n",
       "Name: state_name, dtype: int64"
      ]
     },
     "execution_count": 28,
     "metadata": {},
     "output_type": "execute_result"
    }
   ],
   "source": [
    "print(data_localidad[\"place_with_parent_names_localidad\"].isnull().sum())\n",
    "nulos_localidad = data_localidad[data_localidad[\"place_with_parent_names_localidad\"].isnull()]\n",
    "\n",
    "#Se observan cuántos nulos hay en cada provincia para ver buscar posibles imputaciones\n",
    "nulos_localidad[\"state_name\"].value_counts()"
   ]
  },
  {
   "cell_type": "code",
   "execution_count": 29,
   "metadata": {},
   "outputs": [
    {
     "data": {
      "text/plain": [
       "108    Casa 180m² con 2 Plantas en Navarro, Julián 29...\n",
       "110    Casa 744m² con 2 Plantas en Del Valle Iberluce...\n",
       "115    Casa 720m² con Plantas en Palma, Diego 1800, A...\n",
       "119    Casa 200m² con Cochera en Barbosa, Gerónimo 14...\n",
       "121    Casa 340m² con Cochera en Palma, Diego 1300, A...\n",
       "311    Casa 741m² con 2 Plantas, Argentina, Capital F...\n",
       "315    Casa 160m² con 3 Plantas en Marconi, Ing. 2400...\n",
       "316    Casa 125m² con 3 Plantas en Lezica, Martín 300...\n",
       "317    Casa 125m² con 3 Plantas en Lezica, Martín 300...\n",
       "326    Casa 1050m² con 3 Plantas, Argentina, Capital ...\n",
       "Name: title, dtype: object"
      ]
     },
     "execution_count": 29,
     "metadata": {},
     "output_type": "execute_result"
    }
   ],
   "source": [
    "#Se prueba buscando en la Capital Federal\n",
    "#A primera vista se observa por \"title\" y \"description\" que no todos las propiedades son efectivamente de Capital Federal\n",
    "\n",
    "data_capital_federal = nulos_localidad.loc[(nulos_localidad[\"state_name\"]==\"Capital Federal\"), :]\n",
    "data_capital_federal.title.head(10)"
   ]
  },
  {
   "cell_type": "markdown",
   "metadata": {},
   "source": [
    "Se intenta buscando barrios para ver si es posible imputar los valores de \"ubicacion\" a través de **description**."
   ]
  },
  {
   "cell_type": "code",
   "execution_count": 30,
   "metadata": {},
   "outputs": [],
   "source": [
    "def imputar_barrio(data, patron):\n",
    "    patron_barrio = patron\n",
    "    regex_barrio = re.compile(patron_barrio, flags=re.IGNORECASE)\n",
    "    barrio_search = data[\"description\"].apply(lambda x: None if x is np.NaN else regex_barrio.search(x))\n",
    "    barrio = barrio_search.apply(lambda x: x if x is None else x.group(0))\n",
    "    return barrio\n",
    "    \n",
    "data_villa_crespo = imputar_barrio(data_capital_federal, \"Villa Crespo\")\n"
   ]
  },
  {
   "cell_type": "code",
   "execution_count": 31,
   "metadata": {},
   "outputs": [
    {
     "data": {
      "text/plain": [
       "Este emprendimiento está ubicado en pleno barrio de Villa Crespo, único lote en esquina de 1.800m2 con excelentes vistas a la ciudad. El edificio de 12 pisos contará con departamentos de 1, 2, 3 y 4 ambientes, y excelentes amenties que le brindarán un espacio de recreación y confort inigualable.                                                   1\n",
       "Casa de 3 amb con living comedor, baño y toilette. Con terraza y cochera. sup total: 160 m2. En el Barrio Villa General Mitre en cercanía del metrobus.U$D 300.000Grupo Mega Op. ScalabriniTel: Av Scalabrini Ortiz 393 - Villa Crespo. CABA                                                                                                               1\n",
       "Venta de local en galeria, en el barrio de Microcentro, muy buena ubicación.Superficie total y cubierta de 23 m2.Tiene un entrepiso, actualmente funciona una libreria.Posee teléfono de línea, expensas $600.Consultar por venta de local + fondo de comercio.Grupo Mega Op. ScalabriniTel: Av Scalabrini Ortiz 393 - Villa Crespo. CABA                  1\n",
       "Este emprendimiento está ubicado en pleno barrio de Villa Crespo, único lote en esquina de 1.800m2 con excelentes vistas a la ciudad. El edificio de 12 pisos contará con departamentos de 1, 2, 3 y 4 ambientes, y excelentes amenties que le brindarán un espacio de recreación y confort inigualable.La unidad publicada es la 5º21CUCICBA Mat. 1544    1\n",
       "Name: description, dtype: int64"
      ]
     },
     "execution_count": 31,
     "metadata": {},
     "output_type": "execute_result"
    }
   ],
   "source": [
    "mask_villa_crespo = data_villa_crespo.notnull()\n",
    "villa_crespo = data_capital_federal.loc[mask_villa_crespo, :]\n",
    "villa_crespo[\"description\"].value_counts()\n",
    "\n",
    "#Se observa que aunque aparece Villa Crespo en la descripción, se refiere a la ubicación de la inmobiliaria, por lo que no es una buena manera de imputar los barrios"
   ]
  },
  {
   "cell_type": "code",
   "execution_count": 32,
   "metadata": {},
   "outputs": [
    {
     "name": "stdout",
     "output_type": "stream",
     "text": [
      "13\n"
     ]
    },
    {
     "data": {
      "text/plain": [
       "Duplex en San Berdardo ;  en pleno centro , a 4 cuadras del mar y 6 de Av. San Bernardo.Al Contado u$s 25.000 y 25  cuotas de u$s 2000                                                                                                                                                                                                                                                                                                                                                                                                                                                                                                                                                                                                                                                                                                                                                                                                                                                                                                                                                                                                                                                                                                                                        1\n",
       "Venta o Permuta Departamento en San Bernardo, Costa Atántica.Excelente unidad monoambiente en pleno centro de San Bernardo.-----------------------------------------------------------Posibilidades de Permutar por departamento o local en Capital Federal o GBA Zona Oeste-----------------------------------------------------------Edificio con seguridad, portero y 3 ascensores con lavadero y terraza.La propiedad se encuentra en 3er Piso.Equipada para 4 personas, consta de:- Cama matrimonial- Cama cucheta- Placares amplios con espejo- Vajilla Nueva- Tv 14 pulgadas- Mesa plegable con 6 sillas plegables con sus respectivos almohadones- Baño completo con tender plegable- Instalación eléctrica nueva con espacios para enchufar celulares y computadoras- Griferías en baño y cocina monocomando- Heladera y Microondas- Cocina con gas naturalDepartamento muy luminoso con ventilación al exterior por ventanales equipados con mosquiteros.Vista al mar.-----------------------------------------------------------Posibilidades de Permutar por departamento o local en Capital Federal o GBA Zona Oeste-----------------------------------------------------------Aguardamos su consultaNorde PropiedadesAv. Emilio Castro 7250, CABA4687 - 1674    1\n",
       "La rioja e/ Belgrano y machado , San BernardoMuy lindo departamento de un dormitorio en venta, ubicado en un 4 piso, dispone de estar comedor, cocina separada, balcon cubierto, baño completo y dorm c/placard.- amoblado.-consulte.-                                                                                                                                                                                                                                                                                                                                                                                                                                                                                                                                                                                                                                                                                                                                                                                                                                                                                                                                                                                                                                        1\n",
       "EXCELENTE LOCAL EN PLENO CENTRO DE SAN BERNARDO (sobre CHIOZZA, la calle principal, entre AV. SAN BERNARDO y HERNANDARIAS) - A una cuadra de la AV. COSTANERA.Compuesto por: DOS PEQUEÑOS LOCALES (a ambos lados de la entrada central) - UN SALÓN PRINCIPAL de 14x36 - BAÑOS EN ENTREPISO  _____Notas: Pendiente de cumplimentar resolución -Coti-. Las medidas son aproximadas y al solo efecto orientativo. Las definitivas surgirán de la documentación pertinente. Las fotos no son vinculantes. VENTA DIRECTA. Encuentre también nuestras propiedades en  Propiedades | Roberto CelanoOficina Lomas  | Oficina Canning                                                                                                                                                                                                                                                                                                                                                                                                                                                                                                                                                                                                                                                  1\n",
       "HERMOSO LOCAL A LA CALLE SOBRE CHIOZZA A METROS DE AV. SAN BERNARDO. EXCELENTE UBICACION. 14x40m. TOTAL EDIFICADO 600m2 EN 2 PLANTAS, POSIBILIDAD DE CONSTRUIR DOS PISOS MAS. 2 BAÑOS. DURANTE EL VERANO FUNCIONA UNA FERIA DE EXPOSICIONES.(FERIA DE LAS NACIONES).***SUPEDITADO AL CUMPLIMIENTO RESOLUCION AFIP***- Ancho planta baja: 14.00- Banos individuales: Si- Banos centrales: No- Office: No- Altura interna: 0- Fondo planta baja: 40.00- Con vivienda: No- Categoria: BUENA- Ultimo destino: FERIA DE EXPOSICIONES- Estado general: BUENO- Apto gastronomia: Si- Propiedad horizontal: No- Apto todo destino: Si                                                                                                                                                                                                                                                                                                                                                                                                                                                                                                                                                                                                                                                 1\n",
       "Name: description, dtype: int64"
      ]
     },
     "execution_count": 32,
     "metadata": {},
     "output_type": "execute_result"
    }
   ],
   "source": [
    "#Se prueba busando una localidad:\n",
    "\n",
    "data_san_bernardo = imputar_barrio(nulos_localidad, \"san bernardo\")\n",
    "\n",
    "print(data_san_bernardo.notnull().sum())\n",
    "mask_san_bernardo = data_san_bernardo.notnull()\n",
    "san_bernardo = nulos_localidad.loc[mask_san_bernardo, :]\n",
    "san_bernardo[\"description\"].value_counts().tail(5)\n",
    "\n",
    "#Se observa que \"San Bernardo\" también lo encuentra como barrio de la localidad de Luján."
   ]
  },
  {
   "cell_type": "markdown",
   "metadata": {},
   "source": [
    "Se concluye que no es posible imputar los valores nulos en **place_with_parent_names_localidad** ya que no es confiable la información (tampoco es posible confirmar a qué provincia pertenece). Debido a esto se eliminan los registros."
   ]
  },
  {
   "cell_type": "code",
   "execution_count": 33,
   "metadata": {},
   "outputs": [
    {
     "name": "stdout",
     "output_type": "stream",
     "text": [
      "0\n",
      "(119497, 27)\n",
      "(115021, 27)\n",
      "4476\n"
     ]
    }
   ],
   "source": [
    "def elimino_filas(data, columna):\n",
    "    data_completa=data.dropna(subset=[columna], axis=0)\n",
    "    return data_completa\n",
    "\n",
    "data_completa = elimino_filas(data_localidad, \"place_with_parent_names_localidad\")\n",
    "\n",
    "#Revisamos que este bien realizada la operación:\n",
    "print(data_completa.place_with_parent_names_localidad.isnull().sum())\n",
    "print(data_localidad.shape)\n",
    "print(data_completa.shape)\n",
    "print(119497-115021)\n",
    "#La diferencia son los 4476 registros de localidad vacios"
   ]
  },
  {
   "cell_type": "code",
   "execution_count": 34,
   "metadata": {},
   "outputs": [
    {
     "name": "stderr",
     "output_type": "stream",
     "text": [
      "C:\\Users\\Usuario\\anaconda3\\envs\\dhdsblend\\lib\\site-packages\\ipykernel_launcher.py:1: SettingWithCopyWarning: \n",
      "A value is trying to be set on a copy of a slice from a DataFrame.\n",
      "Try using .loc[row_indexer,col_indexer] = value instead\n",
      "\n",
      "See the caveats in the documentation: https://pandas.pydata.org/pandas-docs/stable/user_guide/indexing.html#returning-a-view-versus-a-copy\n",
      "  \"\"\"Entry point for launching an IPython kernel.\n"
     ]
    }
   ],
   "source": [
    "data_completa[\"provincia_localidad\"]=data_completa[\"state_name\"]+\"_\"+data_completa[\"place_with_parent_names_localidad\"]"
   ]
  },
  {
   "cell_type": "code",
   "execution_count": 35,
   "metadata": {},
   "outputs": [
    {
     "data": {
      "text/plain": [
       "0                          Capital Federal_Mataderos\n",
       "1                    Bs.As. G.B.A. Zona Sur_La Plata\n",
       "2                          Capital Federal_Mataderos\n",
       "3                            Capital Federal_Liniers\n",
       "4         Buenos Aires Costa Atlántica_Mar del Plata\n",
       "                             ...                    \n",
       "121214           Bs.As. G.B.A. Zona Norte_San Isidro\n",
       "121215                      Capital Federal_Belgrano\n",
       "121216           Bs.As. G.B.A. Zona Norte_San Isidro\n",
       "121217                 Capital Federal_Villa Urquiza\n",
       "121218    Buenos Aires Costa Atlántica_Mar del Plata\n",
       "Name: provincia_localidad, Length: 115021, dtype: object"
      ]
     },
     "execution_count": 35,
     "metadata": {},
     "output_type": "execute_result"
    }
   ],
   "source": [
    "data_completa[\"provincia_localidad\"]"
   ]
  },
  {
   "cell_type": "markdown",
   "metadata": {},
   "source": [
    "#### Precio\n",
    "\n",
    "Por otro lado es necesario analizar el precio. Observamos las siguientes columnas: \n",
    "**price_aprox_local_currency**,\n",
    "**price_aprox_usd**,\n",
    "**price_usd_per_m2**( corresponde al precio por m2 total), **price_per_m2** (corresponde al precio por m2 cubierto)\n",
    "\n"
   ]
  },
  {
   "cell_type": "code",
   "execution_count": 36,
   "metadata": {},
   "outputs": [
    {
     "name": "stdout",
     "output_type": "stream",
     "text": [
      "nulos de precio en $ 18736\n",
      "nulos de precio en U$D 18736\n",
      "nulos de precio en U$D por m2 49098\n",
      "nulos de precio en U$D por m2 30975\n"
     ]
    }
   ],
   "source": [
    "print(\"nulos de precio en $\", data_completa[\"price_aprox_local_currency\"].isnull().sum())\n",
    "print(\"nulos de precio en U$D\", data_completa[\"price_aprox_usd\"].isnull().sum())\n",
    "print(\"nulos de precio en U$D por m2\", data_completa[\"price_usd_per_m2\"].isnull().sum())\n",
    "print(\"nulos de precio en U$D por m2\", data_completa[\"price_per_m2\"].isnull().sum())\n"
   ]
  },
  {
   "cell_type": "markdown",
   "metadata": {},
   "source": [
    "El tipo de cambio utilizado en la base es 17.6445 que corresponde al año del dataset. Se utilizarán los valores de precio en USD y se eliminará la columna **price_aprox_local_currency** (será realizado al finalizar la limpieza de datos). \n"
   ]
  },
  {
   "cell_type": "code",
   "execution_count": 37,
   "metadata": {},
   "outputs": [
    {
     "data": {
      "text/plain": [
       "17.6445"
      ]
     },
     "execution_count": 37,
     "metadata": {},
     "output_type": "execute_result"
    }
   ],
   "source": [
    "tipo_de_cambio = data_completa[\"price_aprox_local_currency\"]/data_completa[\"price_aprox_usd\"]\n",
    "tipo_de_cambio[0]"
   ]
  },
  {
   "cell_type": "markdown",
   "metadata": {},
   "source": [
    "En virtud de la variedad de datos y la falta de información se definió que la mejor manera de realizar los análisis eran a partir del precio por m2 total de cada propiedad. En ese sentido se definió imputar **price_usd_per_m2** tomando en cuenta **\"provincia_localidad\"** y **propery_type**. &nbsp;\n",
    "\n",
    "En primer lugar, se observa que hay valores de **provincia_localidad** con pocos registros. Además al agruparlo por **propery_type** muchos grupos no cuentan con suficientes cantidad de registros para poder realizar la imputación de una manera confiable. Debido a esto se define utilizar solamente los agrupamientos que tengan 5 o más registros. "
   ]
  },
  {
   "cell_type": "code",
   "execution_count": 38,
   "metadata": {},
   "outputs": [
    {
     "name": "stdout",
     "output_type": "stream",
     "text": [
      "(115021, 28)\n",
      "(114082, 29)\n"
     ]
    },
    {
     "data": {
      "text/plain": [
       "provincia_localidad                         property_type\n",
       "Mendoza_El Sauce                            house               5\n",
       "Salta_Salta                                 PH                  5\n",
       "Salta_Rosario de Lerma                      house               5\n",
       "Buenos Aires Interior_General Alvarado      house               5\n",
       "Salta_Cafayate                              apartment           5\n",
       "                                                             ... \n",
       "Córdoba_Córdoba                             apartment        3789\n",
       "Bs.As. G.B.A. Zona Norte_Tigre              apartment        4053\n",
       "                                            house            4804\n",
       "Buenos Aires Costa Atlántica_Mar del Plata  apartment        5341\n",
       "Santa Fe_Rosario                            apartment        7140\n",
       "Name: Unnamed: 0, Length: 628, dtype: int64"
      ]
     },
     "execution_count": 38,
     "metadata": {},
     "output_type": "execute_result"
    }
   ],
   "source": [
    "cant_por_grupo = data_completa.groupby(by=[\"provincia_localidad\", \"property_type\"]).agg(cantidad_por_grupo=(\"Unnamed: 0\", \"count\"))\n",
    "data_con_cant =pd.merge(data_completa, cant_por_grupo, left_on=[\"provincia_localidad\",'property_type'], right_index=True, how='left')\n",
    "data_hasta_5=data_con_cant.loc[(data_con_cant[\"cantidad_por_grupo\"]>=5),:]\n",
    "\n",
    "print(data_completa.shape)\n",
    "print(data_hasta_5.shape)\n",
    "\n",
    "#revisamos la operación\n",
    "agrupado = data_hasta_5.groupby(by=[\"provincia_localidad\", \"property_type\"])\n",
    "agrupado[\"Unnamed: 0\"].count().sort_values()\n",
    "#Se eliminan 939 registros"
   ]
  },
  {
   "cell_type": "markdown",
   "metadata": {},
   "source": [
    "Se resolvió eliminar los valores de **price_usd_per_m2** considerados outliers previo a realizar la imputación para no evitar una imputación errórea que distrorsione el dataset."
   ]
  },
  {
   "cell_type": "code",
   "execution_count": 39,
   "metadata": {},
   "outputs": [
    {
     "name": "stdout",
     "output_type": "stream",
     "text": [
      "4400.0\n",
      "Se eliminan: 2752\n"
     ]
    }
   ],
   "source": [
    "q1=data_hasta_5[\"price_usd_per_m2\"].quantile(0.25)\n",
    "q2 = data_hasta_5[\"price_usd_per_m2\"].quantile(0.5)\n",
    "q3= data_hasta_5[\"price_usd_per_m2\"].quantile(0.75)\n",
    "q4 = data_hasta_5[\"price_usd_per_m2\"].quantile(1)\n",
    "interq=q3-q1\n",
    "\n",
    "umbral_bajo = q1 - (1.5*interq)\n",
    "umbral_alto = q3 + (1.5*interq)\n",
    "\n",
    "\n",
    "outlier_alto = data_hasta_5[\"price_usd_per_m2\"] > umbral_alto\n",
    "outlier_bajo = data_hasta_5[\"price_usd_per_m2\"] < umbral_bajo\n",
    "outlier_mask = np.logical_or(outlier_alto , outlier_bajo )\n",
    "sin_outliers = np.logical_not(outlier_mask)\n",
    "outliers = data_hasta_5[\"price_usd_per_m2\"][outlier_mask]\n",
    "print(umbral_alto)\n",
    "\n",
    "data_limpia=data_hasta_5[sin_outliers]\n",
    "print(\"Se eliminan:\", data_hasta_5.shape[0] - data_limpia.shape[0])"
   ]
  },
  {
   "cell_type": "markdown",
   "metadata": {},
   "source": [
    "Se genera una función a fin de analizar los valores por ubicacion y **property_type** para poder imputar los precios. "
   ]
  },
  {
   "cell_type": "code",
   "execution_count": 40,
   "metadata": {},
   "outputs": [],
   "source": [
    "def generar_campos_para_imputar(data, columna):\n",
    "    precio_m2_prom = data.groupby(by=[columna,\"property_type\"]).agg(price_m2_prom=(\"price_usd_per_m2\",\"mean\"))\n",
    "    desvio_por_grupo = data.groupby(by=[columna,\"property_type\"]).agg(price_m2_desv=(\"price_usd_per_m2\",\"std\"))\n",
    "    cant_por_grupo = data.groupby(by=[columna,\"property_type\"]).agg(cant=(\"price_usd_per_m2\",'count'))\n",
    "    q1_por_grupo = data.groupby(by=[columna,\"property_type\"])[\"price_usd_per_m2\"].quantile(0.25).to_frame(\"q1\")\n",
    "    q3_por_grupo = data.groupby(by=[columna,\"property_type\"])[\"price_usd_per_m2\"].quantile(0.75).to_frame(\"q3\")\n",
    "    data_con_campo_a_imputar = pd.merge(data, precio_m2_prom, left_on=[columna,'property_type'], right_index=True, how=\"left\")\n",
    "    data_con_campo_a_imputar = pd.merge(data_con_campo_a_imputar, desvio_por_grupo, left_on=[columna,\"property_type\"], right_index=True, how=\"left\")\n",
    "    data_con_campo_a_imputar[\"coef_var\"] = data_con_campo_a_imputar[\"price_m2_desv\"]/data_con_campo_a_imputar[\"price_m2_prom\"]\n",
    "    data_con_campo_a_imputar = pd.merge(data_con_campo_a_imputar, cant_por_grupo, left_on=[columna,\"property_type\"], right_index=True, how=\"left\")\n",
    "    data_con_campo_a_imputar = pd.merge(data_con_campo_a_imputar, q1_por_grupo, left_on=[columna,\"property_type\"], right_index=True, how=\"left\")\n",
    "    data_con_campo_a_imputar = pd.merge(data_con_campo_a_imputar, q3_por_grupo, left_on=[columna,\"property_type\"], right_index=True, how=\"left\")\n",
    "    return data_con_campo_a_imputar"
   ]
  },
  {
   "cell_type": "markdown",
   "metadata": {},
   "source": [
    "Se crea una función para poder estimar **precio_usd_per_m2** en los casos que se cuente con la información de **price_usd_per_m2\""
   ]
  },
  {
   "cell_type": "code",
   "execution_count": 41,
   "metadata": {},
   "outputs": [],
   "source": [
    "def completar_datos_para_estimar(data):\n",
    "    precios_m2_imputados=data.apply(\n",
    "        lambda x: x[\"price_aprox_usd\"] / x[\"surface_total_in_m2\"] \n",
    "                if pd.isnull(x[\"price_usd_per_m2\"]) and  x[\"surface_total_in_m2\"]>0\n",
    "                else x[\"price_usd_per_m2\"]  , axis=1) \n",
    "    data_original[\"price_usd_per_m2\"]=precios_m2_imputados\n",
    "    return datos_para_imputar"
   ]
  },
  {
   "cell_type": "markdown",
   "metadata": {},
   "source": [
    "Se crea una función para eliminar los outliers en el campo **price_usd_per_m2**."
   ]
  },
  {
   "cell_type": "code",
   "execution_count": 42,
   "metadata": {},
   "outputs": [],
   "source": [
    "def eliminar_outliers(data):\n",
    "    outlier_alto = (data[\"price_usd_per_m2\"]>(data[\"q3\"]+1.5*(data[\"q3\"]-data[\"q1\"])))\n",
    "    outlier_bajo = (data[\"price_usd_per_m2\"]<(data[\"q1\"]-1.5*(data[\"q3\"]-data[\"q1\"])))\n",
    "    outlier_mask = np.logical_or(outlier_alto , outlier_bajo )\n",
    "    sin_outliers = np.logical_not(outlier_mask)\n",
    "    datos_sin_outliers=data.drop(data[outlier_mask].index)  \n",
    "    return datos_sin_outliers "
   ]
  },
  {
   "cell_type": "markdown",
   "metadata": {},
   "source": [
    "Se crea una función para imputar los valores de **price_usd_per_m2** tomando como criterio que el coeficiente de variación (considerando la ubicación y **propery_type** sea menor a 0.8."
   ]
  },
  {
   "cell_type": "code",
   "execution_count": 43,
   "metadata": {},
   "outputs": [],
   "source": [
    "def imputar_valores(data):\n",
    "    precios_m2_imputados=data.apply(\n",
    "        lambda x: x[\"price_m2_prom\"] \n",
    "                if pd.isnull(x[\"price_usd_per_m2\"]) and x[\"coef_var\"]<0.8\n",
    "                else x[\"price_usd_per_m2\"]  , axis=1)   \n",
    "    data[\"price_usd_per_m2\"]=precios_m2_imputados\n",
    "    return data\n",
    "   "
   ]
  },
  {
   "cell_type": "markdown",
   "metadata": {},
   "source": [
    "Se crea una función para eliminar todos los datos nulos que no se han podido imputar."
   ]
  },
  {
   "cell_type": "code",
   "execution_count": 44,
   "metadata": {},
   "outputs": [],
   "source": [
    "def eliminar_precio_nan(data):\n",
    "    #analizo el caso de eliminar los precio NaN, en lugar de estimarlos\n",
    "    sin_precio_nulo=data.dropna(subset=[\"price_usd_per_m2\"]) \n",
    "    return sin_precio_nulo"
   ]
  },
  {
   "cell_type": "markdown",
   "metadata": {},
   "source": [
    "Se realizan las imputaciones y se eliminan los datos utilizando como ubicación la columna **\"provincia_localidad\"** obsevando en cada caso los nulos y tamaños de cada dataset para confirmar que los pasos se realicen correctamente."
   ]
  },
  {
   "cell_type": "code",
   "execution_count": 45,
   "metadata": {},
   "outputs": [
    {
     "name": "stdout",
     "output_type": "stream",
     "text": [
      "antes de generar_campos_para_imputar  48491 nulls.  (111330, 29)\n",
      "despues de generar_campos_para_imputar  48491 nulls.  (111330, 35) \n",
      "\n",
      "antes de completar_datos_para_estimar  48491 nulls.  (111330, 35)\n",
      "despues de completar_datos_para_estimar  48491 nulls.  (111330, 35) \n",
      "\n",
      "antes de eliminar_outliers  48491 nulls.  (111330, 35)\n",
      "despues de eliminar_outliers  48491 nulls.  (109604, 35) \n",
      "\n",
      "antes de imputar_valores  48491 nulls.  (109604, 35)\n",
      "después de imputar_valores  2954 nulls.  (109604, 35) \n",
      "\n",
      "antes de elimino_precio_nan  2954 nulls.  (109604, 35)\n",
      "después de elimino_precio_nan  0 nulls.  (106650, 35) \n",
      "\n"
     ]
    }
   ],
   "source": [
    "print(\"antes de generar_campos_para_imputar \",data_limpia[\"price_usd_per_m2\"].isnull().sum(), \"nulls. \",data_limpia.shape)\n",
    "datos_para_imputar=generar_campos_para_imputar(data_limpia, \"provincia_localidad\")\n",
    "print(\"despues de generar_campos_para_imputar \",datos_para_imputar[\"price_usd_per_m2\"].isnull().sum(), \"nulls. \",datos_para_imputar.shape,'\\n')\n",
    "\n",
    "print(\"antes de completar_datos_para_estimar \",datos_para_imputar[\"price_usd_per_m2\"].isnull().sum(), \"nulls. \",datos_para_imputar.shape)\n",
    "data_estimaciones = completar_datos_para_estimar(datos_para_imputar)\n",
    "print(\"despues de completar_datos_para_estimar \",data_estimaciones[\"price_usd_per_m2\"].isnull().sum(), \"nulls. \",data_estimaciones.shape,'\\n')\n",
    "\n",
    "print(\"antes de eliminar_outliers \",data_estimaciones[\"price_usd_per_m2\"].isnull().sum(), \"nulls. \",data_estimaciones.shape)\n",
    "data_sin_outliers=eliminar_outliers(data_estimaciones)\n",
    "print(\"despues de eliminar_outliers \",data_sin_outliers[\"price_usd_per_m2\"].isnull().sum(), \"nulls. \",data_sin_outliers.shape, '\\n')\n",
    "#se eliminaron 1719 valores\n",
    "\n",
    "print(\"antes de imputar_valores \",data_sin_outliers[\"price_usd_per_m2\"].isnull().sum(), \"nulls. \",data_sin_outliers.shape)\n",
    "data_imputada=imputar_valores(data_sin_outliers)\n",
    "print(\"después de imputar_valores \",data_imputada[\"price_usd_per_m2\"].isnull().sum(), \"nulls. \",data_imputada.shape,'\\n')\n",
    "#Se imputaron 45577 valores\n",
    "\n",
    "print(\"antes de elimino_precio_nan \",data_imputada[\"price_usd_per_m2\"].isnull().sum(), \"nulls. \" ,data_imputada.shape)\n",
    "data_sin_precio_nulo=eliminar_precio_nan(data_imputada)\n",
    "print(\"después de elimino_precio_nan \",data_sin_precio_nulo[\"price_usd_per_m2\"].isnull().sum(), \"nulls. \",data_sin_precio_nulo.shape,'\\n')"
   ]
  },
  {
   "cell_type": "markdown",
   "metadata": {},
   "source": [
    "Luego de realizar las imputaciones y eliminar los registros nulos, quedan casos de la agrupación **\"provincia_localidad\"** y **property_type** con pocos registros debido a la eliminación de registros nulos). Por lo que se vuelvo a realizar el filtro para que cada grupo tenga más 5 o más valores."
   ]
  },
  {
   "cell_type": "code",
   "execution_count": 46,
   "metadata": {},
   "outputs": [
    {
     "name": "stdout",
     "output_type": "stream",
     "text": [
      "(106650, 35)\n",
      "(106536, 36)\n"
     ]
    },
    {
     "data": {
      "text/plain": [
       "provincia_localidad                         property_type\n",
       "Buenos Aires Costa Atlántica_San Bernardo   PH                  5\n",
       "Buenos Aires Costa Atlántica_Mar del Tuyú   PH                  5\n",
       "Chubut_Comodoro Rivadavia                   apartment           5\n",
       "Capital Federal_Villa Ortuzar               house               5\n",
       "                                            PH                  5\n",
       "                                                             ... \n",
       "Córdoba_Córdoba                             apartment        3759\n",
       "Bs.As. G.B.A. Zona Norte_Tigre              apartment        3960\n",
       "                                            house            4728\n",
       "Buenos Aires Costa Atlántica_Mar del Plata  apartment        5195\n",
       "Santa Fe_Rosario                            apartment        6908\n",
       "Name: Unnamed: 0, Length: 519, dtype: int64"
      ]
     },
     "execution_count": 46,
     "metadata": {},
     "output_type": "execute_result"
    }
   ],
   "source": [
    "data_agrupada = data_sin_precio_nulo.groupby(by=[\"provincia_localidad\", \"property_type\"]).agg(cantidad_grupo=(\"Unnamed: 0\", \"count\"))\n",
    "data_cant_grupos =pd.merge(data_sin_precio_nulo, data_agrupada, left_on=[\"provincia_localidad\",'property_type'], right_index=True, how='left')\n",
    "data_consolidada=data_cant_grupos.loc[(data_cant_grupos[\"cantidad_grupo\"]>=5),:]\n",
    "\n",
    "print(data_sin_precio_nulo.shape)\n",
    "print(data_consolidada.shape)\n",
    "#se eliminan 115 registros\n",
    "\n",
    "#revisamos que se realice correctamente la operación\n",
    "agrupado = data_consolidada.groupby(by=[\"provincia_localidad\", \"property_type\"])\n",
    "agrupado[\"Unnamed: 0\"].count().sort_values()"
   ]
  },
  {
   "cell_type": "markdown",
   "metadata": {},
   "source": [
    "#### Información conoslidada\n",
    "\n",
    "Se genera una tabla de información consolidada con las principales métricas en cada grupo de **provincia_localidad** y **property_type**."
   ]
  },
  {
   "cell_type": "code",
   "execution_count": 47,
   "metadata": {},
   "outputs": [
    {
     "data": {
      "text/html": [
       "<div>\n",
       "<style scoped>\n",
       "    .dataframe tbody tr th:only-of-type {\n",
       "        vertical-align: middle;\n",
       "    }\n",
       "\n",
       "    .dataframe tbody tr th {\n",
       "        vertical-align: top;\n",
       "    }\n",
       "\n",
       "    .dataframe thead th {\n",
       "        text-align: right;\n",
       "    }\n",
       "</style>\n",
       "<table border=\"1\" class=\"dataframe\">\n",
       "  <thead>\n",
       "    <tr style=\"text-align: right;\">\n",
       "      <th></th>\n",
       "      <th></th>\n",
       "      <th>std</th>\n",
       "      <th>mean</th>\n",
       "      <th>CoefVar</th>\n",
       "    </tr>\n",
       "    <tr>\n",
       "      <th>provincia_localidad</th>\n",
       "      <th>property_type</th>\n",
       "      <th></th>\n",
       "      <th></th>\n",
       "      <th></th>\n",
       "    </tr>\n",
       "  </thead>\n",
       "  <tbody>\n",
       "    <tr>\n",
       "      <th rowspan=\"4\" valign=\"top\">Bs.As. G.B.A. Zona Norte_Escobar</th>\n",
       "      <th>PH</th>\n",
       "      <td>790.107489</td>\n",
       "      <td>1704.582617</td>\n",
       "      <td>0.463520</td>\n",
       "    </tr>\n",
       "    <tr>\n",
       "      <th>apartment</th>\n",
       "      <td>330.439845</td>\n",
       "      <td>1673.496821</td>\n",
       "      <td>0.197455</td>\n",
       "    </tr>\n",
       "    <tr>\n",
       "      <th>house</th>\n",
       "      <td>406.816405</td>\n",
       "      <td>1003.202478</td>\n",
       "      <td>0.405518</td>\n",
       "    </tr>\n",
       "    <tr>\n",
       "      <th>store</th>\n",
       "      <td>432.932056</td>\n",
       "      <td>1873.528452</td>\n",
       "      <td>0.231078</td>\n",
       "    </tr>\n",
       "    <tr>\n",
       "      <th>Bs.As. G.B.A. Zona Norte_General San Martín</th>\n",
       "      <th>PH</th>\n",
       "      <td>293.650662</td>\n",
       "      <td>959.215179</td>\n",
       "      <td>0.306136</td>\n",
       "    </tr>\n",
       "    <tr>\n",
       "      <th>...</th>\n",
       "      <th>...</th>\n",
       "      <td>...</td>\n",
       "      <td>...</td>\n",
       "      <td>...</td>\n",
       "    </tr>\n",
       "    <tr>\n",
       "      <th rowspan=\"2\" valign=\"top\">Tucumán_San Miguel de Tucumán</th>\n",
       "      <th>house</th>\n",
       "      <td>140.477126</td>\n",
       "      <td>612.030815</td>\n",
       "      <td>0.229526</td>\n",
       "    </tr>\n",
       "    <tr>\n",
       "      <th>store</th>\n",
       "      <td>100.795730</td>\n",
       "      <td>606.261789</td>\n",
       "      <td>0.166258</td>\n",
       "    </tr>\n",
       "    <tr>\n",
       "      <th>Tucumán_Tafí del Valle</th>\n",
       "      <th>house</th>\n",
       "      <td>36.856247</td>\n",
       "      <td>555.264099</td>\n",
       "      <td>0.066376</td>\n",
       "    </tr>\n",
       "    <tr>\n",
       "      <th rowspan=\"2\" valign=\"top\">Tucumán_Yerba Buena</th>\n",
       "      <th>apartment</th>\n",
       "      <td>105.210940</td>\n",
       "      <td>904.461996</td>\n",
       "      <td>0.116324</td>\n",
       "    </tr>\n",
       "    <tr>\n",
       "      <th>house</th>\n",
       "      <td>333.303147</td>\n",
       "      <td>832.428639</td>\n",
       "      <td>0.400398</td>\n",
       "    </tr>\n",
       "  </tbody>\n",
       "</table>\n",
       "<p>519 rows × 3 columns</p>\n",
       "</div>"
      ],
      "text/plain": [
       "                                                                  std  \\\n",
       "provincia_localidad                         property_type               \n",
       "Bs.As. G.B.A. Zona Norte_Escobar            PH             790.107489   \n",
       "                                            apartment      330.439845   \n",
       "                                            house          406.816405   \n",
       "                                            store          432.932056   \n",
       "Bs.As. G.B.A. Zona Norte_General San Martín PH             293.650662   \n",
       "...                                                               ...   \n",
       "Tucumán_San Miguel de Tucumán               house          140.477126   \n",
       "                                            store          100.795730   \n",
       "Tucumán_Tafí del Valle                      house           36.856247   \n",
       "Tucumán_Yerba Buena                         apartment      105.210940   \n",
       "                                            house          333.303147   \n",
       "\n",
       "                                                                  mean  \\\n",
       "provincia_localidad                         property_type                \n",
       "Bs.As. G.B.A. Zona Norte_Escobar            PH             1704.582617   \n",
       "                                            apartment      1673.496821   \n",
       "                                            house          1003.202478   \n",
       "                                            store          1873.528452   \n",
       "Bs.As. G.B.A. Zona Norte_General San Martín PH              959.215179   \n",
       "...                                                                ...   \n",
       "Tucumán_San Miguel de Tucumán               house           612.030815   \n",
       "                                            store           606.261789   \n",
       "Tucumán_Tafí del Valle                      house           555.264099   \n",
       "Tucumán_Yerba Buena                         apartment       904.461996   \n",
       "                                            house           832.428639   \n",
       "\n",
       "                                                            CoefVar  \n",
       "provincia_localidad                         property_type            \n",
       "Bs.As. G.B.A. Zona Norte_Escobar            PH             0.463520  \n",
       "                                            apartment      0.197455  \n",
       "                                            house          0.405518  \n",
       "                                            store          0.231078  \n",
       "Bs.As. G.B.A. Zona Norte_General San Martín PH             0.306136  \n",
       "...                                                             ...  \n",
       "Tucumán_San Miguel de Tucumán               house          0.229526  \n",
       "                                            store          0.166258  \n",
       "Tucumán_Tafí del Valle                      house          0.066376  \n",
       "Tucumán_Yerba Buena                         apartment      0.116324  \n",
       "                                            house          0.400398  \n",
       "\n",
       "[519 rows x 3 columns]"
      ]
     },
     "execution_count": 47,
     "metadata": {},
     "output_type": "execute_result"
    }
   ],
   "source": [
    "#analiza información resultado de la imputación\n",
    "\n",
    "def consolido(data_consolidada):\n",
    "    agrupados=data_consolidada.groupby([\"provincia_localidad\", \"property_type\"])\n",
    "    consolidado=pd.DataFrame()\n",
    "    #consolidado['cantidad']=agrupados['price_aprox_usd'].value_counts()\n",
    "    consolidado['std']=agrupados['price_usd_per_m2'].std()\n",
    "    consolidado['mean']=agrupados['price_usd_per_m2'].mean()\n",
    "    consolidado['CoefVar']=agrupados['price_usd_per_m2'].std()/agrupados['price_usd_per_m2'].mean()\n",
    "    return consolidado\n",
    "\n",
    "data_consolido = consolido(data_consolidada)\n",
    "data_consolido"
   ]
  },
  {
   "cell_type": "markdown",
   "metadata": {},
   "source": [
    "#### Amenities\n",
    "\n",
    "Se crea una función para recuperar información de amenities o extras de la las propiedades a través de la utilización de expresiones regulares de la columna **description**. "
   ]
  },
  {
   "cell_type": "code",
   "execution_count": 48,
   "metadata": {},
   "outputs": [],
   "source": [
    "def buscar_amenities(patron):\n",
    "    patron_amenities = patron\n",
    "    regex =re.compile(patron_amenities)\n",
    "    tiene_amenities = data_consolidada[\"description\"].apply(lambda x: None if x is np.NaN else regex.search(x))\n",
    "    amenities = tiene_amenities.apply(lambda x: x if x is None else x.group(0))\n",
    "    dummie_amenities = amenities.apply(lambda x :0 if x is None else 1)\n",
    "    return dummie_amenities"
   ]
  },
  {
   "cell_type": "markdown",
   "metadata": {},
   "source": [
    "Se realiza la búsqueda de \"pileta\", \"terraza\", \"parrilla\" y \"patio\" con las que se generar variables dummies y se incorporan en el dataset a través de un *join*."
   ]
  },
  {
   "cell_type": "code",
   "execution_count": 49,
   "metadata": {},
   "outputs": [
    {
     "data": {
      "text/html": [
       "<div>\n",
       "<style scoped>\n",
       "    .dataframe tbody tr th:only-of-type {\n",
       "        vertical-align: middle;\n",
       "    }\n",
       "\n",
       "    .dataframe tbody tr th {\n",
       "        vertical-align: top;\n",
       "    }\n",
       "\n",
       "    .dataframe thead th {\n",
       "        text-align: right;\n",
       "    }\n",
       "</style>\n",
       "<table border=\"1\" class=\"dataframe\">\n",
       "  <thead>\n",
       "    <tr style=\"text-align: right;\">\n",
       "      <th></th>\n",
       "      <th>Unnamed: 0</th>\n",
       "      <th>operation</th>\n",
       "      <th>property_type</th>\n",
       "      <th>country_name</th>\n",
       "      <th>state_name</th>\n",
       "      <th>geonames_id</th>\n",
       "      <th>lat-lon</th>\n",
       "      <th>lat</th>\n",
       "      <th>lon</th>\n",
       "      <th>price</th>\n",
       "      <th>...</th>\n",
       "      <th>price_m2_desv</th>\n",
       "      <th>coef_var</th>\n",
       "      <th>cant</th>\n",
       "      <th>q1</th>\n",
       "      <th>q3</th>\n",
       "      <th>cantidad_grupo</th>\n",
       "      <th>description_pileta</th>\n",
       "      <th>description_terraza</th>\n",
       "      <th>description_parrilla</th>\n",
       "      <th>description_patio</th>\n",
       "    </tr>\n",
       "  </thead>\n",
       "  <tbody>\n",
       "    <tr>\n",
       "      <th>0</th>\n",
       "      <td>0</td>\n",
       "      <td>sell</td>\n",
       "      <td>PH</td>\n",
       "      <td>Argentina</td>\n",
       "      <td>Capital Federal</td>\n",
       "      <td>3430787.0</td>\n",
       "      <td>-34.6618237,-58.5088387</td>\n",
       "      <td>-34.661824</td>\n",
       "      <td>-58.508839</td>\n",
       "      <td>62000.0</td>\n",
       "      <td>...</td>\n",
       "      <td>496.858426</td>\n",
       "      <td>0.360357</td>\n",
       "      <td>80</td>\n",
       "      <td>1024.431818</td>\n",
       "      <td>1761.979167</td>\n",
       "      <td>126</td>\n",
       "      <td>0</td>\n",
       "      <td>0</td>\n",
       "      <td>0</td>\n",
       "      <td>0</td>\n",
       "    </tr>\n",
       "    <tr>\n",
       "      <th>1</th>\n",
       "      <td>1</td>\n",
       "      <td>sell</td>\n",
       "      <td>apartment</td>\n",
       "      <td>Argentina</td>\n",
       "      <td>Bs.As. G.B.A. Zona Sur</td>\n",
       "      <td>3432039.0</td>\n",
       "      <td>-34.9038831,-57.9643295</td>\n",
       "      <td>-34.903883</td>\n",
       "      <td>-57.964330</td>\n",
       "      <td>150000.0</td>\n",
       "      <td>...</td>\n",
       "      <td>444.218221</td>\n",
       "      <td>0.256505</td>\n",
       "      <td>595</td>\n",
       "      <td>1489.361702</td>\n",
       "      <td>2000.000000</td>\n",
       "      <td>1556</td>\n",
       "      <td>0</td>\n",
       "      <td>0</td>\n",
       "      <td>0</td>\n",
       "      <td>0</td>\n",
       "    </tr>\n",
       "    <tr>\n",
       "      <th>2</th>\n",
       "      <td>2</td>\n",
       "      <td>sell</td>\n",
       "      <td>apartment</td>\n",
       "      <td>Argentina</td>\n",
       "      <td>Capital Federal</td>\n",
       "      <td>3430787.0</td>\n",
       "      <td>-34.6522615,-58.5229825</td>\n",
       "      <td>-34.652262</td>\n",
       "      <td>-58.522982</td>\n",
       "      <td>72000.0</td>\n",
       "      <td>...</td>\n",
       "      <td>550.787819</td>\n",
       "      <td>0.297665</td>\n",
       "      <td>105</td>\n",
       "      <td>1500.000000</td>\n",
       "      <td>2166.666667</td>\n",
       "      <td>144</td>\n",
       "      <td>0</td>\n",
       "      <td>0</td>\n",
       "      <td>0</td>\n",
       "      <td>0</td>\n",
       "    </tr>\n",
       "  </tbody>\n",
       "</table>\n",
       "<p>3 rows × 40 columns</p>\n",
       "</div>"
      ],
      "text/plain": [
       "   Unnamed: 0 operation property_type country_name              state_name  \\\n",
       "0           0      sell            PH    Argentina         Capital Federal   \n",
       "1           1      sell     apartment    Argentina  Bs.As. G.B.A. Zona Sur   \n",
       "2           2      sell     apartment    Argentina         Capital Federal   \n",
       "\n",
       "   geonames_id                  lat-lon        lat        lon     price  ...  \\\n",
       "0    3430787.0  -34.6618237,-58.5088387 -34.661824 -58.508839   62000.0  ...   \n",
       "1    3432039.0  -34.9038831,-57.9643295 -34.903883 -57.964330  150000.0  ...   \n",
       "2    3430787.0  -34.6522615,-58.5229825 -34.652262 -58.522982   72000.0  ...   \n",
       "\n",
       "  price_m2_desv  coef_var  cant           q1           q3  cantidad_grupo  \\\n",
       "0    496.858426  0.360357    80  1024.431818  1761.979167             126   \n",
       "1    444.218221  0.256505   595  1489.361702  2000.000000            1556   \n",
       "2    550.787819  0.297665   105  1500.000000  2166.666667             144   \n",
       "\n",
       "   description_pileta  description_terraza  description_parrilla  \\\n",
       "0                   0                    0                     0   \n",
       "1                   0                    0                     0   \n",
       "2                   0                    0                     0   \n",
       "\n",
       "   description_patio  \n",
       "0                  0  \n",
       "1                  0  \n",
       "2                  0  \n",
       "\n",
       "[3 rows x 40 columns]"
      ]
     },
     "execution_count": 49,
     "metadata": {},
     "output_type": "execute_result"
    }
   ],
   "source": [
    "pileta = buscar_amenities(\"pileta\")\n",
    "terraza = buscar_amenities(\"terraza\")\n",
    "parrilla = buscar_amenities(\"parrilla\")\n",
    "patio = buscar_amenities(\"patio\")\n",
    "\n",
    "data_nueva=data_consolidada.join(pileta, rsuffix=\"_pileta\")\n",
    "data_nueva=data_nueva.join(terraza, rsuffix=\"_terraza\")\n",
    "data_nueva=data_nueva.join(parrilla, rsuffix=\"_parrilla\")\n",
    "data_nueva=data_nueva.join(patio, rsuffix=\"_patio\")\n",
    "\n",
    "\n",
    "data_nueva.head(3)"
   ]
  },
  {
   "cell_type": "markdown",
   "metadata": {},
   "source": [
    "#### Variables dummies de tipo de propiedad\n",
    "\n",
    "Se genera una columa **fin_propiedad** con variable dummie a partir de la columna **propery_type**, se colocará 1 en caso que sea residencial y 0 en caso que sea comercial. Se inocpora al dataset a través de *join*"
   ]
  },
  {
   "cell_type": "code",
   "execution_count": 50,
   "metadata": {},
   "outputs": [
    {
     "name": "stdout",
     "output_type": "stream",
     "text": [
      "apartment    62441\n",
      "house        35392\n",
      "PH            5384\n",
      "store         3319\n",
      "Name: property_type, dtype: int64\n",
      "1    103217\n",
      "0      3319\n",
      "Name: property_type, dtype: int64\n"
     ]
    }
   ],
   "source": [
    "fin_propiedad = data_nueva[\"property_type\"].apply(lambda x : 0 if x == \"store\" else 1)\n",
    "\n",
    "#revisamos que se haya realizado correctamente la operación:\n",
    "print(data_nueva[\"property_type\"].value_counts())\n",
    "print(fin_propiedad.value_counts())\n",
    "\n",
    "data_nueva=data_nueva.join(fin_propiedad, rsuffix=\"_fin\")"
   ]
  },
  {
   "cell_type": "markdown",
   "metadata": {},
   "source": [
    "Se genera variable dummies a partir de la columna **propery_type** en una variable dummie (no se elimna la columna **propery_type** debido a que será utilizada para realizar visualizaciones preliminares)."
   ]
  },
  {
   "cell_type": "code",
   "execution_count": 51,
   "metadata": {},
   "outputs": [],
   "source": [
    "data_nueva[\"property_type\"].value_counts()\n",
    "propery_type_dummies = pd.get_dummies(data_nueva[\"property_type\"], drop_first = True, prefix='tipo_propiedad')\n",
    "data_con_dummie = data_nueva.join(propery_type_dummies)\n"
   ]
  },
  {
   "cell_type": "code",
   "execution_count": 52,
   "metadata": {},
   "outputs": [
    {
     "data": {
      "text/html": [
       "<div>\n",
       "<style scoped>\n",
       "    .dataframe tbody tr th:only-of-type {\n",
       "        vertical-align: middle;\n",
       "    }\n",
       "\n",
       "    .dataframe tbody tr th {\n",
       "        vertical-align: top;\n",
       "    }\n",
       "\n",
       "    .dataframe thead th {\n",
       "        text-align: right;\n",
       "    }\n",
       "</style>\n",
       "<table border=\"1\" class=\"dataframe\">\n",
       "  <thead>\n",
       "    <tr style=\"text-align: right;\">\n",
       "      <th></th>\n",
       "      <th>Unnamed: 0</th>\n",
       "      <th>operation</th>\n",
       "      <th>property_type</th>\n",
       "      <th>country_name</th>\n",
       "      <th>state_name</th>\n",
       "      <th>geonames_id</th>\n",
       "      <th>lat-lon</th>\n",
       "      <th>lat</th>\n",
       "      <th>lon</th>\n",
       "      <th>price</th>\n",
       "      <th>...</th>\n",
       "      <th>q3</th>\n",
       "      <th>cantidad_grupo</th>\n",
       "      <th>description_pileta</th>\n",
       "      <th>description_terraza</th>\n",
       "      <th>description_parrilla</th>\n",
       "      <th>description_patio</th>\n",
       "      <th>property_type_fin</th>\n",
       "      <th>tipo_propiedad_apartment</th>\n",
       "      <th>tipo_propiedad_house</th>\n",
       "      <th>tipo_propiedad_store</th>\n",
       "    </tr>\n",
       "  </thead>\n",
       "  <tbody>\n",
       "    <tr>\n",
       "      <th>0</th>\n",
       "      <td>0</td>\n",
       "      <td>sell</td>\n",
       "      <td>PH</td>\n",
       "      <td>Argentina</td>\n",
       "      <td>Capital Federal</td>\n",
       "      <td>3430787.0</td>\n",
       "      <td>-34.6618237,-58.5088387</td>\n",
       "      <td>-34.661824</td>\n",
       "      <td>-58.508839</td>\n",
       "      <td>62000.0</td>\n",
       "      <td>...</td>\n",
       "      <td>1761.979167</td>\n",
       "      <td>126</td>\n",
       "      <td>0</td>\n",
       "      <td>0</td>\n",
       "      <td>0</td>\n",
       "      <td>0</td>\n",
       "      <td>1</td>\n",
       "      <td>0</td>\n",
       "      <td>0</td>\n",
       "      <td>0</td>\n",
       "    </tr>\n",
       "    <tr>\n",
       "      <th>1</th>\n",
       "      <td>1</td>\n",
       "      <td>sell</td>\n",
       "      <td>apartment</td>\n",
       "      <td>Argentina</td>\n",
       "      <td>Bs.As. G.B.A. Zona Sur</td>\n",
       "      <td>3432039.0</td>\n",
       "      <td>-34.9038831,-57.9643295</td>\n",
       "      <td>-34.903883</td>\n",
       "      <td>-57.964330</td>\n",
       "      <td>150000.0</td>\n",
       "      <td>...</td>\n",
       "      <td>2000.000000</td>\n",
       "      <td>1556</td>\n",
       "      <td>0</td>\n",
       "      <td>0</td>\n",
       "      <td>0</td>\n",
       "      <td>0</td>\n",
       "      <td>1</td>\n",
       "      <td>1</td>\n",
       "      <td>0</td>\n",
       "      <td>0</td>\n",
       "    </tr>\n",
       "    <tr>\n",
       "      <th>2</th>\n",
       "      <td>2</td>\n",
       "      <td>sell</td>\n",
       "      <td>apartment</td>\n",
       "      <td>Argentina</td>\n",
       "      <td>Capital Federal</td>\n",
       "      <td>3430787.0</td>\n",
       "      <td>-34.6522615,-58.5229825</td>\n",
       "      <td>-34.652262</td>\n",
       "      <td>-58.522982</td>\n",
       "      <td>72000.0</td>\n",
       "      <td>...</td>\n",
       "      <td>2166.666667</td>\n",
       "      <td>144</td>\n",
       "      <td>0</td>\n",
       "      <td>0</td>\n",
       "      <td>0</td>\n",
       "      <td>0</td>\n",
       "      <td>1</td>\n",
       "      <td>1</td>\n",
       "      <td>0</td>\n",
       "      <td>0</td>\n",
       "    </tr>\n",
       "  </tbody>\n",
       "</table>\n",
       "<p>3 rows × 44 columns</p>\n",
       "</div>"
      ],
      "text/plain": [
       "   Unnamed: 0 operation property_type country_name              state_name  \\\n",
       "0           0      sell            PH    Argentina         Capital Federal   \n",
       "1           1      sell     apartment    Argentina  Bs.As. G.B.A. Zona Sur   \n",
       "2           2      sell     apartment    Argentina         Capital Federal   \n",
       "\n",
       "   geonames_id                  lat-lon        lat        lon     price  ...  \\\n",
       "0    3430787.0  -34.6618237,-58.5088387 -34.661824 -58.508839   62000.0  ...   \n",
       "1    3432039.0  -34.9038831,-57.9643295 -34.903883 -57.964330  150000.0  ...   \n",
       "2    3430787.0  -34.6522615,-58.5229825 -34.652262 -58.522982   72000.0  ...   \n",
       "\n",
       "            q3  cantidad_grupo  description_pileta  description_terraza  \\\n",
       "0  1761.979167             126                   0                    0   \n",
       "1  2000.000000            1556                   0                    0   \n",
       "2  2166.666667             144                   0                    0   \n",
       "\n",
       "   description_parrilla  description_patio  property_type_fin  \\\n",
       "0                     0                  0                  1   \n",
       "1                     0                  0                  1   \n",
       "2                     0                  0                  1   \n",
       "\n",
       "   tipo_propiedad_apartment  tipo_propiedad_house  tipo_propiedad_store  \n",
       "0                         0                     0                     0  \n",
       "1                         1                     0                     0  \n",
       "2                         1                     0                     0  \n",
       "\n",
       "[3 rows x 44 columns]"
      ]
     },
     "execution_count": 52,
     "metadata": {},
     "output_type": "execute_result"
    }
   ],
   "source": [
    "data_con_dummie.head(3)"
   ]
  },
  {
   "cell_type": "markdown",
   "metadata": {},
   "source": [
    "#### Eliminación de columnas\n",
    "\n",
    "En base a la revisión del dataset se decidió eliminar las columna **operation** ya que cuenta con un solo valores en todos los registros (\"sell\"). Por este motivo se había definido previamente eliminar **country_name**.&nbsp;\n",
    "\n",
    "También se había definido previamente eliminar las columnas **rooms**, **expenses** y **floor** debido a la gran cantidad de datos nulos y la imposiblidad de imputarlos.&nbsp;\n",
    "\n",
    "Dado se que definió utilizar la columna **price_usd_per_m2** se definen eliminar las columnas **price_aprox_usd**, **price**, **currency**,**price_per_m2** y **price_aprox_local_currency**.&nbsp;\n",
    "\n",
    "Asimismo se define eliminar las columnas **geonames_id**, **lat** y **lon** ya que no se utilizaran, unicamente se mantiene **lat-lon**. &nbsp;\n",
    "\n",
    "También se quitarán las columnas **properati_url** e **image_thumbnail** que no tienen utilidad &nbsp;\n",
    "\n",
    "Por último se eliminan las columnas creadas para la realización del análisis: **null_fila**, **cant**, **q1**, **q3**, **cantidad_por_grupo**, **cantidad_grupo**."
   ]
  },
  {
   "cell_type": "code",
   "execution_count": 53,
   "metadata": {},
   "outputs": [
    {
     "name": "stdout",
     "output_type": "stream",
     "text": [
      "sell    106536\n",
      "Name: operation, dtype: int64\n"
     ]
    }
   ],
   "source": [
    "print(data_con_dummie[\"operation\"].value_counts())"
   ]
  },
  {
   "cell_type": "code",
   "execution_count": 54,
   "metadata": {},
   "outputs": [
    {
     "data": {
      "text/plain": [
       "Index(['Unnamed: 0', 'property_type', 'state_name', 'lat-lon',\n",
       "       'surface_total_in_m2', 'surface_covered_in_m2', 'price_usd_per_m2',\n",
       "       'rooms', 'description', 'title', 'place_name_completo',\n",
       "       'place_with_parent_names_localidad', 'provincia_localidad',\n",
       "       'price_m2_prom', 'price_m2_desv', 'coef_var', 'cantidad_grupo',\n",
       "       'description_pileta', 'description_terraza', 'description_parrilla',\n",
       "       'description_patio', 'property_type_fin', 'tipo_propiedad_apartment',\n",
       "       'tipo_propiedad_house', 'tipo_propiedad_store'],\n",
       "      dtype='object')"
      ]
     },
     "execution_count": 54,
     "metadata": {},
     "output_type": "execute_result"
    }
   ],
   "source": [
    "columnas_quitar = [\"operation\", \"country_name\", \"floor\", \"expenses\", \"price_aprox_usd\", 'price', 'currency',\"price_per_m2\", \"price_aprox_local_currency\",\"geonames_id\", \"lat\", \"lon\",\"properati_url\", \"image_thumbnail\", 'null_fila', 'cant', 'q1', 'q3',\"cantidad_por_grupo\"]\n",
    "\n",
    "def sacar_columnas(data):\n",
    "    data=data.drop(columnas_quitar,axis=1)\n",
    "    return data\n",
    "\n",
    "data_sin_columnas = sacar_columnas(data_con_dummie)\n",
    "data_sin_columnas.columns"
   ]
  },
  {
   "cell_type": "markdown",
   "metadata": {},
   "source": [
    "#### Renombrar columnas\n",
    "Se modifican los nombres de las columnas para mayor claridad de su significado"
   ]
  },
  {
   "cell_type": "code",
   "execution_count": 55,
   "metadata": {},
   "outputs": [
    {
     "name": "stdout",
     "output_type": "stream",
     "text": [
      "Index(['Unnamed: 0', 'property_type', 'state_name', 'lat-lon',\n",
      "       'surface_total_in_m2', 'surface_covered_in_m2', 'price_usd_per_m2',\n",
      "       'rooms', 'description', 'title', 'place_name_completo',\n",
      "       'place_with_parent_names_localidad', 'provincia_localidad',\n",
      "       'price_m2_prom', 'price_m2_desv', 'coef_var', 'cantidad_grupo',\n",
      "       'description_pileta', 'description_terraza', 'description_parrilla',\n",
      "       'description_patio', 'property_type_fin', 'tipo_propiedad_apartment',\n",
      "       'tipo_propiedad_house', 'tipo_propiedad_store'],\n",
      "      dtype='object')\n",
      "Index(['id', 'tipo_propiedad', 'provincia', 'lat-lon', 'superficia_total_m2',\n",
      "       'superficia_cubierta_m2', 'precio_por_m2_total', 'rooms', 'descripcion',\n",
      "       'titulo', 'barrio', 'localidad', 'provincia_localidad', 'price_m2_prom',\n",
      "       'price_m2_desv', 'coef_var', 'cantidad_grupo', 'description_pileta',\n",
      "       'description_terraza', 'description_parrilla', 'description_patio',\n",
      "       'fin_propiedad', 'tipo_propiedad_apartment', 'tipo_propiedad_house',\n",
      "       'tipo_propiedad_store'],\n",
      "      dtype='object')\n"
     ]
    }
   ],
   "source": [
    "mapper = {\"Unnamed: 0\" : \"id\",\n",
    "          \"property_type\": \"tipo_propiedad\",\n",
    "          \"state_name\" : \"provincia\",\n",
    "          \"surface_total_in_m2\" : \"superficia_total_m2\",\n",
    "          \"surface_covered_in_m2\" : \"superficia_cubierta_m2\",\n",
    "          \"price_usd_per_m2\" : \"precio_por_m2_total\",\n",
    "          \"description\" : \"descripcion\",\n",
    "          \"title\" : \"titulo\",\n",
    "          \"place_name_completo\": \"barrio\",\n",
    "          \"place_with_parent_names_localidad\" : \"localidad\",\n",
    "          \"property_type_fin\" : \"fin_propiedad\"}\n",
    "               \n",
    "data = data_sin_columnas.rename(mapper, axis = 1)\n",
    "print(data_sin_columnas.columns)\n",
    "print(data.columns)\n",
    "\n"
   ]
  },
  {
   "cell_type": "markdown",
   "metadata": {},
   "source": [
    "#### Visualizaciones preliminares\n",
    "Finalmente se realizaran una visualizaciones preliminares. En algunos casos solo se graficaran los datos de la **provincia** correspondientes a \"Bs.As. G.B.A. Zona Norte\", \"Bs.As. G.B.A. Zona Oeste\", \"Bs.As. G.B.A. Zona Sur\", \"Buenos Aires Costa Atlántica\", \"Capital Federal\", \"Buenos Aires Interior\", \"Córdoba\" y \"Santa Fe\" ya que representan el 94.06% del dataset.    \n",
    "     "
   ]
  },
  {
   "cell_type": "code",
   "execution_count": 56,
   "metadata": {},
   "outputs": [
    {
     "name": "stdout",
     "output_type": "stream",
     "text": [
      "(106536, 25)\n",
      "(102449, 25)\n"
     ]
    },
    {
     "data": {
      "text/html": [
       "<div>\n",
       "<style scoped>\n",
       "    .dataframe tbody tr th:only-of-type {\n",
       "        vertical-align: middle;\n",
       "    }\n",
       "\n",
       "    .dataframe tbody tr th {\n",
       "        vertical-align: top;\n",
       "    }\n",
       "\n",
       "    .dataframe thead th {\n",
       "        text-align: right;\n",
       "    }\n",
       "</style>\n",
       "<table border=\"1\" class=\"dataframe\">\n",
       "  <thead>\n",
       "    <tr style=\"text-align: right;\">\n",
       "      <th></th>\n",
       "      <th>id</th>\n",
       "      <th>tipo_propiedad</th>\n",
       "      <th>provincia</th>\n",
       "      <th>lat-lon</th>\n",
       "      <th>superficia_total_m2</th>\n",
       "      <th>superficia_cubierta_m2</th>\n",
       "      <th>precio_por_m2_total</th>\n",
       "      <th>rooms</th>\n",
       "      <th>descripcion</th>\n",
       "      <th>titulo</th>\n",
       "      <th>...</th>\n",
       "      <th>coef_var</th>\n",
       "      <th>cantidad_grupo</th>\n",
       "      <th>description_pileta</th>\n",
       "      <th>description_terraza</th>\n",
       "      <th>description_parrilla</th>\n",
       "      <th>description_patio</th>\n",
       "      <th>fin_propiedad</th>\n",
       "      <th>tipo_propiedad_apartment</th>\n",
       "      <th>tipo_propiedad_house</th>\n",
       "      <th>tipo_propiedad_store</th>\n",
       "    </tr>\n",
       "  </thead>\n",
       "  <tbody>\n",
       "    <tr>\n",
       "      <th>0</th>\n",
       "      <td>0</td>\n",
       "      <td>PH</td>\n",
       "      <td>Capital Federal</td>\n",
       "      <td>-34.6618237,-58.5088387</td>\n",
       "      <td>55.0</td>\n",
       "      <td>40.0</td>\n",
       "      <td>1127.272727</td>\n",
       "      <td>NaN</td>\n",
       "      <td>2 AMBIENTES TIPO CASA PLANTA BAJA POR PASILLO,...</td>\n",
       "      <td>2 AMB TIPO CASA SIN EXPENSAS EN PB</td>\n",
       "      <td>...</td>\n",
       "      <td>0.360357</td>\n",
       "      <td>126</td>\n",
       "      <td>0</td>\n",
       "      <td>0</td>\n",
       "      <td>0</td>\n",
       "      <td>0</td>\n",
       "      <td>1</td>\n",
       "      <td>0</td>\n",
       "      <td>0</td>\n",
       "      <td>0</td>\n",
       "    </tr>\n",
       "    <tr>\n",
       "      <th>1</th>\n",
       "      <td>1</td>\n",
       "      <td>apartment</td>\n",
       "      <td>Bs.As. G.B.A. Zona Sur</td>\n",
       "      <td>-34.9038831,-57.9643295</td>\n",
       "      <td>NaN</td>\n",
       "      <td>NaN</td>\n",
       "      <td>1731.810028</td>\n",
       "      <td>NaN</td>\n",
       "      <td>Venta de departamento en décimo piso al frente...</td>\n",
       "      <td>VENTA Depto 2 dorm. a estrenar 7 e/ 36 y 37   ...</td>\n",
       "      <td>...</td>\n",
       "      <td>0.256505</td>\n",
       "      <td>1556</td>\n",
       "      <td>0</td>\n",
       "      <td>0</td>\n",
       "      <td>0</td>\n",
       "      <td>0</td>\n",
       "      <td>1</td>\n",
       "      <td>1</td>\n",
       "      <td>0</td>\n",
       "      <td>0</td>\n",
       "    </tr>\n",
       "    <tr>\n",
       "      <th>2</th>\n",
       "      <td>2</td>\n",
       "      <td>apartment</td>\n",
       "      <td>Capital Federal</td>\n",
       "      <td>-34.6522615,-58.5229825</td>\n",
       "      <td>55.0</td>\n",
       "      <td>55.0</td>\n",
       "      <td>1309.090909</td>\n",
       "      <td>NaN</td>\n",
       "      <td>2 AMBIENTES 3ER PISO LATERAL LIVING COMEDOR AM...</td>\n",
       "      <td>2 AMB 3ER PISO CON ASCENSOR APTO CREDITO</td>\n",
       "      <td>...</td>\n",
       "      <td>0.297665</td>\n",
       "      <td>144</td>\n",
       "      <td>0</td>\n",
       "      <td>0</td>\n",
       "      <td>0</td>\n",
       "      <td>0</td>\n",
       "      <td>1</td>\n",
       "      <td>1</td>\n",
       "      <td>0</td>\n",
       "      <td>0</td>\n",
       "    </tr>\n",
       "    <tr>\n",
       "      <th>3</th>\n",
       "      <td>3</td>\n",
       "      <td>PH</td>\n",
       "      <td>Capital Federal</td>\n",
       "      <td>-34.6477969,-58.5164244</td>\n",
       "      <td>NaN</td>\n",
       "      <td>NaN</td>\n",
       "      <td>1517.746743</td>\n",
       "      <td>NaN</td>\n",
       "      <td>PH 3 ambientes con patio. Hay 3 deptos en lote...</td>\n",
       "      <td>PH 3 amb. cfte. reciclado</td>\n",
       "      <td>...</td>\n",
       "      <td>0.294274</td>\n",
       "      <td>82</td>\n",
       "      <td>0</td>\n",
       "      <td>0</td>\n",
       "      <td>0</td>\n",
       "      <td>1</td>\n",
       "      <td>1</td>\n",
       "      <td>0</td>\n",
       "      <td>0</td>\n",
       "      <td>0</td>\n",
       "    </tr>\n",
       "  </tbody>\n",
       "</table>\n",
       "<p>4 rows × 25 columns</p>\n",
       "</div>"
      ],
      "text/plain": [
       "   id tipo_propiedad               provincia                  lat-lon  \\\n",
       "0   0             PH         Capital Federal  -34.6618237,-58.5088387   \n",
       "1   1      apartment  Bs.As. G.B.A. Zona Sur  -34.9038831,-57.9643295   \n",
       "2   2      apartment         Capital Federal  -34.6522615,-58.5229825   \n",
       "3   3             PH         Capital Federal  -34.6477969,-58.5164244   \n",
       "\n",
       "   superficia_total_m2  superficia_cubierta_m2  precio_por_m2_total  rooms  \\\n",
       "0                 55.0                    40.0          1127.272727    NaN   \n",
       "1                  NaN                     NaN          1731.810028    NaN   \n",
       "2                 55.0                    55.0          1309.090909    NaN   \n",
       "3                  NaN                     NaN          1517.746743    NaN   \n",
       "\n",
       "                                         descripcion  \\\n",
       "0  2 AMBIENTES TIPO CASA PLANTA BAJA POR PASILLO,...   \n",
       "1  Venta de departamento en décimo piso al frente...   \n",
       "2  2 AMBIENTES 3ER PISO LATERAL LIVING COMEDOR AM...   \n",
       "3  PH 3 ambientes con patio. Hay 3 deptos en lote...   \n",
       "\n",
       "                                              titulo  ...  coef_var  \\\n",
       "0                 2 AMB TIPO CASA SIN EXPENSAS EN PB  ...  0.360357   \n",
       "1  VENTA Depto 2 dorm. a estrenar 7 e/ 36 y 37   ...  ...  0.256505   \n",
       "2           2 AMB 3ER PISO CON ASCENSOR APTO CREDITO  ...  0.297665   \n",
       "3                       PH 3 amb. cfte. reciclado     ...  0.294274   \n",
       "\n",
       "  cantidad_grupo description_pileta  description_terraza  \\\n",
       "0            126                  0                    0   \n",
       "1           1556                  0                    0   \n",
       "2            144                  0                    0   \n",
       "3             82                  0                    0   \n",
       "\n",
       "   description_parrilla  description_patio  fin_propiedad  \\\n",
       "0                     0                  0              1   \n",
       "1                     0                  0              1   \n",
       "2                     0                  0              1   \n",
       "3                     0                  1              1   \n",
       "\n",
       "   tipo_propiedad_apartment  tipo_propiedad_house  tipo_propiedad_store  \n",
       "0                         0                     0                     0  \n",
       "1                         1                     0                     0  \n",
       "2                         1                     0                     0  \n",
       "3                         0                     0                     0  \n",
       "\n",
       "[4 rows x 25 columns]"
      ]
     },
     "execution_count": 56,
     "metadata": {},
     "output_type": "execute_result"
    }
   ],
   "source": [
    "lista_provincias= (\"Bs.As. G.B.A. Zona Norte\", \"Bs.As. G.B.A. Zona Oeste\", \"Bs.As. G.B.A. Zona Sur\", \"Buenos Aires Costa Atlántica\", \"Capital Federal\", \"Buenos Aires Interior\", \"Córdoba\", \"Santa Fe\")    \n",
    "     \n",
    "prov = data[\"provincia\"]    \n",
    "mask = (prov ==\"Bs.As. G.B.A. Zona Norte\") |(prov ==\"Bs.As. G.B.A. Zona Oeste\")|(prov ==\"Bs.As. G.B.A. Zona Sur\") |(prov ==\"Buenos Aires Costa Atlántica\") |(prov ==\"Capital Federal\") |(prov ==\"Buenos Aires Interior\")|(prov ==\"Córdoba\") | (prov ==\"Santa Fe\")    \n",
    "data_provincias = data.loc[mask, :]\n",
    "\n",
    "#revisamos que esté realizada correctamente la operación:\n",
    "\n",
    "print(data.shape)\n",
    "print(data_provincias.shape)\n",
    "data_provincias.head(4)"
   ]
  },
  {
   "cell_type": "code",
   "execution_count": 57,
   "metadata": {},
   "outputs": [
    {
     "data": {
      "image/png": "[encoded data removed]",
      "text/plain": [
       "<Figure size 628.5x540 with 9 Axes>"
      ]
     },
     "metadata": {
      "needs_background": "light"
     },
     "output_type": "display_data"
    }
   ],
   "source": [
    "suburb_values = ['PH', 'house', 'apartment', 'store']\n",
    "\n",
    "data_suburb_mask = data_provincias.tipo_propiedad.apply(lambda x: x in suburb_values)\n",
    "\n",
    "data_suburb = data_provincias.loc[data_suburb_mask, :]\n",
    "g = sns.PairGrid(data_suburb, vars=[\"provincia\", \"precio_por_m2_total\", \"superficia_total_m2\"],\n",
    "                 hue='tipo_propiedad', palette='deep')\n",
    "g.map(plt.scatter, alpha=0.4)\n",
    "g.add_legend();\n"
   ]
  },
  {
   "cell_type": "code",
   "execution_count": 58,
   "metadata": {},
   "outputs": [
    {
     "data": {
      "image/png": "[encoded data removed]",
      "text/plain": [
       "<Figure size 432x288 with 1 Axes>"
      ]
     },
     "metadata": {
      "needs_background": "light"
     },
     "output_type": "display_data"
    }
   ],
   "source": [
    "data_newp = data_provincias.precio_por_m2_total[data_provincias.tipo_propiedad=='PH']\n",
    "data_newa = data_provincias.precio_por_m2_total[data_provincias.tipo_propiedad=='apartment']\n",
    "data_newh = data_provincias.precio_por_m2_total[data_provincias.tipo_propiedad=='house']\n",
    "data_news = data_provincias.precio_por_m2_total[data_provincias.tipo_propiedad=='store']\n",
    "sns.kdeplot(data_newp, label='PH', shade=True)\n",
    "sns.kdeplot(data_newa, label='apartment', shade=True)\n",
    "sns.kdeplot(data_newh, label='house', shade=True)\n",
    "sns.kdeplot(data_news, label='store', shade=True)\n",
    "plt.xlabel('price_per_m2');"
   ]
  },
  {
   "cell_type": "code",
   "execution_count": 59,
   "metadata": {},
   "outputs": [
    {
     "data": {
      "image/png": "[encoded data removed]",
      "text/plain": [
       "<Figure size 720x360 with 2 Axes>"
      ]
     },
     "metadata": {
      "needs_background": "light"
     },
     "output_type": "display_data"
    }
   ],
   "source": [
    "fig, axs = plt.subplots(ncols=2, figsize=(10,5))\n",
    "\n",
    "sns.boxplot(\"tipo_propiedad\", \"precio_por_m2_total\", data=data_provincias,\n",
    "               palette=[\"lightblue\", \"lightpink\",], ax=axs[0])\n",
    "sns.violinplot(\"tipo_propiedad\", \"precio_por_m2_total\", data=data_provincias,\n",
    "               palette=[\"lightblue\", \"lightpink\"], ax=axs[1]);"
   ]
  },
  {
   "cell_type": "code",
   "execution_count": 60,
   "metadata": {},
   "outputs": [
    {
     "data": {
      "image/png": "[encoded data removed]",
      "text/plain": [
       "<Figure size 432x288 with 1 Axes>"
      ]
     },
     "metadata": {
      "needs_background": "light"
     },
     "output_type": "display_data"
    }
   ],
   "source": [
    "ax = sns.boxplot(x=\"tipo_propiedad\", y=\"precio_por_m2_total\", data=data_provincias)"
   ]
  },
  {
   "cell_type": "code",
   "execution_count": 61,
   "metadata": {},
   "outputs": [
    {
     "data": {
      "image/png": "[encoded data removed]",
      "text/plain": [
       "<Figure size 432x288 with 1 Axes>"
      ]
     },
     "metadata": {
      "needs_background": "light"
     },
     "output_type": "display_data"
    }
   ],
   "source": [
    "data_ser = data_provincias[\"provincia\"]\n",
    "ax = sns.boxplot(x=\"precio_por_m2_total\",  y=data_ser, data=data_provincias)"
   ]
  },
  {
   "cell_type": "code",
   "execution_count": 62,
   "metadata": {},
   "outputs": [
    {
     "data": {
      "text/html": [
       "<div>\n",
       "<style scoped>\n",
       "    .dataframe tbody tr th:only-of-type {\n",
       "        vertical-align: middle;\n",
       "    }\n",
       "\n",
       "    .dataframe tbody tr th {\n",
       "        vertical-align: top;\n",
       "    }\n",
       "\n",
       "    .dataframe thead th {\n",
       "        text-align: right;\n",
       "    }\n",
       "</style>\n",
       "<table border=\"1\" class=\"dataframe\">\n",
       "  <thead>\n",
       "    <tr style=\"text-align: right;\">\n",
       "      <th></th>\n",
       "      <th>id</th>\n",
       "      <th>tipo_propiedad</th>\n",
       "      <th>provincia</th>\n",
       "      <th>lat-lon</th>\n",
       "      <th>superficia_total_m2</th>\n",
       "      <th>superficia_cubierta_m2</th>\n",
       "      <th>precio_por_m2_total</th>\n",
       "      <th>rooms</th>\n",
       "      <th>descripcion</th>\n",
       "      <th>titulo</th>\n",
       "      <th>...</th>\n",
       "      <th>coef_var</th>\n",
       "      <th>cantidad_grupo</th>\n",
       "      <th>description_pileta</th>\n",
       "      <th>description_terraza</th>\n",
       "      <th>description_parrilla</th>\n",
       "      <th>description_patio</th>\n",
       "      <th>fin_propiedad</th>\n",
       "      <th>tipo_propiedad_apartment</th>\n",
       "      <th>tipo_propiedad_house</th>\n",
       "      <th>tipo_propiedad_store</th>\n",
       "    </tr>\n",
       "  </thead>\n",
       "  <tbody>\n",
       "    <tr>\n",
       "      <th>0</th>\n",
       "      <td>0</td>\n",
       "      <td>PH</td>\n",
       "      <td>Capital Federal</td>\n",
       "      <td>-34.6618237,-58.5088387</td>\n",
       "      <td>55.0</td>\n",
       "      <td>40.0</td>\n",
       "      <td>1127.272727</td>\n",
       "      <td>NaN</td>\n",
       "      <td>2 AMBIENTES TIPO CASA PLANTA BAJA POR PASILLO,...</td>\n",
       "      <td>2 AMB TIPO CASA SIN EXPENSAS EN PB</td>\n",
       "      <td>...</td>\n",
       "      <td>0.360357</td>\n",
       "      <td>126</td>\n",
       "      <td>0</td>\n",
       "      <td>0</td>\n",
       "      <td>0</td>\n",
       "      <td>0</td>\n",
       "      <td>1</td>\n",
       "      <td>0</td>\n",
       "      <td>0</td>\n",
       "      <td>0</td>\n",
       "    </tr>\n",
       "    <tr>\n",
       "      <th>1</th>\n",
       "      <td>1</td>\n",
       "      <td>apartment</td>\n",
       "      <td>Bs.As. G.B.A. Zona Sur</td>\n",
       "      <td>-34.9038831,-57.9643295</td>\n",
       "      <td>NaN</td>\n",
       "      <td>NaN</td>\n",
       "      <td>1731.810028</td>\n",
       "      <td>NaN</td>\n",
       "      <td>Venta de departamento en décimo piso al frente...</td>\n",
       "      <td>VENTA Depto 2 dorm. a estrenar 7 e/ 36 y 37   ...</td>\n",
       "      <td>...</td>\n",
       "      <td>0.256505</td>\n",
       "      <td>1556</td>\n",
       "      <td>0</td>\n",
       "      <td>0</td>\n",
       "      <td>0</td>\n",
       "      <td>0</td>\n",
       "      <td>1</td>\n",
       "      <td>1</td>\n",
       "      <td>0</td>\n",
       "      <td>0</td>\n",
       "    </tr>\n",
       "    <tr>\n",
       "      <th>2</th>\n",
       "      <td>2</td>\n",
       "      <td>apartment</td>\n",
       "      <td>Capital Federal</td>\n",
       "      <td>-34.6522615,-58.5229825</td>\n",
       "      <td>55.0</td>\n",
       "      <td>55.0</td>\n",
       "      <td>1309.090909</td>\n",
       "      <td>NaN</td>\n",
       "      <td>2 AMBIENTES 3ER PISO LATERAL LIVING COMEDOR AM...</td>\n",
       "      <td>2 AMB 3ER PISO CON ASCENSOR APTO CREDITO</td>\n",
       "      <td>...</td>\n",
       "      <td>0.297665</td>\n",
       "      <td>144</td>\n",
       "      <td>0</td>\n",
       "      <td>0</td>\n",
       "      <td>0</td>\n",
       "      <td>0</td>\n",
       "      <td>1</td>\n",
       "      <td>1</td>\n",
       "      <td>0</td>\n",
       "      <td>0</td>\n",
       "    </tr>\n",
       "  </tbody>\n",
       "</table>\n",
       "<p>3 rows × 25 columns</p>\n",
       "</div>"
      ],
      "text/plain": [
       "   id tipo_propiedad               provincia                  lat-lon  \\\n",
       "0   0             PH         Capital Federal  -34.6618237,-58.5088387   \n",
       "1   1      apartment  Bs.As. G.B.A. Zona Sur  -34.9038831,-57.9643295   \n",
       "2   2      apartment         Capital Federal  -34.6522615,-58.5229825   \n",
       "\n",
       "   superficia_total_m2  superficia_cubierta_m2  precio_por_m2_total  rooms  \\\n",
       "0                 55.0                    40.0          1127.272727    NaN   \n",
       "1                  NaN                     NaN          1731.810028    NaN   \n",
       "2                 55.0                    55.0          1309.090909    NaN   \n",
       "\n",
       "                                         descripcion  \\\n",
       "0  2 AMBIENTES TIPO CASA PLANTA BAJA POR PASILLO,...   \n",
       "1  Venta de departamento en décimo piso al frente...   \n",
       "2  2 AMBIENTES 3ER PISO LATERAL LIVING COMEDOR AM...   \n",
       "\n",
       "                                              titulo  ...  coef_var  \\\n",
       "0                 2 AMB TIPO CASA SIN EXPENSAS EN PB  ...  0.360357   \n",
       "1  VENTA Depto 2 dorm. a estrenar 7 e/ 36 y 37   ...  ...  0.256505   \n",
       "2           2 AMB 3ER PISO CON ASCENSOR APTO CREDITO  ...  0.297665   \n",
       "\n",
       "  cantidad_grupo description_pileta  description_terraza  \\\n",
       "0            126                  0                    0   \n",
       "1           1556                  0                    0   \n",
       "2            144                  0                    0   \n",
       "\n",
       "   description_parrilla  description_patio  fin_propiedad  \\\n",
       "0                     0                  0              1   \n",
       "1                     0                  0              1   \n",
       "2                     0                  0              1   \n",
       "\n",
       "   tipo_propiedad_apartment  tipo_propiedad_house  tipo_propiedad_store  \n",
       "0                         0                     0                     0  \n",
       "1                         1                     0                     0  \n",
       "2                         1                     0                     0  \n",
       "\n",
       "[3 rows x 25 columns]"
      ]
     },
     "execution_count": 62,
     "metadata": {},
     "output_type": "execute_result"
    }
   ],
   "source": [
    "data.head(3)"
   ]
  },
  {
   "cell_type": "markdown",
   "metadata": {},
   "source": [
    "## Trabajo 2"
   ]
  },
  {
   "cell_type": "markdown",
   "metadata": {},
   "source": [
    "#### Visualizaciones\n",
    "Se intentan generar visualizaciones para observar la relación entre los datos"
   ]
  },
  {
   "cell_type": "code",
   "execution_count": 136,
   "metadata": {},
   "outputs": [],
   "source": [
    "data_grafico = data.loc[:,['tipo_propiedad','precio_por_m2_total', 'provincia_localidad', 'cantidad_grupo', 'description_pileta', 'description_terraza', 'description_parrilla', 'description_patio','fin_propiedad']]"
   ]
  },
  {
   "cell_type": "code",
   "execution_count": 137,
   "metadata": {},
   "outputs": [
    {
     "data": {
      "image/png": "[encoded data removed]",
      "text/plain": [
       "<Figure size 432x288 with 2 Axes>"
      ]
     },
     "metadata": {
      "needs_background": "light"
     },
     "output_type": "display_data"
    }
   ],
   "source": [
    "sns.heatmap(data_grafico.corr(), annot=True, vmin=-1, cmap='Blues');\n"
   ]
  },
  {
   "cell_type": "code",
   "execution_count": 138,
   "metadata": {},
   "outputs": [
    {
     "data": {
      "text/plain": [
       "<seaborn.axisgrid.PairGrid at 0x1d341bbe788>"
      ]
     },
     "execution_count": 138,
     "metadata": {},
     "output_type": "execute_result"
    },
    {
     "data": {
      "image/png": "[encoded data removed]",
      "text/plain": [
       "<Figure size 1260x1260 with 56 Axes>"
      ]
     },
     "metadata": {
      "needs_background": "light"
     },
     "output_type": "display_data"
    }
   ],
   "source": [
    "sns.pairplot(data_grafico)\n"
   ]
  },
  {
   "cell_type": "markdown",
   "metadata": {},
   "source": [
    "#### Selección de variabes"
   ]
  },
  {
   "cell_type": "markdown",
   "metadata": {},
   "source": [
    "Se define utilizar la variable **\"provincia_localidad\"** ya que puede haber **localidades** con el mismo nombre pero de distintas provincias. Dado que esta variable es categórica se convertira en variable dummie."
   ]
  },
  {
   "cell_type": "code",
   "execution_count": 63,
   "metadata": {},
   "outputs": [
    {
     "data": {
      "text/plain": [
       "count                             106536\n",
       "unique                               227\n",
       "top       Bs.As. G.B.A. Zona Norte_Tigre\n",
       "freq                                8766\n",
       "Name: provincia_localidad, dtype: object"
      ]
     },
     "execution_count": 63,
     "metadata": {},
     "output_type": "execute_result"
    }
   ],
   "source": [
    "dummies_localidad=pd.get_dummies(data[\"provincia_localidad\"], drop_first = True)\n",
    "data_loc= data.join(dummies_localidad)\n",
    "\n",
    "data_loc.provincia_localidad.describe()"
   ]
  },
  {
   "cell_type": "markdown",
   "metadata": {},
   "source": [
    "Generamos un dataset (data_lr) únicamente con las variables que se utilziaran para el modelo predictivo."
   ]
  },
  {
   "cell_type": "code",
   "execution_count": 64,
   "metadata": {},
   "outputs": [],
   "source": [
    "columnas=[\"id\", \"tipo_propiedad\", \"provincia\", \"lat-lon\", \"provincia_localidad\", \"superficia_total_m2\",\"superficia_cubierta_m2\", \"descripcion\",\"titulo\", \"barrio\", \"localidad\", \"price_m2_prom\", \"price_m2_desv\",\"coef_var\", \"cantidad_grupo\", \"rooms\"]\n",
    "data_lr = data_loc.drop(columnas, axis=1)\n"
   ]
  },
  {
   "cell_type": "code",
   "execution_count": 65,
   "metadata": {},
   "outputs": [
    {
     "data": {
      "text/plain": [
       "Index(['precio_por_m2_total', 'description_pileta', 'description_terraza',\n",
       "       'description_parrilla', 'description_patio', 'fin_propiedad',\n",
       "       'tipo_propiedad_apartment', 'tipo_propiedad_house',\n",
       "       'tipo_propiedad_store', 'Bs.As. G.B.A. Zona Norte_General San Martín',\n",
       "       ...\n",
       "       'Santa Fe_Roldán', 'Santa Fe_Rosario', 'Santa Fe_San Lorenzo',\n",
       "       'Santa Fe_Santa Fe', 'Santa Fe_Santo Tomé',\n",
       "       'Santa Fe_Villa Constitución', 'Tierra Del Fuego_Río Grande',\n",
       "       'Tucumán_San Miguel de Tucumán', 'Tucumán_Tafí del Valle',\n",
       "       'Tucumán_Yerba Buena'],\n",
       "      dtype='object', length=235)"
      ]
     },
     "execution_count": 65,
     "metadata": {},
     "output_type": "execute_result"
    }
   ],
   "source": [
    "data_lr.columns"
   ]
  },
  {
   "cell_type": "markdown",
   "metadata": {},
   "source": [
    "### Modelos predictivos"
   ]
  },
  {
   "cell_type": "markdown",
   "metadata": {},
   "source": [
    "Para poder generar un modelo de predicción del **precio por m2**, se realizaran diferentes pruebas con distintos modelos y variables para ver cuál tiene mejor rendimiento."
   ]
  },
  {
   "cell_type": "code",
   "execution_count": 66,
   "metadata": {},
   "outputs": [],
   "source": [
    "from sklearn.metrics import r2_score\n",
    "from sklearn.model_selection import train_test_split\n",
    "from sklearn.linear_model import LinearRegression"
   ]
  },
  {
   "cell_type": "markdown",
   "metadata": {},
   "source": [
    "#### Refresión Lineal\n",
    "\n",
    "En primer lugar se genera una función de Regresión Lineal para realizar pruebas de modeos con distintas variables explicativas. &nbsp;\n",
    "\n",
    "Se realizará una división entre datos de entrenamiento y datos de testeo, se ajustarán los datos, luego se calculará el R2 en el caso de los datos de testeo y de entrenamiento para analizar el funcionamiento del modelo.\n",
    "La función tomara como parámetro X(variables explicativas), y(variable a explicar) y test_size(el porcentaje de datos que se utilizaran para test)"
   ]
  },
  {
   "cell_type": "code",
   "execution_count": 67,
   "metadata": {},
   "outputs": [],
   "source": [
    "def regresion_lineal(X,y, test_size):\n",
    "    model = LinearRegression()\n",
    "    Xtrain, Xtest, ytrain, ytest = train_test_split(X, y,test_size=test_size,  random_state=1)\n",
    "    model.fit(Xtrain, ytrain)\n",
    "    ypred_train = model.predict(Xtrain)\n",
    "    print(\"R2 de train: \", r2_score(ytrain, ypred_train).round(4))\n",
    "    ypred = model.predict(Xtest)\n",
    "    print ('R2 de test:', r2_score(ytest, ypred).round(4))\n",
    "    return model\n",
    "\n",
    "   "
   ]
  },
  {
   "cell_type": "markdown",
   "metadata": {},
   "source": [
    "En primer lugar se realizaran modelos ultilizando distintas variables y con test_size de 0.25 que es el valor por default.  &nbsp;\n",
    "\n",
    "Se genera un modelo de Regresión Lineal Simple utilizando únicamente la variable **provincia_localidad** para observar los resultados."
   ]
  },
  {
   "cell_type": "code",
   "execution_count": 68,
   "metadata": {},
   "outputs": [
    {
     "name": "stdout",
     "output_type": "stream",
     "text": [
      "R2 de train:  0.5528\n",
      "R2 de test: 0.5566\n"
     ]
    },
    {
     "data": {
      "text/plain": [
       "LinearRegression()"
      ]
     },
     "execution_count": 68,
     "metadata": {},
     "output_type": "execute_result"
    }
   ],
   "source": [
    "y1 =data_lr[\"precio_por_m2_total\"]\n",
    "X1 = data_lr.drop([\"precio_por_m2_total\", \"tipo_propiedad_apartment\", \"tipo_propiedad_house\",\"tipo_propiedad_store\", \"fin_propiedad\"], axis=1) \n",
    "regresion_lineal(X1, y1, 0.25)"
   ]
  },
  {
   "cell_type": "markdown",
   "metadata": {},
   "source": [
    "Se genera un modelo de Regresión Lineal Simple utilizando únicamente la variable **tipo de propiedad**."
   ]
  },
  {
   "cell_type": "code",
   "execution_count": 69,
   "metadata": {},
   "outputs": [
    {
     "name": "stdout",
     "output_type": "stream",
     "text": [
      "R2 de train:  0.3858\n",
      "R2 de test: 0.3963\n"
     ]
    },
    {
     "data": {
      "text/plain": [
       "LinearRegression()"
      ]
     },
     "execution_count": 69,
     "metadata": {},
     "output_type": "execute_result"
    }
   ],
   "source": [
    "y2 =data_lr[\"precio_por_m2_total\"]\n",
    "X2 = data_lr.loc[:, [\"tipo_propiedad_apartment\", \"tipo_propiedad_house\",\"tipo_propiedad_store\"]]\n",
    "regresion_lineal(X2, y2, 0.25)"
   ]
  },
  {
   "cell_type": "markdown",
   "metadata": {},
   "source": [
    "Se genera un modelo de Regresión Lineal Múltiple utilizando las variables del dataset: **provincia_localidad**(convertida en dummie) y **tipo de propiedad**(convertida en dummie). "
   ]
  },
  {
   "cell_type": "code",
   "execution_count": 70,
   "metadata": {},
   "outputs": [
    {
     "name": "stdout",
     "output_type": "stream",
     "text": [
      "R2 de train:  0.7246\n",
      "R2 de test: 0.73\n"
     ]
    },
    {
     "data": {
      "text/plain": [
       "LinearRegression()"
      ]
     },
     "execution_count": 70,
     "metadata": {},
     "output_type": "execute_result"
    }
   ],
   "source": [
    "y3 =data_lr[\"precio_por_m2_total\"]\n",
    "X3 = data_lr.drop([\"precio_por_m2_total\", \"description_pileta\", \"description_terraza\",\"description_parrilla\", \"description_patio\", \"fin_propiedad\"], axis=1) \n",
    "regresion_lineal(X3, y3, 0.25)"
   ]
  },
  {
   "cell_type": "markdown",
   "metadata": {},
   "source": [
    "Se genera un modelo Regresión Lineal Múltiple utilizando todas las variables del dataset: **provincia_localidad**(convertida en dummie), **tipo de propiedad**(convertida en dummie), si cuenta con **pileta**, **parrilla**, **patio** y **terraza** y el **fin de propiedad** (si es residencial o comercial)"
   ]
  },
  {
   "cell_type": "code",
   "execution_count": 71,
   "metadata": {},
   "outputs": [
    {
     "name": "stdout",
     "output_type": "stream",
     "text": [
      "R2 de train:  0.7258\n",
      "R2 de test: 0.731\n"
     ]
    },
    {
     "data": {
      "text/plain": [
       "LinearRegression()"
      ]
     },
     "execution_count": 71,
     "metadata": {},
     "output_type": "execute_result"
    }
   ],
   "source": [
    "y4 =data_lr[\"precio_por_m2_total\"]\n",
    "X4 = data_lr.drop([\"precio_por_m2_total\"], axis=1) \n",
    "regresion_lineal(X4,y4, 0.25)"
   ]
  },
  {
   "cell_type": "markdown",
   "metadata": {},
   "source": [
    "Se genera un modelo Regresión Lineal Múltiple utilizando: **provincia_localidad**(convertida en dummie), **tipo de propiedad**(convertida en dummie) y si cuenta con **pileta**, **parrilla**, **patio** y **terraza**. \n",
    "Se quita **fin de propiedad** ya que es una variable construida a partir de **tipo de propiedad** por lo que puede haber colinealidad. Al obtener el mismo resultado de R2 se demuestra que la variable es redundante."
   ]
  },
  {
   "cell_type": "code",
   "execution_count": 72,
   "metadata": {},
   "outputs": [
    {
     "name": "stdout",
     "output_type": "stream",
     "text": [
      "R2 de train:  0.7258\n",
      "R2 de test: 0.731\n"
     ]
    },
    {
     "data": {
      "text/plain": [
       "LinearRegression()"
      ]
     },
     "execution_count": 72,
     "metadata": {},
     "output_type": "execute_result"
    }
   ],
   "source": [
    "y5 =data_lr[\"precio_por_m2_total\"]\n",
    "X5 = data_lr.drop([\"precio_por_m2_total\", \"fin_propiedad\"], axis=1) \n",
    "regresion_lineal(X5, y5, 0.25)"
   ]
  },
  {
   "cell_type": "markdown",
   "metadata": {},
   "source": [
    "Se concluye que el mejor modelo es el que incluye las variables **provincia_localidad** (convertida en dummie), **tipo de propiedad** (convertida en dummie)y si cuenta con **pileta**, **parrilla**, **patio** y **terraza**. \n"
   ]
  },
  {
   "cell_type": "markdown",
   "metadata": {},
   "source": [
    "#### Ridge\n",
    "\n",
    "Dado que el modelo tiene un R2 similar en los datos de entrenamiento y de testeo no se considera que tiene una varianza alta, por el contrario se considera que tiene un problema de segso. &nbsp;\n",
    "\n",
    "Igualmente, se intentará utilizar regularización a fin de observar si es posible mejorar la performance del modelo.\n",
    "En primer lugar se genera una función del modelo Ridge con los mismos datos de entrenamiento y testeo que en la Regresión Lineal Múltiple, realizado cross-validation para definir los parametros de *alpha* (100 valores que se definiran como parámetros)."
   ]
  },
  {
   "cell_type": "code",
   "execution_count": 73,
   "metadata": {},
   "outputs": [],
   "source": [
    "from sklearn import linear_model"
   ]
  },
  {
   "cell_type": "code",
   "execution_count": 74,
   "metadata": {},
   "outputs": [],
   "source": [
    "def regresion_ridge(X,y, a, b):\n",
    "    modelo_ridge = linear_model.RidgeCV(alphas=np.linspace(a,b, 100), cv=3, normalize=True)\n",
    "    Xtrain, Xtest, ytrain, ytest = train_test_split(X, y, random_state=1)\n",
    "    modelo_ridge.fit(Xtrain, ytrain)\n",
    "    ypred_train = modelo_ridge.predict(Xtrain)\n",
    "    print(\"R2 de train: \", r2_score(ytrain, ypred_train).round(4))\n",
    "    ypred = modelo_ridge.predict(Xtest)\n",
    "    print ('R2 de test:', r2_score(ytest, ypred).round(4))\n",
    "    print (\"alpha:\", modelo_ridge.alpha_)    \n",
    "    return modelo_ridge"
   ]
  },
  {
   "cell_type": "markdown",
   "metadata": {},
   "source": [
    "Se genera un modelo utilizando las variables **provincia_localidad** (convertida en dummie), **tipo de propiedad**(convertida en dummie) y si cuenta con **pileta**, **parrilla**, **patio** y **terraza** ya que fue el modelo con mejor resultado en la Regresión Lineal Múltiple. Se utilizará el test_size por default que es 0.25. el *alpha* debera ser definido entre 100 valores entre 0.1 y 10."
   ]
  },
  {
   "cell_type": "code",
   "execution_count": 75,
   "metadata": {},
   "outputs": [
    {
     "name": "stdout",
     "output_type": "stream",
     "text": [
      "R2 de train:  0.7209\n",
      "R2 de test: 0.7259\n",
      "alpha: 0.1\n"
     ]
    },
    {
     "data": {
      "text/plain": [
       "RidgeCV(alphas=array([ 0.1,  0.2,  0.3,  0.4,  0.5,  0.6,  0.7,  0.8,  0.9,  1. ,  1.1,\n",
       "        1.2,  1.3,  1.4,  1.5,  1.6,  1.7,  1.8,  1.9,  2. ,  2.1,  2.2,\n",
       "        2.3,  2.4,  2.5,  2.6,  2.7,  2.8,  2.9,  3. ,  3.1,  3.2,  3.3,\n",
       "        3.4,  3.5,  3.6,  3.7,  3.8,  3.9,  4. ,  4.1,  4.2,  4.3,  4.4,\n",
       "        4.5,  4.6,  4.7,  4.8,  4.9,  5. ,  5.1,  5.2,  5.3,  5.4,  5.5,\n",
       "        5.6,  5.7,  5.8,  5.9,  6. ,  6.1,  6.2,  6.3,  6.4,  6.5,  6.6,\n",
       "        6.7,  6.8,  6.9,  7. ,  7.1,  7.2,  7.3,  7.4,  7.5,  7.6,  7.7,\n",
       "        7.8,  7.9,  8. ,  8.1,  8.2,  8.3,  8.4,  8.5,  8.6,  8.7,  8.8,\n",
       "        8.9,  9. ,  9.1,  9.2,  9.3,  9.4,  9.5,  9.6,  9.7,  9.8,  9.9,\n",
       "       10. ]),\n",
       "        cv=3, normalize=True)"
      ]
     },
     "execution_count": 75,
     "metadata": {},
     "output_type": "execute_result"
    }
   ],
   "source": [
    "y_ridge1 =data_lr[\"precio_por_m2_total\"]\n",
    "X_ridge1 = data_lr.drop([\"precio_por_m2_total\", \"fin_propiedad\"], axis=1) \n",
    "regresion_ridge(X_ridge1, y_ridge1, 0.1,10)"
   ]
  },
  {
   "cell_type": "markdown",
   "metadata": {},
   "source": [
    "Se intentará con las mismas variables pero modificando los valores de *alpha* que serán 100 valores entre 0.001 y 0.1."
   ]
  },
  {
   "cell_type": "code",
   "execution_count": 76,
   "metadata": {},
   "outputs": [
    {
     "name": "stdout",
     "output_type": "stream",
     "text": [
      "R2 de train:  0.7258\n",
      "R2 de test: 0.731\n",
      "alpha: 0.001\n"
     ]
    },
    {
     "data": {
      "text/plain": [
       "RidgeCV(alphas=array([0.001, 0.002, 0.003, 0.004, 0.005, 0.006, 0.007, 0.008, 0.009,\n",
       "       0.01 , 0.011, 0.012, 0.013, 0.014, 0.015, 0.016, 0.017, 0.018,\n",
       "       0.019, 0.02 , 0.021, 0.022, 0.023, 0.024, 0.025, 0.026, 0.027,\n",
       "       0.028, 0.029, 0.03 , 0.031, 0.032, 0.033, 0.034, 0.035, 0.036,\n",
       "       0.037, 0.038, 0.039, 0.04 , 0.041, 0.042, 0.043, 0.044, 0.045,\n",
       "       0.046, 0.047, 0.048, 0.049, 0.05 , 0.051, 0.052, 0.053, 0.054,\n",
       "       0.055, 0.056, 0.057, 0.058, 0.059, 0.06 , 0.061, 0.062, 0.063,\n",
       "       0.064, 0.065, 0.066, 0.067, 0.068, 0.069, 0.07 , 0.071, 0.072,\n",
       "       0.073, 0.074, 0.075, 0.076, 0.077, 0.078, 0.079, 0.08 , 0.081,\n",
       "       0.082, 0.083, 0.084, 0.085, 0.086, 0.087, 0.088, 0.089, 0.09 ,\n",
       "       0.091, 0.092, 0.093, 0.094, 0.095, 0.096, 0.097, 0.098, 0.099,\n",
       "       0.1  ]),\n",
       "        cv=3, normalize=True)"
      ]
     },
     "execution_count": 76,
     "metadata": {},
     "output_type": "execute_result"
    }
   ],
   "source": [
    "y_ridge2 =data_lr[\"precio_por_m2_total\"]\n",
    "X_ridge2 = data_lr.drop([\"precio_por_m2_total\", \"fin_propiedad\"], axis=1) \n",
    "regresion_ridge(X_ridge2, y_ridge2, 0.001,0.1)"
   ]
  },
  {
   "cell_type": "markdown",
   "metadata": {},
   "source": [
    "Se observa que el modelo con *alpha* 0.1 tiene un R2 levemente inferior a la Regresión Linearl Múliple tanto en los datos de entrenamiento como de testeo. En el caso del modeo con *alpha*=0.001, el R2 es igual al de la Regresión Lineal Múltiple, es decir que el modelo perfoma mejor con *alpha* más bajos, acercandose a la Regresión Lineal Múltiple."
   ]
  },
  {
   "cell_type": "markdown",
   "metadata": {},
   "source": [
    "#### Lasso\n",
    "\n",
    "Se genera una función para modelo Lasso con los mismos datos de entrenamiento y testeo que en la Regresión Lineal Múltiple, realizado cross-validation para definir los parametros de *alpha* (100 valores que se definirán en la función), al igual que en el caso de Ridge.\n"
   ]
  },
  {
   "cell_type": "code",
   "execution_count": 77,
   "metadata": {},
   "outputs": [],
   "source": [
    "def regresion_lasso(X,y,a, b):\n",
    "    modelo_lasso = linear_model.LassoCV(alphas=np.linspace(a,b, 100), cv=3, normalize=True)\n",
    "    Xtrain, Xtest, ytrain, ytest = train_test_split(X, y, random_state=1)\n",
    "    modelo_lasso.fit(Xtrain, ytrain)\n",
    "    ypred_train = modelo_lasso.predict(Xtrain)\n",
    "    print(\"R2 de train: \", r2_score(ytrain, ypred_train).round(4))\n",
    "    ypred = modelo_lasso.predict(Xtest)\n",
    "    print ('R2 de test:', r2_score(ytest, ypred).round(4))\n",
    "    print (\"alpha:\", modelo_lasso.alpha_)    \n",
    "    return modelo_lasso\n"
   ]
  },
  {
   "cell_type": "markdown",
   "metadata": {},
   "source": [
    "Se genera un modelo utilizando las variables **provincia_localidad** (convertida en dummie), **tipo de propiedad**(convertida en dummie) y si cuenta con **pileta**, **parrilla**, **patio** y **terraza** ya que fue el modelo con mejor resultado en la Regresión Lineal Múltiple. Se utilizará el test_size por default que es 0.25. el *alpha* debera ser definido entre 100 valores entre 0.1 y 10."
   ]
  },
  {
   "cell_type": "code",
   "execution_count": 78,
   "metadata": {},
   "outputs": [
    {
     "name": "stdout",
     "output_type": "stream",
     "text": [
      "R2 de train:  0.6457\n",
      "R2 de test: 0.6535\n",
      "alpha: 0.1\n"
     ]
    },
    {
     "data": {
      "text/plain": [
       "LassoCV(alphas=array([ 0.1,  0.2,  0.3,  0.4,  0.5,  0.6,  0.7,  0.8,  0.9,  1. ,  1.1,\n",
       "        1.2,  1.3,  1.4,  1.5,  1.6,  1.7,  1.8,  1.9,  2. ,  2.1,  2.2,\n",
       "        2.3,  2.4,  2.5,  2.6,  2.7,  2.8,  2.9,  3. ,  3.1,  3.2,  3.3,\n",
       "        3.4,  3.5,  3.6,  3.7,  3.8,  3.9,  4. ,  4.1,  4.2,  4.3,  4.4,\n",
       "        4.5,  4.6,  4.7,  4.8,  4.9,  5. ,  5.1,  5.2,  5.3,  5.4,  5.5,\n",
       "        5.6,  5.7,  5.8,  5.9,  6. ,  6.1,  6.2,  6.3,  6.4,  6.5,  6.6,\n",
       "        6.7,  6.8,  6.9,  7. ,  7.1,  7.2,  7.3,  7.4,  7.5,  7.6,  7.7,\n",
       "        7.8,  7.9,  8. ,  8.1,  8.2,  8.3,  8.4,  8.5,  8.6,  8.7,  8.8,\n",
       "        8.9,  9. ,  9.1,  9.2,  9.3,  9.4,  9.5,  9.6,  9.7,  9.8,  9.9,\n",
       "       10. ]),\n",
       "        cv=3, normalize=True)"
      ]
     },
     "execution_count": 78,
     "metadata": {},
     "output_type": "execute_result"
    }
   ],
   "source": [
    "y_lasso1 =data_lr[\"precio_por_m2_total\"]\n",
    "X_lasso1 = data_lr.drop([\"precio_por_m2_total\", \"fin_propiedad\"], axis=1) \n",
    "regresion_lasso(X_lasso1, y_lasso1, 0.1,10)"
   ]
  },
  {
   "cell_type": "markdown",
   "metadata": {},
   "source": [
    "Se intentará con las mismas variables pero modificando los valores de *alpha* que serán 100 valores entre 0.001 y 0.1."
   ]
  },
  {
   "cell_type": "code",
   "execution_count": 79,
   "metadata": {},
   "outputs": [
    {
     "name": "stdout",
     "output_type": "stream",
     "text": [
      "R2 de train:  0.7258\n",
      "R2 de test: 0.731\n",
      "alpha: 0.001\n"
     ]
    },
    {
     "data": {
      "text/plain": [
       "LassoCV(alphas=array([0.001, 0.002, 0.003, 0.004, 0.005, 0.006, 0.007, 0.008, 0.009,\n",
       "       0.01 , 0.011, 0.012, 0.013, 0.014, 0.015, 0.016, 0.017, 0.018,\n",
       "       0.019, 0.02 , 0.021, 0.022, 0.023, 0.024, 0.025, 0.026, 0.027,\n",
       "       0.028, 0.029, 0.03 , 0.031, 0.032, 0.033, 0.034, 0.035, 0.036,\n",
       "       0.037, 0.038, 0.039, 0.04 , 0.041, 0.042, 0.043, 0.044, 0.045,\n",
       "       0.046, 0.047, 0.048, 0.049, 0.05 , 0.051, 0.052, 0.053, 0.054,\n",
       "       0.055, 0.056, 0.057, 0.058, 0.059, 0.06 , 0.061, 0.062, 0.063,\n",
       "       0.064, 0.065, 0.066, 0.067, 0.068, 0.069, 0.07 , 0.071, 0.072,\n",
       "       0.073, 0.074, 0.075, 0.076, 0.077, 0.078, 0.079, 0.08 , 0.081,\n",
       "       0.082, 0.083, 0.084, 0.085, 0.086, 0.087, 0.088, 0.089, 0.09 ,\n",
       "       0.091, 0.092, 0.093, 0.094, 0.095, 0.096, 0.097, 0.098, 0.099,\n",
       "       0.1  ]),\n",
       "        cv=3, normalize=True)"
      ]
     },
     "execution_count": 79,
     "metadata": {},
     "output_type": "execute_result"
    }
   ],
   "source": [
    "y_lasso2 =data_lr[\"precio_por_m2_total\"]\n",
    "X_lasso2 = data_lr.drop([\"precio_por_m2_total\", \"fin_propiedad\"], axis=1) \n",
    "regresion_lasso(X_lasso2, y_lasso2, 0.001,0.1)"
   ]
  },
  {
   "cell_type": "markdown",
   "metadata": {},
   "source": [
    "Se observa que al igual que en el caso de Ridge, el modelo mejoró su performance al colocar un valor de *alpha* bajo, acercandose al resultado de la Regresión Lineal Múltiple."
   ]
  },
  {
   "cell_type": "markdown",
   "metadata": {},
   "source": [
    "#### Elastic Net\n",
    "\n",
    "Se genera una función para intentar generar un modelo Elastic Net que combine Lasso y Ridge. En este caso se incorporá a los argumentos de la función los hiperparámetros del modelo (alpha y l1_ratio)"
   ]
  },
  {
   "cell_type": "code",
   "execution_count": 80,
   "metadata": {},
   "outputs": [],
   "source": [
    "#por default: l1_ratio=0.5\n",
    "\n",
    "def regresion_elastic(X,y, alpha, l1_ratio):\n",
    "    elastic_net = linear_model.ElasticNet(alpha=alpha, l1_ratio=l1_ratio, normalize=True)\n",
    "    Xtrain, Xtest, ytrain, ytest = train_test_split(X, y, random_state=1)\n",
    "    elastic_net.fit(Xtrain, ytrain)\n",
    "    ypred_train = elastic_net.predict(Xtrain)\n",
    "    print(\"R2 de train: \", r2_score(ytrain, ypred_train).round(3))\n",
    "    ypred = elastic_net.predict(Xtest)\n",
    "    print ('R2 de test:', r2_score(ytest, ypred).round(3))\n",
    "    return elastic_net"
   ]
  },
  {
   "cell_type": "markdown",
   "metadata": {},
   "source": [
    "Se genera un modelo utilizando las variables **provincia_localidad** (convertida en dummie), **tipo de propiedad** (convertida en dummie) y si cuenta con **pileta**, **parrilla**, **patio** y **terraza**. Se utiliza un *alpha* = 0.001 ya que fue el valor que mejor performó en Ridge y Lasso y *l1_ratio*=0.5 (valor por default)."
   ]
  },
  {
   "cell_type": "code",
   "execution_count": 81,
   "metadata": {},
   "outputs": [
    {
     "name": "stdout",
     "output_type": "stream",
     "text": [
      "R2 de train:  0.059\n",
      "R2 de test: 0.06\n"
     ]
    },
    {
     "data": {
      "text/plain": [
       "ElasticNet(alpha=0.001, normalize=True)"
      ]
     },
     "execution_count": 81,
     "metadata": {},
     "output_type": "execute_result"
    }
   ],
   "source": [
    "y_elastic1 =data_lr[\"precio_por_m2_total\"]\n",
    "X_elastic1 = data_lr.drop([\"precio_por_m2_total\", \"fin_propiedad\"], axis=1) \n",
    "regresion_elastic(X_elastic1, y_elastic1, alpha=0.001, l1_ratio=0.5)"
   ]
  },
  {
   "cell_type": "markdown",
   "metadata": {},
   "source": [
    "Se puede observar que el R2 es muy bajo. Se genera otro modelo igual al anterior pero con *l1_ratio*=0.9"
   ]
  },
  {
   "cell_type": "code",
   "execution_count": 82,
   "metadata": {},
   "outputs": [
    {
     "name": "stdout",
     "output_type": "stream",
     "text": [
      "R2 de train:  0.231\n",
      "R2 de test: 0.233\n"
     ]
    },
    {
     "data": {
      "text/plain": [
       "ElasticNet(alpha=0.001, l1_ratio=0.9, normalize=True)"
      ]
     },
     "execution_count": 82,
     "metadata": {},
     "output_type": "execute_result"
    }
   ],
   "source": [
    "y_elastic2 =data_lr[\"precio_por_m2_total\"]\n",
    "X_elastic2 = data_lr.drop([\"precio_por_m2_total\", \"fin_propiedad\"], axis=1) \n",
    "regresion_elastic(X_elastic2, y_elastic2, alpha=0.001, l1_ratio=0.9)"
   ]
  },
  {
   "cell_type": "markdown",
   "metadata": {},
   "source": [
    "Se obervan resultado muy inferiores de R2 que en los modelos anteriores."
   ]
  },
  {
   "cell_type": "markdown",
   "metadata": {},
   "source": [
    "##### Conclusión\n",
    "\n",
    "Dado que el modelo con mejor rendimiento es el de Regresión Lineal Múltiple se confirma que no hay un problema de alta **varianza**, sino que hay un problema de **sesgo**, por lo que es necesario complejizar el modelo."
   ]
  },
  {
   "cell_type": "markdown",
   "metadata": {},
   "source": [
    "#### Modelo regresión cuadrática\n",
    "\n",
    "Se intentará complejizar el modelo a traves de una Regresión Cuadrática.  &nbsp;"
   ]
  },
  {
   "cell_type": "markdown",
   "metadata": {},
   "source": [
    "Sería interesante elevar las variables explicativas al cuadrado pero las variables son dummies, por lo que al elevar 0 y 1 al cuadrado, no se realiza ninguna modificación."
   ]
  },
  {
   "cell_type": "code",
   "execution_count": 87,
   "metadata": {},
   "outputs": [
    {
     "name": "stdout",
     "output_type": "stream",
     "text": [
      "R2 de train:  0.7258\n",
      "R2 de test: 0.731\n"
     ]
    },
    {
     "data": {
      "text/plain": [
       "LinearRegression()"
      ]
     },
     "execution_count": 87,
     "metadata": {},
     "output_type": "execute_result"
    }
   ],
   "source": [
    "y_cuad2 =data_lr[\"precio_por_m2_total\"]\n",
    "X_cuad2 = data_lr.drop([\"fin_propiedad\", \"precio_2\", \"precio_por_m2_total\", \"precio_3\"], axis=1)**2\n",
    "regresion_lineal(X_cuad2, y_cuad2, 0.25)"
   ]
  },
  {
   "cell_type": "markdown",
   "metadata": {},
   "source": [
    "Por lo tanto se intentará considerar los valores de **precio por m2 total** al cuadrado."
   ]
  },
  {
   "cell_type": "code",
   "execution_count": 83,
   "metadata": {},
   "outputs": [],
   "source": [
    "data_lr[\"precio_2\"]=data_lr[\"precio_por_m2_total\"]**2"
   ]
  },
  {
   "cell_type": "code",
   "execution_count": 84,
   "metadata": {},
   "outputs": [
    {
     "name": "stdout",
     "output_type": "stream",
     "text": [
      "R2 de train:  0.6731\n",
      "R2 de test: 0.6807\n"
     ]
    },
    {
     "data": {
      "text/plain": [
       "LinearRegression()"
      ]
     },
     "execution_count": 84,
     "metadata": {},
     "output_type": "execute_result"
    }
   ],
   "source": [
    "y_cuad1 =data_lr[\"precio_2\"]\n",
    "X_cuad1 = data_lr.drop([\"fin_propiedad\",\"precio_2\", \"precio_por_m2_total\"], axis=1) \n",
    "regresion_lineal(X_cuad1, y_cuad1, 0.25)"
   ]
  },
  {
   "cell_type": "markdown",
   "metadata": {},
   "source": [
    "Se intentará elevando el **precio por m2 total** al cubo."
   ]
  },
  {
   "cell_type": "code",
   "execution_count": 85,
   "metadata": {},
   "outputs": [],
   "source": [
    "data_lr[\"precio_3\"]=data_lr[\"precio_por_m2_total\"]**3\n"
   ]
  },
  {
   "cell_type": "code",
   "execution_count": 86,
   "metadata": {},
   "outputs": [
    {
     "name": "stdout",
     "output_type": "stream",
     "text": [
      "R2 de train:  0.5842\n",
      "R2 de test: 0.5952\n"
     ]
    },
    {
     "data": {
      "text/plain": [
       "LinearRegression()"
      ]
     },
     "execution_count": 86,
     "metadata": {},
     "output_type": "execute_result"
    }
   ],
   "source": [
    "y_cubo =data_lr[\"precio_3\"]\n",
    "X_cubo = data_lr.drop([\"fin_propiedad\", \"precio_2\", \"precio_3\", \"precio_por_m2_total\"], axis=1)\n",
    "regresion_lineal(X_cubo, y_cubo, 0.25)"
   ]
  },
  {
   "cell_type": "markdown",
   "metadata": {},
   "source": [
    "Como conclusión el modelo con el precio al cuadrado o al cubo performa peor que los modelos generados previamente. Asimismo no es posible hacer al cuadrado las variables explicativas, por lo que no es posible realizar una Regresión cuadrática."
   ]
  },
  {
   "cell_type": "markdown",
   "metadata": {},
   "source": [
    "#### Agregar Variables\n",
    "\n",
    "Dado que el problema es el **sesgo**, una posibe solución es incorporar variables. &nbsp;\n",
    "\n",
    "En primer lugar se intentará analizar si la propiedad cuenta con **cochera**, **lavadero** y **balcon**. Para esto se utiliza el dataset antes de dropear las columnas que no se utilizarían para el modelo a fin de realiar la búsqueda a través de la columna **descripción**."
   ]
  },
  {
   "cell_type": "code",
   "execution_count": 88,
   "metadata": {},
   "outputs": [],
   "source": [
    "def buscar_amenities(patron):\n",
    "    patron_amenities = patron\n",
    "    regex =re.compile(patron_amenities)\n",
    "    tiene_amenities = data_loc[\"descripcion\"].apply(lambda x: None if x is np.NaN else regex.search(x))\n",
    "    amenities = tiene_amenities.apply(lambda x: x if x is None else x.group(0))\n",
    "    dummie_amenities = amenities.apply(lambda x :0 if x is None else 1)\n",
    "    return dummie_amenities"
   ]
  },
  {
   "cell_type": "code",
   "execution_count": 89,
   "metadata": {},
   "outputs": [],
   "source": [
    "cochera = buscar_amenities(\"cochera\")\n",
    "lavadero = buscar_amenities(\"lavadero\")\n",
    "balcon = buscar_amenities(\"balcon\")\n",
    "data_loc=data_loc.join(cochera, rsuffix=\"_cochera\")\n",
    "data_loc=data_loc.join(lavadero, rsuffix=\"_lavadero\")\n",
    "data_loc=data_loc.join(balcon, rsuffix=\"_balcon\")"
   ]
  },
  {
   "cell_type": "markdown",
   "metadata": {},
   "source": [
    "Nuevamente se genera un dataset solo con las variables que se utilizarán:"
   ]
  },
  {
   "cell_type": "code",
   "execution_count": 90,
   "metadata": {},
   "outputs": [],
   "source": [
    "columnas=['id', 'tipo_propiedad', 'provincia', 'lat-lon', 'superficia_total_m2','superficia_cubierta_m2', \"provincia_localidad\",'descripcion','titulo', 'barrio', 'localidad', 'price_m2_prom', 'price_m2_desv','coef_var']\n",
    "data_test = data_loc.drop(columnas, axis=1)\n"
   ]
  },
  {
   "cell_type": "code",
   "execution_count": 91,
   "metadata": {},
   "outputs": [
    {
     "data": {
      "text/html": [
       "<div>\n",
       "<style scoped>\n",
       "    .dataframe tbody tr th:only-of-type {\n",
       "        vertical-align: middle;\n",
       "    }\n",
       "\n",
       "    .dataframe tbody tr th {\n",
       "        vertical-align: top;\n",
       "    }\n",
       "\n",
       "    .dataframe thead th {\n",
       "        text-align: right;\n",
       "    }\n",
       "</style>\n",
       "<table border=\"1\" class=\"dataframe\">\n",
       "  <thead>\n",
       "    <tr style=\"text-align: right;\">\n",
       "      <th></th>\n",
       "      <th>precio_por_m2_total</th>\n",
       "      <th>rooms</th>\n",
       "      <th>cantidad_grupo</th>\n",
       "      <th>description_pileta</th>\n",
       "      <th>description_terraza</th>\n",
       "      <th>description_parrilla</th>\n",
       "      <th>description_patio</th>\n",
       "      <th>fin_propiedad</th>\n",
       "      <th>tipo_propiedad_apartment</th>\n",
       "      <th>tipo_propiedad_house</th>\n",
       "      <th>...</th>\n",
       "      <th>Santa Fe_Santa Fe</th>\n",
       "      <th>Santa Fe_Santo Tomé</th>\n",
       "      <th>Santa Fe_Villa Constitución</th>\n",
       "      <th>Tierra Del Fuego_Río Grande</th>\n",
       "      <th>Tucumán_San Miguel de Tucumán</th>\n",
       "      <th>Tucumán_Tafí del Valle</th>\n",
       "      <th>Tucumán_Yerba Buena</th>\n",
       "      <th>descripcion_cochera</th>\n",
       "      <th>descripcion_lavadero</th>\n",
       "      <th>descripcion_balcon</th>\n",
       "    </tr>\n",
       "  </thead>\n",
       "  <tbody>\n",
       "    <tr>\n",
       "      <th>0</th>\n",
       "      <td>1127.272727</td>\n",
       "      <td>NaN</td>\n",
       "      <td>126</td>\n",
       "      <td>0</td>\n",
       "      <td>0</td>\n",
       "      <td>0</td>\n",
       "      <td>0</td>\n",
       "      <td>1</td>\n",
       "      <td>0</td>\n",
       "      <td>0</td>\n",
       "      <td>...</td>\n",
       "      <td>0</td>\n",
       "      <td>0</td>\n",
       "      <td>0</td>\n",
       "      <td>0</td>\n",
       "      <td>0</td>\n",
       "      <td>0</td>\n",
       "      <td>0</td>\n",
       "      <td>0</td>\n",
       "      <td>0</td>\n",
       "      <td>0</td>\n",
       "    </tr>\n",
       "    <tr>\n",
       "      <th>1</th>\n",
       "      <td>1731.810028</td>\n",
       "      <td>NaN</td>\n",
       "      <td>1556</td>\n",
       "      <td>0</td>\n",
       "      <td>0</td>\n",
       "      <td>0</td>\n",
       "      <td>0</td>\n",
       "      <td>1</td>\n",
       "      <td>1</td>\n",
       "      <td>0</td>\n",
       "      <td>...</td>\n",
       "      <td>0</td>\n",
       "      <td>0</td>\n",
       "      <td>0</td>\n",
       "      <td>0</td>\n",
       "      <td>0</td>\n",
       "      <td>0</td>\n",
       "      <td>0</td>\n",
       "      <td>1</td>\n",
       "      <td>0</td>\n",
       "      <td>0</td>\n",
       "    </tr>\n",
       "    <tr>\n",
       "      <th>2</th>\n",
       "      <td>1309.090909</td>\n",
       "      <td>NaN</td>\n",
       "      <td>144</td>\n",
       "      <td>0</td>\n",
       "      <td>0</td>\n",
       "      <td>0</td>\n",
       "      <td>0</td>\n",
       "      <td>1</td>\n",
       "      <td>1</td>\n",
       "      <td>0</td>\n",
       "      <td>...</td>\n",
       "      <td>0</td>\n",
       "      <td>0</td>\n",
       "      <td>0</td>\n",
       "      <td>0</td>\n",
       "      <td>0</td>\n",
       "      <td>0</td>\n",
       "      <td>0</td>\n",
       "      <td>0</td>\n",
       "      <td>0</td>\n",
       "      <td>0</td>\n",
       "    </tr>\n",
       "  </tbody>\n",
       "</table>\n",
       "<p>3 rows × 240 columns</p>\n",
       "</div>"
      ],
      "text/plain": [
       "   precio_por_m2_total  rooms  cantidad_grupo  description_pileta  \\\n",
       "0          1127.272727    NaN             126                   0   \n",
       "1          1731.810028    NaN            1556                   0   \n",
       "2          1309.090909    NaN             144                   0   \n",
       "\n",
       "   description_terraza  description_parrilla  description_patio  \\\n",
       "0                    0                     0                  0   \n",
       "1                    0                     0                  0   \n",
       "2                    0                     0                  0   \n",
       "\n",
       "   fin_propiedad  tipo_propiedad_apartment  tipo_propiedad_house  ...  \\\n",
       "0              1                         0                     0  ...   \n",
       "1              1                         1                     0  ...   \n",
       "2              1                         1                     0  ...   \n",
       "\n",
       "   Santa Fe_Santa Fe  Santa Fe_Santo Tomé  Santa Fe_Villa Constitución  \\\n",
       "0                  0                    0                            0   \n",
       "1                  0                    0                            0   \n",
       "2                  0                    0                            0   \n",
       "\n",
       "   Tierra Del Fuego_Río Grande  Tucumán_San Miguel de Tucumán  \\\n",
       "0                            0                              0   \n",
       "1                            0                              0   \n",
       "2                            0                              0   \n",
       "\n",
       "   Tucumán_Tafí del Valle  Tucumán_Yerba Buena  descripcion_cochera  \\\n",
       "0                       0                    0                    0   \n",
       "1                       0                    0                    1   \n",
       "2                       0                    0                    0   \n",
       "\n",
       "   descripcion_lavadero  descripcion_balcon  \n",
       "0                     0                   0  \n",
       "1                     0                   0  \n",
       "2                     0                   0  \n",
       "\n",
       "[3 rows x 240 columns]"
      ]
     },
     "execution_count": 91,
     "metadata": {},
     "output_type": "execute_result"
    }
   ],
   "source": [
    "data_test.head(3)"
   ]
  },
  {
   "cell_type": "markdown",
   "metadata": {},
   "source": [
    "Se genera un modelo de Regresión Lineal Múltiple utilizando las variables  **provincia_localidad** (convertida en dummie), **tipo de propiedad** (convertida en dummie) y si cuenta con **pileta**, **parrilla**, **patio**, **terraza**, **balcon**, **cochera** y **lavadero**."
   ]
  },
  {
   "cell_type": "code",
   "execution_count": 92,
   "metadata": {},
   "outputs": [
    {
     "name": "stdout",
     "output_type": "stream",
     "text": [
      "R2 de train:  0.7268\n",
      "R2 de test: 0.7317\n"
     ]
    },
    {
     "data": {
      "text/plain": [
       "LinearRegression()"
      ]
     },
     "execution_count": 92,
     "metadata": {},
     "output_type": "execute_result"
    }
   ],
   "source": [
    "y_amen =data_test[\"precio_por_m2_total\"]\n",
    "X_amen = data_test.drop([\"fin_propiedad\", \"cantidad_grupo\", \"precio_por_m2_total\", \"rooms\"], axis=1)\n",
    "regresion_lineal(X_amen, y_amen, 0.25)\n"
   ]
  },
  {
   "cell_type": "markdown",
   "metadata": {},
   "source": [
    "##### Oferta de propiedades\n",
    "Analizando que es posible que la oferta de propidades pueda tener influencia en el precio de las mismas, se incluye la variable **cantidad_grupo** que se refiere a la cantidad de publicaciones por **tipo de propiedad** por **provincia_localidad**."
   ]
  },
  {
   "cell_type": "code",
   "execution_count": 93,
   "metadata": {},
   "outputs": [
    {
     "name": "stdout",
     "output_type": "stream",
     "text": [
      "R2 de train:  0.7268\n",
      "R2 de test: 0.7318\n"
     ]
    },
    {
     "data": {
      "text/plain": [
       "LinearRegression()"
      ]
     },
     "execution_count": 93,
     "metadata": {},
     "output_type": "execute_result"
    }
   ],
   "source": [
    "y_amen2 =data_test[\"precio_por_m2_total\"]\n",
    "X_amen2 = data_test.drop([\"precio_por_m2_total\", \"fin_propiedad\", \"rooms\"], axis=1) \n",
    "regresion_lineal(X_amen2, y_amen2, 0.25)"
   ]
  },
  {
   "cell_type": "markdown",
   "metadata": {},
   "source": [
    "En este caso el nuevo modelo tiene un R2 levemente mejor pero sigue existiendo el problema del sesgo."
   ]
  },
  {
   "cell_type": "markdown",
   "metadata": {},
   "source": [
    "##### Cantidad de Ambientes\n",
    "\n"
   ]
  },
  {
   "cell_type": "markdown",
   "metadata": {},
   "source": [
    "Se intentá completar la variable **rooms** que había sido de lado por tener muchos datos nulos a fin de poder inlcuirla como variable explicativa. Se realiza a través de búsqueda con expresiones regulares."
   ]
  },
  {
   "cell_type": "code",
   "execution_count": 94,
   "metadata": {},
   "outputs": [],
   "source": [
    "#Extraigo ambientes de descripción   \n",
    "def get_ambientes(s, nombre_hab):\n",
    "    palabras = {'mono':1, 'dos':2, 'tres':3, 'cuatro':4, 'cinco':5, 'seis':6,'unico':1,'único':1}\n",
    "    if pd.isnull(s):\n",
    "        return np.nan\n",
    "    match = re.search(r'\\b([\\d\\w]+?)\\s?' + nombre_hab, s, flags = re.IGNORECASE)    \n",
    "    if match is None:\n",
    "        return None\n",
    "    elif match.group(1).isdigit():\n",
    "        return int(match.group(1))\n",
    "    else:\n",
    "        for p in palabras.keys():\n",
    "            if p in match.group(1).lower():\n",
    "                return palabras[p]"
   ]
  },
  {
   "cell_type": "code",
   "execution_count": 95,
   "metadata": {},
   "outputs": [
    {
     "data": {
      "text/plain": [
       "63949"
      ]
     },
     "execution_count": 95,
     "metadata": {},
     "output_type": "execute_result"
    }
   ],
   "source": [
    "data_loc['amb_desc'] = data_loc['descripcion'].apply(lambda x:get_ambientes(x,'amb'))\n",
    "data_loc['dorm_desc'] = data_loc['descripcion'].apply(lambda x:get_ambientes(x,'dorm'))\n",
    "data_loc['hab_desc'] = data_loc['descripcion'].apply(lambda x:get_ambientes(x,'hab'))\n",
    "data_loc['rooms'].isnull().sum()"
   ]
  },
  {
   "cell_type": "code",
   "execution_count": 96,
   "metadata": {},
   "outputs": [
    {
     "data": {
      "text/plain": [
       "18414"
      ]
     },
     "execution_count": 96,
     "metadata": {},
     "output_type": "execute_result"
    }
   ],
   "source": [
    "data_loc['rooms'].fillna(data_loc['amb_desc'],inplace=True)\n",
    "data_loc['rooms'].fillna(data_loc['dorm_desc'] +1,inplace=True)\n",
    "data_loc['rooms'].fillna(data_loc['hab_desc'] +1,inplace=True)\n",
    "data_loc['rooms'].isnull().sum()"
   ]
  },
  {
   "cell_type": "code",
   "execution_count": 141,
   "metadata": {},
   "outputs": [
    {
     "data": {
      "text/plain": [
       "17.284298265375085"
      ]
     },
     "execution_count": 141,
     "metadata": {},
     "output_type": "execute_result"
    }
   ],
   "source": [
    "data_loc['rooms'].isnull().sum()/data_loc.shape[0]*100"
   ]
  },
  {
   "cell_type": "markdown",
   "metadata": {},
   "source": [
    "Luego de la imputación sigue habiendo 18.414 datos (17.28%) nulos. Se realizará un modelo de Reresión Lineal Múltiple utilizando esta variable, quitando del dataset los datos nulos."
   ]
  },
  {
   "cell_type": "code",
   "execution_count": 97,
   "metadata": {},
   "outputs": [],
   "source": [
    "columnas=['id', 'tipo_propiedad', 'provincia', 'lat-lon', 'superficia_total_m2','superficia_cubierta_m2', \"provincia_localidad\",'descripcion','titulo', 'barrio', 'localidad', 'price_m2_prom', 'price_m2_desv','coef_var', 'amb_desc', 'dorm_desc', 'hab_desc']\n",
    "data_test_2 = data_loc.drop(columnas, axis=1)\n"
   ]
  },
  {
   "cell_type": "code",
   "execution_count": 98,
   "metadata": {},
   "outputs": [],
   "source": [
    "data_test_3=data_test_2.loc[data_loc['rooms'].notnull()]"
   ]
  },
  {
   "cell_type": "code",
   "execution_count": 99,
   "metadata": {},
   "outputs": [
    {
     "name": "stdout",
     "output_type": "stream",
     "text": [
      "R2 de train:  0.7466\n",
      "R2 de test: 0.7421\n"
     ]
    },
    {
     "data": {
      "text/plain": [
       "LinearRegression()"
      ]
     },
     "execution_count": 99,
     "metadata": {},
     "output_type": "execute_result"
    }
   ],
   "source": [
    "y_amb =data_test_3[\"precio_por_m2_total\"]\n",
    "X_amb = data_test_3.drop([\"precio_por_m2_total\", \"fin_propiedad\"], axis=1) \n",
    "regresion_lineal(X_amb, y_amb, 0.25)"
   ]
  },
  {
   "cell_type": "markdown",
   "metadata": {},
   "source": [
    "Se observa una leve mejora del modelo pero se considera que no es lo suficientemente significativa. Dado que implica quitar el 17.28% de los registros, se define no utilizarla."
   ]
  },
  {
   "cell_type": "markdown",
   "metadata": {},
   "source": [
    "#### AMBA\n",
    "\n",
    "Se intenta realizar el modelo utilizando unicamente las el Área Metropolitana de Buenos Aires: **\"Bs.As. G.B.A. Zona Norte\"**, **\"Bs.As. G.B.A. Zona Oeste\"**, **\"Bs.As. G.B.A. Zona Sur\"** y **\"Capital Federal\"**"
   ]
  },
  {
   "cell_type": "code",
   "execution_count": 100,
   "metadata": {},
   "outputs": [],
   "source": [
    "#Se filtran el dataset\n",
    "prov = data_loc[\"provincia\"]    \n",
    "mask = (prov ==\"Bs.As. G.B.A. Zona Norte\") |(prov ==\"Bs.As. G.B.A. Zona Oeste\")|(prov ==\"Bs.As. G.B.A. Zona Sur\") |(prov ==\"Capital Federal\") \n",
    "data_amba = data_loc.loc[mask, :]\n"
   ]
  },
  {
   "cell_type": "code",
   "execution_count": 101,
   "metadata": {},
   "outputs": [],
   "source": [
    "#Se crea el dataset para elmodelo de regresión\n",
    "columnas=['id', 'tipo_propiedad', 'provincia', 'lat-lon', \"provincia_localidad\", 'superficia_total_m2','superficia_cubierta_m2', 'descripcion','titulo', 'barrio', 'localidad', 'price_m2_prom', 'price_m2_desv','coef_var', \"rooms\", \"amb_desc\", \"dorm_desc\", \"hab_desc\"]\n",
    "data_amba_lr = data_amba.drop(columnas, axis=1)\n"
   ]
  },
  {
   "cell_type": "code",
   "execution_count": 102,
   "metadata": {},
   "outputs": [
    {
     "name": "stdout",
     "output_type": "stream",
     "text": [
      "R2 de train:  0.7061\n",
      "R2 de test: 0.7025\n"
     ]
    },
    {
     "data": {
      "text/plain": [
       "LinearRegression()"
      ]
     },
     "execution_count": 102,
     "metadata": {},
     "output_type": "execute_result"
    }
   ],
   "source": [
    "y_amba =data_amba_lr[\"precio_por_m2_total\"]\n",
    "X_amba = data_amba_lr.drop([\"fin_propiedad\", \"precio_por_m2_total\"], axis=1)\n",
    "regresion_lineal(X_amba, y_amba, 0.25)"
   ]
  },
  {
   "cell_type": "markdown",
   "metadata": {},
   "source": [
    "#### Capital Federal\n",
    "\n",
    "Se intentará llevar a cabo del modelo únicamente con *Capital Federal*."
   ]
  },
  {
   "cell_type": "code",
   "execution_count": 103,
   "metadata": {},
   "outputs": [],
   "source": [
    "#Se filtran los datos de Capital Federal\n",
    "mask = data_loc[\"provincia\"]==\"Capital Federal\"\n",
    "data_cap = data_loc.loc[mask, :]\n",
    "\n",
    "#Se genera el dataset para el modelo de regresión\n",
    "columnas=['id', 'tipo_propiedad', 'provincia', 'lat-lon', \"provincia_localidad\", 'superficia_total_m2','superficia_cubierta_m2', 'descripcion','titulo', 'barrio', 'localidad', 'price_m2_prom', 'price_m2_desv','coef_var', \"rooms\", \"amb_desc\", \"dorm_desc\", \"hab_desc\"]\n",
    "data_cap_lr = data_cap.drop(columnas, axis=1)\n"
   ]
  },
  {
   "cell_type": "code",
   "execution_count": 104,
   "metadata": {},
   "outputs": [
    {
     "name": "stdout",
     "output_type": "stream",
     "text": [
      "R2 de train:  0.598\n",
      "R2 de test: 0.6044\n"
     ]
    },
    {
     "data": {
      "text/plain": [
       "LinearRegression()"
      ]
     },
     "execution_count": 104,
     "metadata": {},
     "output_type": "execute_result"
    }
   ],
   "source": [
    "y_caba =data_cap_lr[\"precio_por_m2_total\"]\n",
    "X_caba = data_cap_lr.drop([\"fin_propiedad\", \"precio_por_m2_total\"], axis=1)\n",
    "regresion_lineal(X_caba, y_caba, 0.25)"
   ]
  },
  {
   "cell_type": "markdown",
   "metadata": {},
   "source": [
    "Se concluye que utilizando solamente los datos de Capital Federal o de AMBA el rendimiento del modelo empeora,  por lo que se define realizar el modelo con la totalidad de los datos del dataset."
   ]
  },
  {
   "cell_type": "markdown",
   "metadata": {},
   "source": [
    "#### Confirmar métricas\n",
    "\n",
    "##### Cross Validation\n",
    "\n",
    "Para asegurarnos estar midiendo correctamente la performance, se realiza un método de cross-validation para observar la capacidad de predecir del modelo."
   ]
  },
  {
   "cell_type": "code",
   "execution_count": 105,
   "metadata": {},
   "outputs": [],
   "source": [
    "from sklearn.model_selection import cross_val_score\n"
   ]
  },
  {
   "cell_type": "code",
   "execution_count": 109,
   "metadata": {},
   "outputs": [],
   "source": [
    "X_train, X_test, y_train, y_test = train_test_split(X_amen2, y_amen2, random_state=1)"
   ]
  },
  {
   "cell_type": "code",
   "execution_count": 110,
   "metadata": {},
   "outputs": [
    {
     "data": {
      "text/plain": [
       "array([0.71311125, 0.71990469, 0.72912576, 0.72240407, 0.72518332,\n",
       "       0.73072697, 0.72005569, 0.72893733, 0.73545699, 0.71636427,\n",
       "       0.72559451, 0.73103702, 0.72711885, 0.73418127, 0.72149123])"
      ]
     },
     "execution_count": 110,
     "metadata": {},
     "output_type": "execute_result"
    }
   ],
   "source": [
    "cross_score = cross_val_score(estimator=LinearRegression(), X=X_train, y=y_train, cv=15, scoring=\"r2\")\n",
    "cross_score"
   ]
  },
  {
   "cell_type": "code",
   "execution_count": 111,
   "metadata": {},
   "outputs": [
    {
     "name": "stdout",
     "output_type": "stream",
     "text": [
      "0.7253795471344783\n",
      "0.006237015503772445\n"
     ]
    }
   ],
   "source": [
    "print(cross_score.mean())\n",
    "print(cross_score.std())"
   ]
  },
  {
   "cell_type": "markdown",
   "metadata": {},
   "source": [
    "El resultado es similar al que obteniamos midiendo el R2."
   ]
  },
  {
   "cell_type": "markdown",
   "metadata": {},
   "source": [
    "##### Datos de entrenamiento y testeo\n",
    "Se generan modelos modificando la cantidad de datos de entrenamiento y testeo para observar si hay modificaciones en los resultados y comprobar que se realiza correctamente la operación."
   ]
  },
  {
   "cell_type": "code",
   "execution_count": 112,
   "metadata": {},
   "outputs": [
    {
     "name": "stdout",
     "output_type": "stream",
     "text": [
      "R2 de train:  0.7274\n",
      "R2 de test: 0.7321\n"
     ]
    },
    {
     "data": {
      "text/plain": [
       "LinearRegression()"
      ]
     },
     "execution_count": 112,
     "metadata": {},
     "output_type": "execute_result"
    }
   ],
   "source": [
    "y_1 =data_test[\"precio_por_m2_total\"]\n",
    "X_1 = data_test.drop([\"precio_por_m2_total\", \"fin_propiedad\", \"rooms\"], axis=1) \n",
    "regresion_lineal(X_1, y_1, 0.15)"
   ]
  },
  {
   "cell_type": "code",
   "execution_count": 113,
   "metadata": {},
   "outputs": [
    {
     "name": "stdout",
     "output_type": "stream",
     "text": [
      "R2 de train:  0.7277\n",
      "R2 de test: 0.7288\n"
     ]
    },
    {
     "data": {
      "text/plain": [
       "LinearRegression()"
      ]
     },
     "execution_count": 113,
     "metadata": {},
     "output_type": "execute_result"
    }
   ],
   "source": [
    "y_2 =data_test[\"precio_por_m2_total\"]\n",
    "X_2 = data_test.drop([\"precio_por_m2_total\", \"fin_propiedad\", \"rooms\"], axis=1) \n",
    "regresion_lineal(X_2, y_2, 0.3)"
   ]
  },
  {
   "cell_type": "code",
   "execution_count": 114,
   "metadata": {},
   "outputs": [
    {
     "name": "stdout",
     "output_type": "stream",
     "text": [
      "R2 de train:  0.7289\n",
      "R2 de test: 0.7263\n"
     ]
    },
    {
     "data": {
      "text/plain": [
       "LinearRegression()"
      ]
     },
     "execution_count": 114,
     "metadata": {},
     "output_type": "execute_result"
    }
   ],
   "source": [
    "y_3 =data_test[\"precio_por_m2_total\"]\n",
    "X_3 = data_test.drop([\"precio_por_m2_total\", \"fin_propiedad\", \"rooms\"], axis=1) \n",
    "regresion_lineal(X_3, y_3, 0.5)"
   ]
  },
  {
   "cell_type": "markdown",
   "metadata": {},
   "source": [
    "Se puede observar que variando el porcentaje de datos de entrenamiento y testeo, los resultados de R2 son similares."
   ]
  },
  {
   "cell_type": "markdown",
   "metadata": {},
   "source": [
    "### Conclusión\n",
    "\n",
    "El modelo que tiene un mejor rendimiento es el de Regresión Lineal Múltiple con las variables **provincia_localidad** (convertida en dummie), **tipo de propiedad** (convertida en dummie), **cantidad_grupo** y si cuenta con **pileta**, **parrilla**, **patio**, **terraza**, **balcon**, **cochera** y **lavadero**."
   ]
  },
  {
   "cell_type": "code",
   "execution_count": 115,
   "metadata": {},
   "outputs": [
    {
     "name": "stdout",
     "output_type": "stream",
     "text": [
      "R2 de train:  0.7268\n",
      "R2 de test: 0.7318\n"
     ]
    },
    {
     "data": {
      "text/plain": [
       "LinearRegression()"
      ]
     },
     "execution_count": 115,
     "metadata": {},
     "output_type": "execute_result"
    }
   ],
   "source": [
    "y =data_test[\"precio_por_m2_total\"]\n",
    "X = data_test.drop([\"precio_por_m2_total\", \"fin_propiedad\", \"rooms\"], axis=1) \n",
    "regresion_lineal(X, y, 0.25)"
   ]
  }
 ],
 "metadata": {
  "kernelspec": {
   "display_name": "Python 3",
   "language": "python",
   "name": "python3"
  },
  "language_info": {
   "codemirror_mode": {
    "name": "ipython",
    "version": 3
   },
   "file_extension": ".py",
   "mimetype": "text/x-python",
   "name": "python",
   "nbconvert_exporter": "python",
   "pygments_lexer": "ipython3",
   "version": "3.7.9"
  }
 },
 "nbformat": 4,
 "nbformat_minor": 4
}
